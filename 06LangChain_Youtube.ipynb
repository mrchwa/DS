{
  "cells": [
    {
      "attachments": {},
      "cell_type": "markdown",
      "source": [
        "# LangChain + Youtube\n",
        "**2024 삼성전자 무선사업부 생성형 AI 교육**"
      ],
      "metadata": {
        "nteract": {
          "transient": {
            "deleting": false
          }
        }
      }
    },
    {
      "attachments": {},
      "cell_type": "markdown",
      "source": [
        "1. 기본 패키지 설치\n",
        "2. Azure 계정 연결\n",
        "3. Youtube 영상 불러오기\n",
        "4. LLM 생성\n",
        "5. 데이터 Split\n",
        "6. Chain 연결\n",
        "\n",
        "\n",
        "* 유사한 서비스 Lilys.ai [https://lilys.ai](https://lilys.ai)"
      ],
      "metadata": {
        "nteract": {
          "transient": {
            "deleting": false
          }
        }
      }
    },
    {
      "cell_type": "code",
      "source": [
        "# 1. 패키지 설치\n",
        "\n",
        "%pip install pytube\n",
        "%pip install youtube-transcript-api"
      ],
      "outputs": [
        {
          "output_type": "stream",
          "name": "stdout",
          "text": "Collecting pytube\n  Downloading pytube-15.0.0-py3-none-any.whl.metadata (5.0 kB)\nDownloading pytube-15.0.0-py3-none-any.whl (57 kB)\n\u001b[2K   \u001b[90m━━━━━━━━━━━━━━━━━━━━━━━━━━━━━━━━━━━━━━━━\u001b[0m \u001b[32m57.6/57.6 kB\u001b[0m \u001b[31m1.2 MB/s\u001b[0m eta \u001b[36m0:00:00\u001b[0ma \u001b[36m0:00:01\u001b[0m\n\u001b[?25hInstalling collected packages: pytube\nSuccessfully installed pytube-15.0.0\nNote: you may need to restart the kernel to use updated packages.\nCollecting youtube-transcript-api\n  Downloading youtube_transcript_api-0.6.2-py3-none-any.whl.metadata (15 kB)\nRequirement already satisfied: requests in /anaconda/envs/azureml_py310_sdkv2/lib/python3.10/site-packages (from youtube-transcript-api) (2.32.3)\nRequirement already satisfied: charset-normalizer<4,>=2 in /anaconda/envs/azureml_py310_sdkv2/lib/python3.10/site-packages (from requests->youtube-transcript-api) (3.3.2)\nRequirement already satisfied: idna<4,>=2.5 in /anaconda/envs/azureml_py310_sdkv2/lib/python3.10/site-packages (from requests->youtube-transcript-api) (3.7)\nRequirement already satisfied: urllib3<3,>=1.21.1 in /anaconda/envs/azureml_py310_sdkv2/lib/python3.10/site-packages (from requests->youtube-transcript-api) (2.2.1)\nRequirement already satisfied: certifi>=2017.4.17 in /anaconda/envs/azureml_py310_sdkv2/lib/python3.10/site-packages (from requests->youtube-transcript-api) (2024.6.2)\nDownloading youtube_transcript_api-0.6.2-py3-none-any.whl (24 kB)\nInstalling collected packages: youtube-transcript-api\nSuccessfully installed youtube-transcript-api-0.6.2\nNote: you may need to restart the kernel to use updated packages.\n"
        }
      ],
      "execution_count": 1,
      "metadata": {
        "colab": {
          "base_uri": "https://localhost:8080/"
        },
        "executionInfo": {
          "elapsed": 30391,
          "status": "ok",
          "timestamp": 1700202810498,
          "user": {
            "displayName": "Mi jeong Jeon",
            "userId": "17703911449277896138"
          },
          "user_tz": -540
        },
        "gather": {
          "logged": 1719300069173
        },
        "id": "arX8UDk3-N9z",
        "jupyter": {
          "outputs_hidden": true
        },
        "outputId": "bea93f75-87ca-4314-db35-00fd8db47f89"
      }
    },
    {
      "cell_type": "code",
      "source": [
        "# 2. 기본 패키지 설정 & AzureOpenAI 환경설정\n",
        "\n",
        "# 환경 변수 설정!! \n",
        "import os\n",
        "import langchain\n",
        "\n",
        "from config_azure import (\n",
        "    AZURE_OPENAI_API_VERSION,\n",
        "    AZURE_OPENAI_ENDPOINT,\n",
        "    AZURE_OPENAI_KEY\n",
        ")\n",
        "# lagchain 사용시 반드시 환경변수 값 사용\n",
        "os.environ[\"OPENAI_API_TYPE\"] = \"azure\"\n",
        "os.environ[\"AZURE_OPENAI_API_KEY\"] = AZURE_OPENAI_KEY\n",
        "os.environ[\"AZURE_OPENAI_ENDPOINT\"] = AZURE_OPENAI_ENDPOINT\n",
        "os.environ[\"OPENAI_API_VERSION\"] = AZURE_OPENAI_API_VERSION"
      ],
      "outputs": [],
      "execution_count": 1,
      "metadata": {
        "executionInfo": {
          "elapsed": 7,
          "status": "ok",
          "timestamp": 1700202982462,
          "user": {
            "displayName": "Mi jeong Jeon",
            "userId": "17703911449277896138"
          },
          "user_tz": -540
        },
        "gather": {
          "logged": 1719300909818
        },
        "id": "CNIVswcz-m3x"
      }
    },
    {
      "cell_type": "code",
      "source": [
        "# 3. Youtube 영상 데이터 읽어오기\n",
        "\n",
        "from langchain.document_loaders import YoutubeLoader\n",
        "\n",
        "loader = YoutubeLoader.from_youtube_url(\"https://youtu.be/ZFELB6yKY-E?si=rjJuhQN8hLd2bQ-m\")\n",
        "# loader = YoutubeLoader.from_youtube_url(\"https://youtu.be/5WVgXjXbLEg?si=9OizeLL6tGTtI-I4\",language=['ko'],add_video_info=True)\n",
        "data = loader.load()"
      ],
      "outputs": [],
      "execution_count": 18,
      "metadata": {
        "colab": {
          "base_uri": "https://localhost:8080/"
        },
        "executionInfo": {
          "elapsed": 1764,
          "status": "ok",
          "timestamp": 1700203303655,
          "user": {
            "displayName": "Mi jeong Jeon",
            "userId": "17703911449277896138"
          },
          "user_tz": -540
        },
        "gather": {
          "logged": 1719302422738
        },
        "id": "UF2O_eG9_qZG",
        "outputId": "496c5eea-fd10-4fa1-dd4d-54554da9222a"
      }
    },
    {
      "cell_type": "code",
      "source": [
        "# 4. Azure OpenAI LLM(Chat Model 연결)\n",
        "\n",
        "from langchain_openai import AzureChatOpenAI\n",
        "\n",
        "chat_llm = AzureChatOpenAI(\n",
        "    deployment_name=\"gpt-35-turbo\",\n",
        "    max_tokens=512,\n",
        "    temperature=0.2,\n",
        ")"
      ],
      "outputs": [],
      "execution_count": 19,
      "metadata": {
        "executionInfo": {
          "elapsed": 1633,
          "status": "ok",
          "timestamp": 1700203522532,
          "user": {
            "displayName": "Mi jeong Jeon",
            "userId": "17703911449277896138"
          },
          "user_tz": -540
        },
        "gather": {
          "logged": 1719302430979
        },
        "id": "if61mMLmANrJ"
      }
    },
    {
      "cell_type": "code",
      "source": [
        "# 토큰 수 확인\n",
        "chat_llm.get_num_tokens(data[0].page_content)"
      ],
      "outputs": [
        {
          "output_type": "execute_result",
          "execution_count": 20,
          "data": {
            "text/plain": "2100"
          },
          "metadata": {}
        }
      ],
      "execution_count": 20,
      "metadata": {
        "gather": {
          "logged": 1719302435466
        },
        "jupyter": {
          "outputs_hidden": false,
          "source_hidden": false
        },
        "nteract": {
          "transient": {
            "deleting": false
          }
        }
      }
    },
    {
      "cell_type": "code",
      "source": [
        "# 5. Token Split\n",
        "\n",
        "from langchain.text_splitter import TokenTextSplitter\n",
        "\n",
        "splitter = TokenTextSplitter(chunk_size=1000, chunk_overlap=50)\n",
        "docs = splitter.split_documents(data)"
      ],
      "outputs": [],
      "execution_count": 22,
      "metadata": {
        "colab": {
          "base_uri": "https://localhost:8080/"
        },
        "executionInfo": {
          "elapsed": 6080,
          "status": "ok",
          "timestamp": 1700203721187,
          "user": {
            "displayName": "Mi jeong Jeon",
            "userId": "17703911449277896138"
          },
          "user_tz": -540
        },
        "gather": {
          "logged": 1719303107813
        },
        "id": "S2voBSsUCC0X",
        "jupyter": {
          "outputs_hidden": true
        },
        "outputId": "360f8cd0-3f59-43ee-a037-a7384ca2903e"
      }
    },
    {
      "cell_type": "code",
      "source": [
        "# 사용자 질문 기반 아니라, 요약은 임베딩 과정 필요하지 않음\n",
        "\n",
        "# 6. Summarize Chain without LCEL\n",
        "\n",
        "from langchain.chains.summarize import load_summarize_chain\n",
        "\n",
        "chain = load_summarize_chain(\n",
        "    llm=chat_llm,\n",
        "    chain_type=\"map_reduce\",\n",
        "    return_intermediate_steps=True\n",
        ")\n",
        "\n",
        "chain.invoke({\"input_documents\" : docs}, return_only_outputs=True)"
      ],
      "outputs": [
        {
          "output_type": "execute_result",
          "execution_count": 23,
          "data": {
            "text/plain": "{'intermediate_steps': ['Tesla is making plans to change the cathode refinery process for their self-developed 4680 cell and advancing their lithium refinery in South Texas. They plan to leverage humanoid robot Optimus in their factories to further accelerate battery production. Musk envisions a future where there is at least one robot per human. Tesla aims to produce about a billion robots per year hoping to capture at least 10% of the market. Tesla has made strides to enhance the performance of its 4680 battery and is exploring nmc 973 which might be introduced later in 2024. Tesla is expanding its battery production capabilities with strategic moves in different locations.',\n  'Tesla is expanding its battery production capabilities with strategic moves in different locations, including a new facility for LFP batteries in Sparks, Nevada, and exploring the possibility of opening a battery plant in Indonesia. Other companies, such as BYD and CATL, are also advancing battery technology, with the introduction of 6C fast charging LFP batteries. However, the industry is also exploring alternative battery chemistries, such as solid state or sodium batteries. Currently, China-based CATL is the leading lithium-ion battery maker with a market share of nearly 37%.',\n  'China-based CATL emerged as the leading lithium-ion battery maker with a market share of nearly 37%, followed by BYD with 15.8% and LG Energy Solution with 13.6%. Tesla is investing in LFP cell development and new facilities, raising hopes of becoming a major player in the battery manufacturing industry.'],\n 'output_text': 'Tesla is expanding its battery production capabilities with strategic moves in different locations, including a new facility for LFP batteries in Sparks, Nevada, and exploring the possibility of opening a battery plant in Indonesia. They plan to leverage humanoid robot Optimus in their factories to further accelerate battery production. Tesla aims to produce about a billion robots per year hoping to capture at least 10% of the market. Tesla is investing in LFP cell development and new facilities, raising hopes of becoming a major player in the battery manufacturing industry. However, other companies, such as BYD and CATL, are also advancing battery technology, and the industry is exploring alternative battery chemistries, such as solid state or sodium batteries.'}"
          },
          "metadata": {}
        }
      ],
      "execution_count": 23,
      "metadata": {
        "colab": {
          "base_uri": "https://localhost:8080/"
        },
        "executionInfo": {
          "elapsed": 48849,
          "status": "ok",
          "timestamp": 1700204022214,
          "user": {
            "displayName": "Mi jeong Jeon",
            "userId": "17703911449277896138"
          },
          "user_tz": -540
        },
        "gather": {
          "logged": 1719303119020
        },
        "id": "tXzD_W_nCdRf",
        "outputId": "46886717-938c-4292-806e-578a12147788"
      }
    },
    {
      "cell_type": "code",
      "source": [
        "chain"
      ],
      "outputs": [
        {
          "output_type": "execute_result",
          "execution_count": 14,
          "data": {
            "text/plain": "MapReduceDocumentsChain(llm_chain=LLMChain(prompt=PromptTemplate(input_variables=['text'], template='{text}\\n# 유튜브 부분 영상 자막을 한글로 요약 정리한다\\n# 가독성을 높이기 위해 핵심 문장을 3~5개 리스트로 정리한다\\n# 예시\\n* 이 영상에서는 xx을 설명한다\\n* xx이 yy되었음을 zz를 통해 알 수 있다\\n'), llm=AzureChatOpenAI(client=<openai.resources.chat.completions.Completions object at 0x7f3ef8375450>, async_client=<openai.resources.chat.completions.AsyncCompletions object at 0x7f3ef8376b60>, temperature=0.2, openai_api_key=SecretStr('**********'), openai_proxy='', max_tokens=512, azure_endpoint='https://aoai-31-cgy.openai.azure.com/', deployment_name='gpt-35-turbo', openai_api_version='2024-02-15-preview', openai_api_type='azure')), reduce_documents_chain=ReduceDocumentsChain(combine_documents_chain=StuffDocumentsChain(llm_chain=LLMChain(prompt=PromptTemplate(input_variables=['text'], template='{text}\\n# 여러 개의 자막 요약본을 종합하여 영상의 전체 내용을 한글로 요약한다\\n'), llm=AzureChatOpenAI(client=<openai.resources.chat.completions.Completions object at 0x7f3ef8375450>, async_client=<openai.resources.chat.completions.AsyncCompletions object at 0x7f3ef8376b60>, temperature=0.2, openai_api_key=SecretStr('**********'), openai_proxy='', max_tokens=512, azure_endpoint='https://aoai-31-cgy.openai.azure.com/', deployment_name='gpt-35-turbo', openai_api_version='2024-02-15-preview', openai_api_type='azure')), document_variable_name='text')), document_variable_name='text', return_intermediate_steps=True)"
          },
          "metadata": {}
        }
      ],
      "execution_count": 14,
      "metadata": {
        "jupyter": {
          "source_hidden": false,
          "outputs_hidden": false
        },
        "nteract": {
          "transient": {
            "deleting": false
          }
        },
        "gather": {
          "logged": 1719301730545
        }
      }
    },
    {
      "cell_type": "code",
      "source": [
        "# 7. Custom Prompt without LCEL\n",
        "\n",
        "from langchain import PromptTemplate\n",
        "from langchain.chains.summarize import load_summarize_chain\n",
        "\n",
        "prompt_template = \"\"\"{text}\n",
        "# 유튜브 부분 영상 자막을 한글로 요약 정리한다\n",
        "# 가독성을 높이기 위해 핵심 문장을 3~5개 리스트로 정리한다\n",
        "# 예시\n",
        "* 이 영상에서는 xx을 설명한다\n",
        "* xx이 yy되었음을 zz를 통해 알 수 있다\n",
        "\"\"\"\n",
        "\n",
        "combine_prompt_template = \"\"\"{text}\n",
        "# 여러 개의 자막 요약본을 종합하여 영상의 전체 내용을 한글로 요약한다\n",
        "\"\"\"\n",
        "\n",
        "# map : 부분 영상 자막 각각 요약\n",
        "MAP_PROMPT = PromptTemplate(template=prompt_template, input_variables=[\"text\"])\n",
        "# reduce : 부분 영상 요약본 총합\n",
        "COMBINE_PROMPT = PromptTemplate(template=combine_prompt_template, input_variables=[\"text\"])\n",
        "\n",
        "chain = load_summarize_chain(\n",
        "    llm=chat_llm,\n",
        "    chain_type=\"map_reduce\",\n",
        "    return_intermediate_steps=True,\n",
        "    map_prompt=MAP_PROMPT, combine_prompt=COMBINE_PROMPT)\n"
      ],
      "outputs": [],
      "execution_count": 24,
      "metadata": {
        "gather": {
          "logged": 1719303127534
        }
      }
    },
    {
      "cell_type": "code",
      "source": [
        "chain.invoke({\"input_documents\": docs}, return_only_outputs=True)"
      ],
      "outputs": [
        {
          "output_type": "execute_result",
          "execution_count": 25,
          "data": {
            "text/plain": "{'intermediate_steps': ['- 이 영상에서는 Tesla의 배터리 생산 기술 혁신과 로봇 생산 시스템에 대해 다룬다.\\n- Tesla는 4680 셀의 제조 공정을 혁신하여 생산 속도와 품질을 개선하고 있다.\\n- 또한, Optimus 로봇을 활용하여 배터리 생산을 가속화하고, 미국 내에서 리튬 생산 시설을 건설하고 있다.',\n  '- 이번 영상에서는 Tesla의 새로운 배터리 기술과 이를 둘러싼 경쟁 상황에 대해 다룬다.\\n- Tesla는 미국 내 lfp 배터리 생산 시설을 새로 설치하고, 인도네시아에 배터리 공장을 개설할 가능성도 탐구 중이다.\\n- lfp 배터리 기술은 여전히 전기차 시장에서 중요한 위치를 차지하고 있으며, 중국의 BYD와 CATL 등이 6C 충전 기술을 개발하고 있다.\\n- 하지만 배터리의 에너지 밀도 문제를 해결하기 위해 고체 전해질, 나트륨 등의 새로운 배터리 기술도 개발 중이다.\\n- 현재는 lfp 배터리 기술을 중심으로 중국 기업들이 선두를 달리고 있으며, CATL이 시장 점유율 37%로 1위를 차지하고 있다.',\n  '1. 이 영상에서는 리튬 이온 배터리 제조 업계의 현황과 중국 기업들의 선두주 위치를 다룬다.\\n2. CATL, BYD, LG Energy Solution 등 중국 기업들이 시장 점유율을 높이고 있으며, 테슬라도 LFP 셀 개발과 새로운 시설 투자를 통해 배터리 제조 업계에서 큰 역할을 할 수 있을 것으로 기대된다.\\n3. 테슬라가 배터리 제조 업계에서 성공할 수 있을지에 대한 의견을 나누기 위해 댓글을 남기라는 요청이 있다.'],\n 'output_text': '이 영상에서는 Tesla의 배터리 생산 기술 혁신과 로봇 생산 시스템, 그리고 새로운 배터리 기술과 이를 둘러싼 경쟁 상황에 대해 다룬다. Tesla는 4680 셀의 제조 공정을 혁신하여 생산 속도와 품질을 개선하고 있으며, Optimus 로봇을 활용하여 배터리 생산을 가속화하고 있다. 또한, 미국 내에서 리튬 생산 시설을 건설하고 있으며, lfp 배터리 생산 시설을 새로 설치하고, 인도네시아에 배터리 공장을 개설할 가능성도 탐구 중이다. 현재 배터리 제조 업계에서는 중국 기업들이 시장 점유율을 높이고 있으며, CATL이 시장 점유율 37%로 1위를 차지하고 있다. 하지만 배터리의 에너지 밀도 문제를 해결하기 위해 고체 전해질, 나트륨 등의 새로운 배터리 기술도 개발 중이다. 이에 대한 테슬라의 성공 가능성에 대한 의견을 나누기 위해 댓글을 남기라는 요청이 있다.'}"
          },
          "metadata": {}
        }
      ],
      "execution_count": 25,
      "metadata": {
        "gather": {
          "logged": 1719303145499
        },
        "jupyter": {
          "outputs_hidden": false,
          "source_hidden": false
        },
        "nteract": {
          "transient": {
            "deleting": false
          }
        }
      }
    },
    {
      "cell_type": "code",
      "source": [
        "# 8. Summarization Chain with LCEL\n",
        "\n",
        "from langchain_core.output_parsers import StrOutputParser\n",
        "\n",
        "# Map Chain\n",
        "map_chain= (\n",
        "    MAP_PROMPT\n",
        "   | chat_llm\n",
        "   | StrOutputParser() )"
      ],
      "outputs": [],
      "execution_count": 15,
      "metadata": {
        "gather": {
          "logged": 1719301831135
        },
        "jupyter": {
          "outputs_hidden": false,
          "source_hidden": false
        },
        "nteract": {
          "transient": {
            "deleting": false
          }
        }
      }
    },
    {
      "cell_type": "code",
      "source": [
        "final_summary = \"\"\n",
        "\n",
        "for doc in docs:\n",
        "   new_summary = map_chain.invoke({\"text\": doc.page_content})\n",
        "   final_summary+=new_summary\n",
        "   print(\"========================\")\n",
        "   print(new_summary)"
      ],
      "outputs": [
        {
          "output_type": "stream",
          "name": "stdout",
          "text": "========================\n* 이 영상에서는 최영석 국장이 월드카 워즈에 대해 설명한다\n* 월드카 워즈는 전 세계 기자들이 참여하여 올해의 차를 뽑는 행사이다\n* 현대차와 기아차가 최근 몇 년간 올해의 차를 수상하며 기술력이 인정받고 있다는 것을 지적한다.\n========================\n* 이 영상에서는 주식 방송에서 주가 이야기를 하지 않는다는 것을 강조한다\n* 미국과 유럽에서 중국산 전기차에 대한 관세 인상이 이루어지고 있는데, 독일 업체들은 이에 반대하고 있다\n* 테슬라도 중국에서 생산한 자동차를 미국으로 수입할 계획이 있었기 때문에 중국 관세 인상에 반대한 것으로 보인다.\n========================\n- 이 영상에서는 테슬라의 중국 생산과 미국 시장 대응에 대해 이야기한다\n- 중국에서 공급 과역 문제가 있어서 테슬라도 중국에서 생산한 차량을 수출해야 할 가능성이 있다\n- 전기차의 역사와 디젤 차의 인기 하락, 그리고 기후 변화 협의에 대해 이야기한다\n========================\n* 이 영상에서는 기후 재앙과 탄소 중립에 대해 이야기한다\n* 테슬라의 전기차가 자동차 시장을 바꾸는 트리거가 되었다\n* 재생 에너지가 전체 전력을 초과하는 지역이 나타나면서 에너지 저장 기술이 중요해졌다\n========================\n* 이 영상에서는 에너지 저장 시스템과 배터리에 대해 설명한다\n* 테슬라의 일론 머스크가 이 분야에서 선도적인 역할을 하고 있다\n* 친환경 발전의 안정화를 위해 배터리 장치가 필요하다는 것이 핵심 메시지이다.\n========================\n* 이 영상에서는 테슬라의 역할과 전기차 산업의 발전에 대해 이야기한다\n* 전기차 산업은 친환경적이고 지속 가능한 에너지를 만드는데 중요한 역할을 한다\n* 테슬라는 전기차 회사로서 뿐만 아니라 스페이스와 같은 다른 비즈니스 분야에서도 활동하고 있지만, 전기차 산업의 발전을 위해 더 많은 노력이 필요하다는 생각을 갖고 있다.\n========================\n* 이 영상에서는 수소 기술과 전기차의 발전에 대해 이야기한다\n* 수소 연료 전지 전기차는 차 안에서 수소를 가지고 전기를 만드는 기계이다\n* 수소 전기차는 앞으로 전기차의 발전 방향 중 하나일 것이다\n========================\n* 이 영상에서는 수소와 관련된 기술과 산업 동향에 대해 이야기한다\n* 그린 수소는 순도가 99.8% 이상이어야 하며, 물을 분해해서 만들 수 있다\n* 현대 자동차와 도대 자동차는 수소 연료 전기차를 만들고 있으며, 수소 생태계를 만들기 위해 노력하고 있다\n* 중소형 차는 배터리 전기차, 대형 차는 수소차가 적합하며, 주행거리 등 여러 가지 문제가 아직 논란이다\n* 전기차와 수소차 중 어느 쪽이 정답인지 일률적으로 말할 수 없지만, 친환경 수소가 나와야 친환경이라는 것은 분명하다.\n========================\n* 이 영상에서는 친환경 자동차에 대한 현재 상황과 발전 가능성에 대해 이야기한다\n* 전기차는 이산화 탄소 배출량을 약 50% 줄일 수 있다는 연구 결과가 있다\n* 수소 자동차는 현재는 복잡한 기술적 문제가 있지만, 내연 기관차를 개조하여 연료를 대체하는 것도 가능하다는 것을 언급한다.\n========================\n* 이 영상에서는 전기차와 관련된 에너지 문제와 해결 방안에 대해 이야기한다\n* 전기차 생산에 사용되는 원자재 채굴과 관련된 문제와 lca(생애 주기 환경 평가)에 대해 설명한다\n* 코발트를 사용하지 않는 LFP(Lithium Iron Phosphate) 전지가 부각되는 이유를 알아본다\n========================\n* 이 영상에서는 전기차 배터리의 환경 문제와 해결 방안에 대해 이야기한다\n* 전기차 배터리에서 사용되는 코발트를 대체하는 기술이 개발되고 있으며, 환경 파괴를 줄이기 위한 노력이 필요하다\n* 전 세계 모든 나라가 전기차로 올인하는 것은 쉽지 않으며, 각 나라와 회사마다 다양한 정책과 기술을 활용하고 있다.\n========================\n* 이 영상에서는 전기차 시장의 현재 상황과 전망에 대해 이야기한다\n* 전 세계에서 전기차 시장이 크게 성장하고 있으며, 중국, 미국, 유럽이 큰 시장이다\n* 전기차 시장에 진입하기 위해서는 많은 투자와 인프라가 필요하며, 기업들은 비용 저감과 다양한 파워 체인 생산을 위해 공장 형태를 바꾸고 있다\n* 하지만 일론 머스크 리스크와 같은 위험성 때문에 투자자들이 테슬라 주식을 매각하고 있어 전기차 시장의 미래에 대한 의문이 제기되고 있다.\n========================\n* 이 영상에서는 전기차 시장과 배터리 기술에 대해 이야기한다\n* K 배터리가 세계 시장에서 경쟁력을 잃고 있는 상황이다\n* 소비자는 주행 거리와 가격 등을 고려해 배터리 선택을 하게 된다.\n========================\n* 이 영상에서는 소형차 시장에서의 전기차 배터리 용량과 가격 경쟁에 대해 이야기한다\n* 소형차 소비자들은 가격이 주행거리보다 더 중요하다는 것이 판매 동향이다\n* 많은 메이커들이 배터리 용량을 줄이고 가격을 낮춰 200km 정도만 달릴 수 있는 전기차를 개발하고 있다\n* 중국 회사들은 유럽에서 배터리를 구매해 관세를 회피하고, 소형차 시장에서는 저가형 전기차 수요가 증가하고 있다.\n========================\n* 이 영상에서는 현대 기아차의 전기차 생산과 관련된 이슈를 다룬다\n* 전기차 생산 원가의 40% 이상을 차지하는 배터리 문제와 자율주행을 위한 반도체 문제가 제기된다\n* 현대자동차는 신제조 혁신을 통해 이 문제들을 해결하고자 한다.\n========================\n* 이 영상에서는 자동차 산업에서의 생산 기술 혁신에 대해 설명한다\n* 테슬라의 기가 캐스팅과 수직 통합 전략이 주목받고 있다\n* 전세계 자동차 회사들이 생산 기술 혁신을 위해 많은 투자를 하고 있다는 것이 알려졌다\n* 결론적으로, 현재 주어진 조건에서는 전기차를 만들어 수익을 내는 것이 최선의 선택이다.\n========================\n* 이 영상에서는 자동차 산업에서 전기차와 탄소 배출 문제에 대해 다룬다\n* 메이커들은 전기차에 대한 방향성이 다르며, 포르쉐는 전기차 라인업을 늘리면서 소비자를 끌어들이는 역할을 한다\n* 이산화 탄소 배출 문제는 국가적인 전략이 필요하지만, 개인적으로도 전동화 차량 사용 등으로 해결해야 한다는 주장이 있다.\n========================\n* 이 영상에서는 전기차 산업의 현재와 미래에 대해 이야기한다\n* 전기차는 친환경적이며, 브랜드 이미지를 바꿀 수 있는 중요한 요소이다\n* 전기차 시대가 더욱 가속화될 것이며, 이를 위해 기업들은 전기차 산업에 집중해야 한다는 메시지를 전한다.\n"
        }
      ],
      "execution_count": 16,
      "metadata": {
        "gather": {
          "logged": 1719301875467
        },
        "jupyter": {
          "outputs_hidden": false,
          "source_hidden": false
        },
        "nteract": {
          "transient": {
            "deleting": false
          }
        }
      }
    },
    {
      "cell_type": "code",
      "source": [
        "# 통합 Reduce Chain\n",
        "reduce_chain= (\n",
        "    COMBINE_PROMPT\n",
        "   | chat_llm\n",
        "   | StrOutputParser() )\n",
        "\n",
        "# 스트림 활용하기\n",
        "for chunk in reduce_chain.stream(final_summary):\n",
        "    print(chunk, end=\"\", flush=True) "
      ],
      "outputs": [
        {
          "output_type": "stream",
          "name": "stdout",
          "text": "이 영상에서는 전기차와 관련된 다양한 주제에 대해 다루고 있다. 최근 전 세계적으로 전기차 시장이 크게 성장하고 있으며, 현대차와 기아차가 올해의 차를 수상하며 기술력이 인정받고 있다. 테슬라는 전기차 산업에서 선도적인 역할을 하고 있으며, 수소 연료 전지 전기차도 앞으로 중요한 발전 방향 중 하나일 것이다. 전기차 생산에 사용되는 원자재 채굴과 관련된 문제와 배터리 용량과 가격 경쟁 등 다양한 이슈가 제기되고 있으며, 기업들은 이를 해결하기 위해 많은 노력을 기울이고 있다. 결론적으로, 전기차는 친환경적이며 브랜드 이미지를 바꿀 수 있는 중요한 요소이며, 전기차 시대가 더욱 가속화될 것이며, 이를 위해 기업들은 전기차 산업에 집중해야 한다는 메시지를 전한다."
        }
      ],
      "execution_count": 17,
      "metadata": {
        "gather": {
          "logged": 1719302033780
        },
        "jupyter": {
          "outputs_hidden": false,
          "source_hidden": false
        },
        "nteract": {
          "transient": {
            "deleting": false
          }
        }
      }
    }
  ],
  "metadata": {
    "colab": {
      "authorship_tag": "ABX9TyOLpehWKDGtK3bQ24eJ+RT2",
      "provenance": []
    },
    "kernel_info": {
      "name": "python310-sdkv2"
    },
    "kernelspec": {
      "name": "python310-sdkv2",
      "language": "python",
      "display_name": "Python 3.10 - SDK v2"
    },
    "language_info": {
      "name": "python",
      "version": "3.10.14",
      "mimetype": "text/x-python",
      "codemirror_mode": {
        "name": "ipython",
        "version": 3
      },
      "pygments_lexer": "ipython3",
      "nbconvert_exporter": "python",
      "file_extension": ".py"
    },
    "microsoft": {
      "host": {
        "AzureML": {
          "notebookHasBeenCompleted": true
        }
      }
    },
    "nteract": {
      "version": "nteract-front-end@1.0.0"
    }
  },
  "nbformat": 4,
  "nbformat_minor": 4
}