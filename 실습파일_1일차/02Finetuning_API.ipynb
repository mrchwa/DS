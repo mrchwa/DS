{
  "cells": [
    {
      "cell_type": "markdown",
      "metadata": {
        "nteract": {
          "transient": {
            "deleting": false
          }
        }
      },
      "source": [
        "# Finetuning API 호출\n",
        "**2024 삼성전자 무선사업부 생성형 AI 교육**"
      ]
    },
    {
      "cell_type": "markdown",
      "metadata": {
        "nteract": {
          "transient": {
            "deleting": false
          }
        }
      },
      "source": [
        "1. API Key 설정\n",
        "2. 파일 변환\n",
        "3. 파일 업로드\n",
        "4. Finetuning 작업 요청\n",
        "5. 작업 진행상황 확인 \n",
        "6. 모델명 확인\n",
        "7. 모델 사용 및 비교"
      ]
    },
    {
      "cell_type": "markdown",
      "metadata": {
        "nteract": {
          "transient": {
            "deleting": false
          }
        }
      },
      "source": [
        "### 관련 링크\n",
        "- [OpenAI FineTuning Docs](https://platform.openai.com/docs/guides/fine-tuning)\n",
        "- [OpenAI FineTuning API](https://platform.openai.com/docs/api-reference/fine-tuning)"
      ]
    },
    {
      "cell_type": "code",
      "execution_count": null,
      "metadata": {},
      "outputs": [],
      "source": [
        "!pip install openai "
      ]
    },
    {
      "cell_type": "code",
      "execution_count": null,
      "metadata": {
        "gather": {
          "logged": 1716022843008
        },
        "jupyter": {
          "outputs_hidden": false,
          "source_hidden": false
        },
        "nteract": {
          "transient": {
            "deleting": false
          }
        }
      },
      "outputs": [],
      "source": [
        "# 1. 환경 설정\n",
        "\n",
        "import os\n",
        "from openai import OpenAI\n",
        "\n",
        "# 환경 변수 설정 - Finetuning\n",
        "os.environ[\"OPENAI_API_KEY\"] = \"sk-proj-mnjdCgEPkq1DCQ6oGvHyT3BlbkFJikgeB1O23L1ttMnAHRYu\"\n",
        "\n",
        "client = OpenAI()"
      ]
    },
    {
      "cell_type": "markdown",
      "metadata": {
        "nteract": {
          "transient": {
            "deleting": false
          }
        }
      },
      "source": [
        "##### Finetuning Completion Model "
      ]
    },
    {
      "cell_type": "code",
      "execution_count": null,
      "metadata": {
        "gather": {
          "logged": 1713776567822
        },
        "jupyter": {
          "outputs_hidden": false,
          "source_hidden": false
        },
        "nteract": {
          "transient": {
            "deleting": false
          }
        }
      },
      "outputs": [],
      "source": [
        "# 2. 파일 변환\n",
        "\n",
        "!openai tools fine_tunes.prepare_data --file FT_InitialsGame_Train.csv --quiet"
      ]
    },
    {
      "cell_type": "code",
      "execution_count": null,
      "metadata": {
        "gather": {
          "logged": 1716022848843
        },
        "jupyter": {
          "outputs_hidden": false,
          "source_hidden": false
        },
        "nteract": {
          "transient": {
            "deleting": false
          }
        }
      },
      "outputs": [],
      "source": [
        "# 3. 파일 업로드\n",
        "\n",
        "training_file_name = \"FT_InitialsGame_Train_prepared.jsonl\"\n",
        "\n",
        "training_response = client.files.create(\n",
        "    file=open(training_file_name, \"rb\"), \n",
        "    purpose=\"fine-tune\"\n",
        ")\n",
        "\n",
        "training_file_id = training_response.id\n",
        "\n",
        "print(training_file_id)"
      ]
    },
    {
      "cell_type": "code",
      "execution_count": null,
      "metadata": {
        "gather": {
          "logged": 1716022851434
        },
        "jupyter": {
          "outputs_hidden": false,
          "source_hidden": false
        },
        "nteract": {
          "transient": {
            "deleting": false
          }
        }
      },
      "outputs": [],
      "source": [
        "# 4. Finetning 작업 요청\n",
        "\n",
        "response = client.fine_tuning.jobs.create(\n",
        "    training_file=training_file_id,\n",
        "    model=\"\",\n",
        "    suffix=\"이니셜-번호\",\n",
        "    hyperparameters={\"n_epochs\":4}\n",
        ")\n",
        "\n",
        "job_id = response.id\n",
        "\n",
        "print(job_id)"
      ]
    },
    {
      "cell_type": "code",
      "execution_count": null,
      "metadata": {
        "gather": {
          "logged": 1716022852826
        },
        "jupyter": {
          "outputs_hidden": false,
          "source_hidden": false
        },
        "nteract": {
          "transient": {
            "deleting": false
          }
        }
      },
      "outputs": [],
      "source": [
        "# 5. 작업 진행상황 확인\n",
        "\n",
        "model_response = client.fine_tuning.jobs.retrieve(job_id)\n",
        "fine_tuned_model_status = model_response.status\n",
        "print(fine_tuned_model_status)"
      ]
    },
    {
      "cell_type": "code",
      "execution_count": null,
      "metadata": {
        "gather": {
          "logged": 1711174714169
        },
        "jupyter": {
          "outputs_hidden": false,
          "source_hidden": false
        },
        "nteract": {
          "transient": {
            "deleting": false
          }
        }
      },
      "outputs": [],
      "source": [
        "# 6. 작업 완료된 모델명 확인\n",
        "\n",
        "response = client.fine_tuning.jobs.retrieve(job_id)\n",
        "fine_tuned_model_id = response.fine_tuned_model\n",
        "\n",
        "print(\"Fine-tuned model ID:\", fine_tuned_model_id)"
      ]
    },
    {
      "cell_type": "code",
      "execution_count": null,
      "metadata": {
        "gather": {
          "logged": 1716022858502
        },
        "jupyter": {
          "outputs_hidden": false,
          "source_hidden": false
        },
        "nteract": {
          "transient": {
            "deleting": false
          }
        }
      },
      "outputs": [],
      "source": [
        "# 7-1. 베이스 모델 사용\n",
        "\n",
        "completion = client.completions.create(\n",
        "    model=\"gpt-3.5-turbo-instruct\",\n",
        "    temperature=0.5,\n",
        "    max_tokens=10,\n",
        "    stop=[\"\\n\"],\n",
        "    prompt=\"ㅈㄱ ->\"\n",
        ")\n",
        "\n",
        "completion.choices[0].text"
      ]
    },
    {
      "cell_type": "code",
      "execution_count": null,
      "metadata": {
        "gather": {
          "logged": 1716022860160
        },
        "jupyter": {
          "outputs_hidden": false,
          "source_hidden": false
        },
        "nteract": {
          "transient": {
            "deleting": false
          }
        }
      },
      "outputs": [],
      "source": [
        "# 7-2. Finetuned 모델 사용\n",
        "\n",
        "completion = client.completions.create(\n",
        "    model=\"ft:davinci-002:mijeongjeon:2024-jmj:8vkMFHij\",\n",
        "    temperature=0.5,\n",
        "    max_tokens=10,\n",
        "    stop=[\"\\n\"],\n",
        "    prompt=\"ㅎㅁ ->\"\n",
        ")\n",
        "\n",
        "completion.choices[0].text"
      ]
    },
    {
      "cell_type": "markdown",
      "metadata": {
        "nteract": {
          "transient": {
            "deleting": false
          }
        }
      },
      "source": [
        "##### Finetuning ChatCompletion Model "
      ]
    },
    {
      "cell_type": "code",
      "execution_count": null,
      "metadata": {
        "gather": {
          "logged": 1708846105024
        },
        "jupyter": {
          "outputs_hidden": false,
          "source_hidden": false
        },
        "nteract": {
          "transient": {
            "deleting": false
          }
        }
      },
      "outputs": [],
      "source": [
        "# 8. 파일 업로드\n",
        "\n",
        "chat_training_file_name = \"FT_Food_Info.jsonl\"\n",
        "\n",
        "chat_training_response = client.files.create(\n",
        "    file=open(chat_training_file_name, \"rb\"),\n",
        "    purpose=\"fine-tune\"\n",
        ")\n",
        "\n",
        "chat_training_file_id = chat_training_response.id\n",
        "print(chat_training_file_id)"
      ]
    },
    {
      "cell_type": "code",
      "execution_count": null,
      "metadata": {
        "gather": {
          "logged": 1708846136692
        },
        "jupyter": {
          "outputs_hidden": false,
          "source_hidden": false
        },
        "nteract": {
          "transient": {
            "deleting": false
          }
        }
      },
      "outputs": [],
      "source": [
        "# 9. 작업 요청\n",
        "chat_response = client.fine_tuning.jobs.create(\n",
        "    training_file=chat_training_file_id,\n",
        "    model=\"\",\n",
        "    suffix=\"이니셜-번호\",\n",
        "    hyperparameters={\"n_epochs\":4}\n",
        ")\n",
        "\n",
        "chat_job_id = chat_response.id\n",
        "\n",
        "print(chat_job_id)"
      ]
    },
    {
      "cell_type": "code",
      "execution_count": null,
      "metadata": {
        "jupyter": {
          "outputs_hidden": false,
          "source_hidden": false
        },
        "nteract": {
          "transient": {
            "deleting": false
          }
        }
      },
      "outputs": [],
      "source": [
        "# 10. 작업 진행상황 확인\n",
        "\n",
        "chat_model_response = client.fine_tuning.jobs.retrieve(chat_job_id)\n",
        "chat_fine_tuned_model_status = chat_model_response.status\n",
        "print(chat_fine_tuned_model_status)"
      ]
    },
    {
      "cell_type": "code",
      "execution_count": null,
      "metadata": {
        "jupyter": {
          "outputs_hidden": false,
          "source_hidden": false
        },
        "nteract": {
          "transient": {
            "deleting": false
          }
        }
      },
      "outputs": [],
      "source": [
        "# 11. 작업 완료된 모델명 확인\n",
        "\n",
        "chat_response = client.fine_tuning.jobs.retrieve(chat_job_id)\n",
        "chat_fine_tuned_model_id = chat_response.fine_tuned_model\n",
        "\n",
        "print(\"Fine-tuned model ID:\", chat_fine_tuned_model_id)"
      ]
    },
    {
      "cell_type": "code",
      "execution_count": null,
      "metadata": {
        "gather": {
          "logged": 1716022866758
        },
        "jupyter": {
          "outputs_hidden": false,
          "source_hidden": false
        },
        "nteract": {
          "transient": {
            "deleting": false
          }
        }
      },
      "outputs": [],
      "source": [
        "# 12-1. Base 모델 사용\n",
        "\n",
        "response = client.chat.completions.create(\n",
        "    model=\"gpt-3.5-turbo\",\n",
        "    messages=[\n",
        "        {\"role\":\"system\", \"content\":\"먹을 수 있는 음식 이름을 알려주면 칼로리양과 주요 영양소 탄수화물, 단백질, 지방 함량을 알려주고 음식 이모지를 붙여주는 친절한 도우미\"},\n",
        "        {\"role\":\"user\", \"content\":\"떡볶이\"}\n",
        "    ]\n",
        ")\n",
        "\n",
        "print(response.choices[0].message.content)\n"
      ]
    },
    {
      "cell_type": "code",
      "execution_count": null,
      "metadata": {
        "gather": {
          "logged": 1716022870796
        },
        "jupyter": {
          "outputs_hidden": false,
          "source_hidden": false
        },
        "nteract": {
          "transient": {
            "deleting": false
          }
        }
      },
      "outputs": [],
      "source": [
        "# 12-2. Finetuned 모델 사용\n",
        "\n",
        "response = client.chat.completions.create(\n",
        "    model=\"ft:gpt-3.5-turbo-0613:mijeongjeon:2024-jmj:8w3Mz4RO\",\n",
        "    messages=[\n",
        "        {\"role\":\"system\", \"content\":\"먹을 수 있는 음식 이름을 알려주면 칼로리양과 주요 영양소 탄수화물, 단백질, 지방 함량을 알려주고 음식 이모지를 붙여주는 친절한 도우미\"},\n",
        "        {\"role\":\"user\", \"content\":\"떡볶이\"}\n",
        "    ]\n",
        ")\n",
        "\n",
        "print(response.choices[0].message.content)"
      ]
    }
  ],
  "metadata": {
    "kernel_info": {
      "name": "python310-sdkv2"
    },
    "kernelspec": {
      "display_name": "Python 3.10 - SDK v2",
      "language": "python",
      "name": "python310-sdkv2"
    },
    "language_info": {
      "codemirror_mode": {
        "name": "ipython",
        "version": 3
      },
      "file_extension": ".py",
      "mimetype": "text/x-python",
      "name": "python",
      "nbconvert_exporter": "python",
      "pygments_lexer": "ipython3",
      "version": "3.10.11"
    },
    "microsoft": {
      "host": {
        "AzureML": {
          "notebookHasBeenCompleted": true
        }
      }
    },
    "nteract": {
      "version": "nteract-front-end@1.0.0"
    }
  },
  "nbformat": 4,
  "nbformat_minor": 2
}
