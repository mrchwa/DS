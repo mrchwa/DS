{
  "cells": [
    {
      "cell_type": "markdown",
      "metadata": {
        "nteract": {
          "transient": {
            "deleting": false
          }
        }
      },
      "source": [
        "# OpenAI API 호출\n",
        "**2024 삼성전자 무선사업부 생성형 AI 교육**"
      ]
    },
    {
      "cell_type": "markdown",
      "metadata": {
        "nteract": {
          "transient": {
            "deleting": false
          }
        }
      },
      "source": [
        "1. 패키지 설치\n",
        "2. API Key 설정\n",
        "3. Completion Model\n",
        "4. ChatCompletion Model\n",
        "5. Role : System, Assistant, User\n",
        "6. Character 생성\n",
        "7. 논리/추론 능력 비교\n",
        "8. MLLM 모델 사용"
      ]
    },
    {
      "cell_type": "markdown",
      "metadata": {
        "nteract": {
          "transient": {
            "deleting": false
          }
        }
      },
      "source": [
        "##### 관련 링크\n",
        "- [OpenAI ChatModel API](https://platform.openai.com/docs/guides/text-generation)  \n",
        "- [Video Analyze with GPT-4o](https://cookbook.openai.com/examples/gpt_with_vision_for_video_understanding)"
      ]
    },
    {
      "cell_type": "code",
      "execution_count": null,
      "metadata": {
        "gather": {
          "logged": 1716000345691
        },
        "jupyter": {
          "outputs_hidden": false,
          "source_hidden": false
        },
        "nteract": {
          "transient": {
            "deleting": false
          }
        }
      },
      "outputs": [],
      "source": [
        "# 1 패키지 설치\n",
        "\n",
        "%pip install openai"
      ]
    },
    {
      "cell_type": "code",
      "execution_count": null,
      "metadata": {
        "gather": {
          "logged": 1716021591789
        }
      },
      "outputs": [],
      "source": [
        "# 2 OAI 권한 인증 \n",
        "\n",
        "from openai import OpenAI\n",
        "\n",
        "client = OpenAI(\n",
        "        api_key=\"sk-proj-mnjdCgEPkq1DCQ6oGvHyT3BlbkFJikgeB1O23L1ttMnAHRYu\"\n",
        ")"
      ]
    },
    {
      "cell_type": "code",
      "execution_count": null,
      "metadata": {
        "gather": {
          "logged": 1716021593956
        },
        "jupyter": {
          "outputs_hidden": false,
          "source_hidden": false
        },
        "nteract": {
          "transient": {
            "deleting": false
          }
        }
      },
      "outputs": [],
      "source": [
        "# 3 OpenAI API 호출(Completion Model 자동완성)\n",
        "\n",
        "response = client.completions.create(\n",
        "    model=\"\",\n",
        "    prompt=\"\",\n",
        "    max_tokens=16,\n",
        "    temperature=1.0,\n",
        "    top_p=1.0,\n",
        "#   stop=[],\n",
        "    n=1,\n",
        ")\n",
        "\n",
        "print(response)"
      ]
    },
    {
      "cell_type": "code",
      "execution_count": null,
      "metadata": {
        "gather": {
          "logged": 1716021674040
        },
        "jupyter": {
          "outputs_hidden": false,
          "source_hidden": false
        },
        "nteract": {
          "transient": {
            "deleting": false
          }
        }
      },
      "outputs": [],
      "source": [
        "# 4. OpenAI API 호출(ChatCompletion Model) \n",
        "\n",
        "response = client.chat.completions.create(\n",
        "    model='gpt-3.5-turbo',\n",
        "    max_tokens=256,\n",
        "    temperature=1.0,\n",
        "    messages=[\n",
        "        {\"role\":\"user\", \"content\":\"Hello\"}\n",
        "    ],\n",
        "    logprobs=True,\n",
        "    top_logprobs=5\n",
        ")\n",
        "print(response.choices[0].message.content)"
      ]
    },
    {
      "cell_type": "code",
      "execution_count": null,
      "metadata": {
        "gather": {
          "logged": 1713776412124
        },
        "jupyter": {
          "outputs_hidden": false,
          "source_hidden": false
        },
        "nteract": {
          "transient": {
            "deleting": false
          }
        }
      },
      "outputs": [],
      "source": [
        "print(response)"
      ]
    },
    {
      "cell_type": "code",
      "execution_count": null,
      "metadata": {
        "gather": {
          "logged": 1716021680488
        },
        "jupyter": {
          "outputs_hidden": false,
          "source_hidden": false
        },
        "nteract": {
          "transient": {
            "deleting": false
          }
        }
      },
      "outputs": [],
      "source": [
        "# 5. Chat Model Roles\n",
        "\n",
        "response = client.chat.completions.create(\n",
        "    model=\"gpt-3.5-turbo\",\n",
        "    temperature=1.0,\n",
        "    max_tokens=200,\n",
        "    messages=[\n",
        "        {\"role\":\"system\", \"content\":\"친절하고 자상한 고객 상담원, 대화 끝에 항상 이모지를 붙인다\"},\n",
        "        {\"role\":\"assistant\", \"content\":\"항상 고객의 입장에서 생각하는 S센터입니다, 고객님 무엇을 도와드릴까요? 🤗\"},\n",
        "        {\"role\":\"user\", \"content\":\"핸드폰이 작동 안되는데 AS 가능한가요?\"},\n",
        "        {\"role\":\"assistant\", \"content\":\"불편을 끼쳐드려 대단히 죄송합니다, 고객님. AS 기간 확인을 위해 구매일자 확인이 필요합니다.🧾\"},\n",
        "        {\"role\":\"user\", \"content\":\"구매한지 1주일 밖에 안됐어요\"},\n",
        "        {\"role\":\"assistant\", \"content\":\"구매한지 얼마되지 않아 고장나서 정말 실망이 크셨겠네요, 오늘 AS 센터 방문하시면 무상 수리됩니다. ⚒️\"},\n",
        "        {\"role\":\"user\", \"content\":\"택배 되나요?\"}\n",
        "    ]\n",
        ")\n",
        "\n",
        "print(response.choices[0].message.content)"
      ]
    },
    {
      "cell_type": "code",
      "execution_count": null,
      "metadata": {
        "gather": {
          "logged": 1716021691449
        },
        "jupyter": {
          "outputs_hidden": false,
          "source_hidden": false
        },
        "nteract": {
          "transient": {
            "deleting": false
          }
        }
      },
      "outputs": [],
      "source": [
        "# 6. 캐릭터 생성.  욕쟁이 할머니\n",
        "\n",
        "response = client.chat.completions.create(\n",
        "    model=\"gpt-3.5-turbo\",\n",
        "    temperature=1.0,\n",
        "    max_tokens=200,\n",
        "    messages=[\n",
        "        {\"role\":\"system\", \"content\":\"항상 반말로 거칠게 대답하는 조폭 출신의 욕쟁이 식당 할머니\"},\n",
        "        {\"role\":\"assistant\", \"content\":\"왜 왔냐?\"},\n",
        "        {\"role\":\"user\", \"content\":\"할머니 배고파요. 백반 주세요\"},\n",
        "        {\"role\":\"assistant\", \"content\":\"귀찮게 백반을 주문하다니!!\"},\n",
        "        {\"role\":\"user\", \"content\":\"할머니 카드 결제 되나요?\"},\n",
        "        {\"role\":\"assistant\", \"content\":\"카드? 이런 작은 식당에 카드를 내는 게 말이되냐? 우린 현금만 받아\"},\n",
        "        {\"role\":\"user\", \"content\":\"저 현금이 없는데 어쩌죠?\"}\n",
        "    ],\n",
        "    stream=True\n",
        "  )\n",
        "\n",
        "\n",
        "for dump in response:\n",
        "    text = dump.choices[0].delta.content\n",
        "    if text is not None:\n",
        "       print(text, end='')"
      ]
    },
    {
      "cell_type": "code",
      "execution_count": null,
      "metadata": {
        "gather": {
          "logged": 1716021974805
        },
        "jupyter": {
          "outputs_hidden": false,
          "source_hidden": false
        },
        "nteract": {
          "transient": {
            "deleting": false
          }
        }
      },
      "outputs": [],
      "source": [
        "# 7-1. 모델 추론 능력 비교1. gpt-3.5-turbo \n",
        "\n",
        "response = client.chat.completions.create(\n",
        "    model=\"gpt-3.5-turbo\",\n",
        "    temperature=1.0,\n",
        "    max_tokens=200,\n",
        "    messages=[\n",
        "        {\"role\":\"user\", \"content\":\"노트북, 볼펜, 머그컵을 세로로 쌓는 순서를 알려줘\"}\n",
        "    ],\n",
        "  )\n",
        "\n",
        "print(response.choices[0].message.content)"
      ]
    },
    {
      "cell_type": "code",
      "execution_count": null,
      "metadata": {
        "gather": {
          "logged": 1716021987427
        },
        "jupyter": {
          "outputs_hidden": false,
          "source_hidden": false
        },
        "nteract": {
          "transient": {
            "deleting": false
          }
        }
      },
      "outputs": [],
      "source": [
        "# 7-2. 모델 추론 능력 비교2. gpt-4o\n",
        "\n",
        "response = client.chat.completions.create(\n",
        "    model=\"gpt-4o\",\n",
        "    temperature=1.0,\n",
        "    max_tokens=200,\n",
        "    messages=[\n",
        "        {\"role\":\"user\", \"content\":\"노트북, 볼펜, 머그컵을 세로로 쌓는 순서를 알려줘\"}\n",
        "    ],\n",
        "  )\n",
        "\n",
        "print(response.choices[0].message.content)"
      ]
    },
    {
      "cell_type": "code",
      "execution_count": null,
      "metadata": {
        "gather": {
          "logged": 1716022407714
        },
        "jupyter": {
          "outputs_hidden": false,
          "source_hidden": false
        },
        "nteract": {
          "transient": {
            "deleting": false
          }
        }
      },
      "outputs": [],
      "source": [
        "# 8-1. MLLM(Multimodal Large Language Models)\n",
        "# [이미지 링크 주소](https://image.kmib.co.kr/online_image/2020/1122/611718110015239102_5.jpg)\n",
        "\n",
        "image_link = \"https://image.kmib.co.kr/online_image/2020/1122/611718110015239102_5.jpg\"\n",
        "\n",
        "response = client.chat.completions.create(\n",
        "  model=\"gpt-4o\",\n",
        "  messages=[\n",
        "    {\n",
        "      \"role\": \"user\",\n",
        "      \"content\": [\n",
        "        {\"type\": \"text\", \"text\": \"이미지를 설명해줘\"},\n",
        "        {\n",
        "          \"type\": \"image_url\",\n",
        "          \"image_url\": {\n",
        "            \"url\": image_link,\n",
        "          },\n",
        "        },\n",
        "      ],\n",
        "    }\n",
        "  ],\n",
        "  max_tokens=300,\n",
        ")\n",
        "\n",
        "print(response.choices[0])"
      ]
    },
    {
      "cell_type": "code",
      "execution_count": null,
      "metadata": {
        "gather": {
          "logged": 1716022791629
        },
        "jupyter": {
          "outputs_hidden": false,
          "source_hidden": false
        },
        "nteract": {
          "transient": {
            "deleting": false
          }
        }
      },
      "outputs": [],
      "source": [
        "# 11. MLLM(Multimodal Large Language Models) 2\n",
        "# [이미지 링크 주소](https://mblogthumb-phinf.pstatic.net/MjAxODAzMjJfMjc3/MDAxNTIxNjgxMDQ5NjM4.EXT7-OZ9WLTGQ7bZm--qFVUCZxiqSkZUE-Ng5tm47Bog.WtMboqxnSGM7fGBvjONPOaJqAsDK4vTRXrurwcu5kgcg.JPEG.cccani/2.jpg?type=w800)\n",
        "\n",
        "image_link = \"https://mblogthumb-phinf.pstatic.net/MjAxODAzMjJfMjc3/MDAxNTIxNjgxMDQ5NjM4.EXT7-OZ9WLTGQ7bZm--qFVUCZxiqSkZUE-Ng5tm47Bog.WtMboqxnSGM7fGBvjONPOaJqAsDK4vTRXrurwcu5kgcg.JPEG.cccani/2.jpg?type=w800\"\n",
        "\n",
        "response = client.chat.completions.create(\n",
        "  model=\"gpt-4o\",\n",
        "  messages=[\n",
        "    {\n",
        "      \"role\": \"user\",\n",
        "      \"content\": [\n",
        "        # {\"type\": \"text\", \"text\": \"데이비드 애튼버러처럼 이미지를 설명해줘\"},\n",
        "        {\"type\": \"text\", \"text\": \"유치원 어린아이에게 구연동화처럼 이미지를 설명해줘\"},\n",
        "        {\n",
        "          \"type\": \"image_url\",\n",
        "          \"image_url\": {\n",
        "            \"url\": image_link,\n",
        "          },\n",
        "        },\n",
        "      ],\n",
        "    }\n",
        "  ],\n",
        "  max_tokens=300,\n",
        ")\n",
        "\n",
        "print(response.choices[0])"
      ]
    }
  ],
  "metadata": {
    "kernel_info": {
      "name": "python310-sdkv2"
    },
    "kernelspec": {
      "display_name": "Python 3.10 - SDK v2",
      "language": "python",
      "name": "python310-sdkv2"
    },
    "language_info": {
      "codemirror_mode": {
        "name": "ipython",
        "version": 3
      },
      "file_extension": ".py",
      "mimetype": "text/x-python",
      "name": "python",
      "nbconvert_exporter": "python",
      "pygments_lexer": "ipython3",
      "version": "3.10.11"
    },
    "microsoft": {
      "host": {
        "AzureML": {
          "notebookHasBeenCompleted": true
        }
      }
    },
    "nteract": {
      "version": "nteract-front-end@1.0.0"
    }
  },
  "nbformat": 4,
  "nbformat_minor": 2
}
