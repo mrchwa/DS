{
  "cells": [
    {
      "attachments": {},
      "cell_type": "markdown",
      "metadata": {
        "nteract": {
          "transient": {
            "deleting": false
          }
        }
      },
      "source": [
        "### DallE API\n",
        "**2024 삼성전자 무선사업부 생성형 AI 교육**"
      ]
    },
    {
      "attachments": {},
      "cell_type": "markdown",
      "metadata": {},
      "source": [
        "1. OpenAI API 연동\n",
        "2. 이미지 생성\n",
        "3. 이미지 변환\n",
        "4. 이미지 수정"
      ]
    },
    {
      "cell_type": "markdown",
      "metadata": {
        "nteract": {
          "transient": {
            "deleting": false
          }
        }
      },
      "source": [
        "##### 관련 링크\n",
        "* [OpenAI DallE API](https://platform.openai.com/docs/guides/images/image-generation)\n",
        "* [DallE prompt book pdf](https://dallery.gallery/wp-content/uploads/2022/07/The-DALL%C2%B7E-2-prompt-book-v1.02.pdf)"
      ]
    },
    {
      "cell_type": "code",
      "execution_count": null,
      "metadata": {
        "gather": {
          "logged": 1716022898636
        }
      },
      "outputs": [],
      "source": [
        "# 1. OAI 연결\n",
        "from openai import OpenAI\n",
        "\n",
        "client = OpenAI(\n",
        "        api_key=\"sk-proj-mnjdCgEPkq1DCQ6oGvHyT3BlbkFJikgeB1O23L1ttMnAHRYu\"\n",
        ")"
      ]
    },
    {
      "cell_type": "code",
      "execution_count": null,
      "metadata": {
        "gather": {
          "logged": 1716022899351
        },
        "jupyter": {
          "outputs_hidden": false,
          "source_hidden": false
        },
        "nteract": {
          "transient": {
            "deleting": false
          }
        }
      },
      "outputs": [],
      "source": [
        "# 2. URL 이미지 보기 함수\n",
        "from PIL import Image\n",
        "import requests\n",
        "from io import BytesIO\n",
        "import IPython.display as display\n",
        "\n",
        "def display_image(url) :\n",
        "  response = requests.get(url)\n",
        "  img = Image.open(BytesIO(response.content))\n",
        "\n",
        "  display.display(img)"
      ]
    },
    {
      "cell_type": "code",
      "execution_count": null,
      "metadata": {
        "gather": {
          "logged": 1716022910760
        },
        "jupyter": {
          "outputs_hidden": false,
          "source_hidden": false
        },
        "nteract": {
          "transient": {
            "deleting": false
          }
        }
      },
      "outputs": [],
      "source": [
        "# 3. DallE 2 with OAI\n",
        "\n",
        "result_dalle2 = client.images.generate(\n",
        "    model=\"\", \n",
        "    prompt=\"\",\n",
        "    size=\"\",\n",
        "    n=1,\n",
        ")\n",
        "\n",
        "display_image(result_dalle2.data[0].url)"
      ]
    },
    {
      "cell_type": "markdown",
      "metadata": {},
      "source": [
        "#### 이미지 업로드 패들렛\n",
        "[패들렛 링크](https://padlet.com/ninevincentg/my-grand-padlet-oq56i6e1q3o699us)"
      ]
    },
    {
      "cell_type": "code",
      "execution_count": null,
      "metadata": {
        "gather": {
          "logged": 1716022926402
        }
      },
      "outputs": [],
      "source": [
        "# 4. DallE 3 with OAI\n",
        "\n",
        "result_dalle3 = client.images.generate(\n",
        "    model=\"\", \n",
        "    prompt=\"\",\n",
        "    size=\"\", \n",
        "    n=1,\n",
        "    quality=\"standard\", # hd\n",
        "    style=\"vivid\" # natural\n",
        ")\n",
        "\n",
        "display_image(result_dalle3.data[0].url)"
      ]
    },
    {
      "cell_type": "code",
      "execution_count": null,
      "metadata": {},
      "outputs": [],
      "source": [
        "# 5. 이미지 변형(dalle2 model)\n",
        "\n",
        "result_var = client.images.create_variation(\n",
        "    image=open(\"\", \"rb\"),\n",
        "    n=2,\n",
        "    size='512x512'\n",
        ")\n",
        "\n",
        "display_image(result_var.data[0].url)\n",
        "display_image(result_var.data[1].url)"
      ]
    },
    {
      "cell_type": "markdown",
      "metadata": {
        "nteract": {
          "transient": {
            "deleting": false
          }
        }
      },
      "source": [
        "##### 이미지 수정 마스킹 작업 링크\n",
        "[AI Image Editor](https://ai-image-editor.netlify.app/)"
      ]
    },
    {
      "cell_type": "code",
      "execution_count": null,
      "metadata": {},
      "outputs": [],
      "source": [
        "# 6. 이미지 수정(dalle2 model)\n",
        "\n",
        "result_edit = client.images.edit(\n",
        "    image=open(\"original.png\", \"rb\"),\n",
        "    mask=open(\"mask.png\", \"rb\"),\n",
        "    prompt=\"\",\n",
        "    size='512x512',\n",
        "    n=2\n",
        ")\n",
        "\n",
        "display_image(result_edit.data[0].url)\n",
        "display_image(result_edit.data[1].url)"
      ]
    }
  ],
  "metadata": {
    "kernel_info": {
      "name": "python310-sdkv2"
    },
    "kernelspec": {
      "display_name": "Python 3.10 - SDK v2",
      "language": "python",
      "name": "python310-sdkv2"
    },
    "language_info": {
      "codemirror_mode": {
        "name": "ipython",
        "version": 3
      },
      "file_extension": ".py",
      "mimetype": "text/x-python",
      "name": "python",
      "nbconvert_exporter": "python",
      "pygments_lexer": "ipython3",
      "version": "3.10.11"
    },
    "nteract": {
      "version": "nteract-front-end@1.0.0"
    }
  },
  "nbformat": 4,
  "nbformat_minor": 2
}
