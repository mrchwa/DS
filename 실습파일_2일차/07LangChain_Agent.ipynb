{
  "cells": [
    {
      "attachments": {},
      "cell_type": "markdown",
      "metadata": {
        "id": "w2GM8vtc_FBB",
        "nteract": {
          "transient": {
            "deleting": false
          }
        }
      },
      "source": [
        "# LangChain + Agent\n",
        "**2024 삼성전자 무선사업부 생성형 AI 교육**"
      ]
    },
    {
      "attachments": {},
      "cell_type": "markdown",
      "metadata": {
        "id": "dzXcYq79_FBE",
        "nteract": {
          "transient": {
            "deleting": false
          }
        }
      },
      "source": [
        "1. 기본 패키지 설정\n",
        "2. Tool 설정\n",
        "3. Agent + LLM 연결"
      ]
    },
    {
      "cell_type": "code",
      "execution_count": null,
      "metadata": {
        "colab": {
          "base_uri": "https://localhost:8080/"
        },
        "gather": {
          "logged": 1716279987994
        },
        "id": "Ua4tsQUd_FBG",
        "jupyter": {
          "outputs_hidden": false,
          "source_hidden": false
        },
        "nteract": {
          "transient": {
            "deleting": false
          }
        },
        "outputId": "d4a94660-2328-4046-ca54-2a1f43a7185b"
      },
      "outputs": [],
      "source": [
        "# 1. 패키지 설치\n",
        "\n",
        "%pip install google-search-results\n",
        "%pip install wikipedia\n",
        "%pip install langchain_experimental"
      ]
    },
    {
      "cell_type": "code",
      "execution_count": null,
      "metadata": {
        "gather": {
          "logged": 1716704133106
        },
        "id": "769Kd1Ul_FBG",
        "jupyter": {
          "outputs_hidden": false,
          "source_hidden": false
        },
        "nteract": {
          "transient": {
            "deleting": false
          }
        }
      },
      "outputs": [],
      "source": [
        "# 2. 기본 패키지 설정 & AzureOpenAI 환경설정\n",
        "\n",
        "import os\n",
        "\n",
        "from config_azure import (\n",
        "    AZURE_OPENAI_API_VERSION,\n",
        "    AZURE_OPENAI_ENDPOINT,\n",
        "    AZURE_OPENAI_KEY,\n",
        "    SERPAPI_API_KEY # google search\n",
        ")\n",
        "# lagchain 사용시 반드시 환경변수 값 사용!!\n",
        "os.environ[\"OPENAI_API_TYPE\"] = \"azure\"\n",
        "os.environ[\"AZURE_OPENAI_API_KEY\"] = AZURE_OPENAI_KEY\n",
        "os.environ[\"AZURE_OPENAI_ENDPOINT\"] = AZURE_OPENAI_ENDPOINT\n",
        "os.environ[\"OPENAI_API_VERSION\"] = AZURE_OPENAI_API_VERSION\n",
        "\n",
        "os.environ[\"SERPAPI_API_KEY\"] = SERPAPI_API_KEY"
      ]
    },
    {
      "cell_type": "code",
      "execution_count": null,
      "metadata": {
        "gather": {
          "logged": 1716704136995
        },
        "id": "12PLolMg_FBH",
        "jupyter": {
          "outputs_hidden": false,
          "source_hidden": false
        },
        "nteract": {
          "transient": {
            "deleting": false
          }
        }
      },
      "outputs": [],
      "source": [
        "# 2. Azure OpenAI LLM\n",
        "\n",
        "from langchain_openai import AzureOpenAI\n",
        "\n",
        "completion_llm = AzureOpenAI(\n",
        "    deployment_name=\"gpt-35-turbo-instruct\",\n",
        "    max_tokens=512,\n",
        "    temperature=0.1,\n",
        ")\n",
        "\n",
        "\n",
        "from langchain_openai import AzureChatOpenAI\n",
        "\n",
        "chat_llm = AzureChatOpenAI(\n",
        "    deployment_name=\"gpt-35-turbo\",\n",
        "    max_tokens=512,\n",
        "    temperature=0.2,\n",
        ")"
      ]
    },
    {
      "cell_type": "code",
      "execution_count": null,
      "metadata": {
        "gather": {
          "logged": 1716704411797
        },
        "jupyter": {
          "outputs_hidden": false,
          "source_hidden": false
        },
        "nteract": {
          "transient": {
            "deleting": false
          }
        }
      },
      "outputs": [],
      "source": [
        "# 3-1. Agent 생성 without LCEL\n",
        "\n",
        "from langchain.utilities import SerpAPIWrapper\n",
        "from langchain.agents import AgentExecutor\n",
        "from langchain.agents import create_react_agent\n",
        "from langchain.agents import load_tools\n",
        "from langchain_core.prompts import PromptTemplate\n",
        "\n",
        "tools_name = [\"serpapi\", \"wikipedia\"] # google : 최신 사건, 제품, wikipedia : 역사적인 인물, 사건, 회사, 유명한 물품\n",
        "tools = load_tools(tools_name)\n",
        "\n",
        "template = \"\"\"Answer the following questions as best you can. \n",
        "You have access to the following tools: {tools}\n",
        "\n",
        "Use the following format:\n",
        "\n",
        "Question: the input question you must answer\n",
        "Thought: you should always think about what to do\n",
        "Action: the action to take, should be one of [{tool_names}]\n",
        "Action Input: the input to the action\n",
        "Observation: the result of the action\n",
        "... (this Thought/Action/Action Input/Observation can repeat N times)\n",
        "Thought: I now know the final answer\n",
        "Final Answer: the final answer to the original input question\n",
        "\n",
        "Begin!\n",
        "\n",
        "Question: {input}\n",
        "Thought:{agent_scratchpad}\n",
        "\"\"\"\n",
        "\n",
        "prompt = PromptTemplate.from_template(template)\n",
        "\n",
        "search_agent = create_react_agent(chat_llm, tools, prompt)\n",
        "\n",
        "agent_executor = AgentExecutor(\n",
        "    agent=search_agent,\n",
        "    tools=tools,\n",
        "    verbose=True,\n",
        "    handle_parsing_errors=True,\n",
        ")\n"
      ]
    },
    {
      "cell_type": "code",
      "execution_count": null,
      "metadata": {
        "colab": {
          "base_uri": "https://localhost:8080/",
          "height": 254
        },
        "gather": {
          "logged": 1716704442837
        },
        "id": "SbZWItYx_FBH",
        "outputId": "193f8787-ea03-48bb-9d79-0d7f0cda6653"
      },
      "outputs": [],
      "source": [
        "# 3-2. Agent 실행\n",
        "\n",
        "query1 = \"갤럭시 최신 핸드폰 기종 뭐야?\"\n",
        "query2 = \"What is the latest Galaxy phone model?\"\n",
        "query3 = \"구글 최신 생성형 인공지능 모델을 알려줘\"\n",
        "query4 = \"Please tell me about Google’s latest generative artificial intelligence model.\"\n",
        "\n",
        "agent_executor.invoke({\"input\": query1})"
      ]
    },
    {
      "cell_type": "code",
      "execution_count": null,
      "metadata": {
        "gather": {
          "logged": 1716704446867
        },
        "jupyter": {
          "outputs_hidden": false,
          "source_hidden": false
        },
        "nteract": {
          "transient": {
            "deleting": false
          }
        }
      },
      "outputs": [],
      "source": [
        "# 4-1. Agent with LCEL\n",
        "\n",
        "from langchain.tools.render import render_text_description\n",
        "from langchain.agents.format_scratchpad import format_log_to_str\n",
        "from langchain.agents.output_parsers import ReActSingleInputOutputParser\n",
        "\n",
        "prompt = prompt.partial(\n",
        "    tools=render_text_description(tools),\n",
        "    tool_names=\", \".join([t.name for t in tools]),\n",
        ")\n",
        "llm_with_stop = chat_llm.bind(stop=[\"\\nObservation\"])\n",
        "\n",
        "agent = (\n",
        "    {\n",
        "        \"input\": lambda x: x[\"input\"],\n",
        "        \"agent_scratchpad\": lambda x: format_log_to_str(x[\"intermediate_steps\"]),\n",
        "    }\n",
        "    | prompt\n",
        "    | llm_with_stop\n",
        "    | ReActSingleInputOutputParser()\n",
        ")\n",
        "\n",
        "agent_executor = AgentExecutor(agent=agent, tools=tools, verbose=True)\n"
      ]
    },
    {
      "cell_type": "code",
      "execution_count": null,
      "metadata": {
        "gather": {
          "logged": 1716704452789
        },
        "jupyter": {
          "outputs_hidden": false,
          "source_hidden": false
        },
        "nteract": {
          "transient": {
            "deleting": false
          }
        }
      },
      "outputs": [],
      "source": [
        "# 4-2. 질문\n",
        "\n",
        "query1 = \"갤럭시 최신 핸드폰 기종 뭐야?\"\n",
        "query2 = \"What is the latest Galaxy phone model?\"\n",
        "query3 = \"구글 최신 생성형 인공지능 모델을 알려줘\"\n",
        "query4 = \"Please tell me about Google’s latest generative artificial intelligence model.\"\n",
        "\n",
        "agent_executor.invoke({\"input\": query1})"
      ]
    },
    {
      "attachments": {},
      "cell_type": "markdown",
      "metadata": {
        "id": "Zr5osFk_expH",
        "nteract": {
          "transient": {
            "deleting": false
          }
        }
      },
      "source": [
        "### CSV 데이터 분석 Agent"
      ]
    },
    {
      "cell_type": "code",
      "execution_count": null,
      "metadata": {
        "gather": {
          "logged": 1716704539740
        },
        "id": "u9C-68FnexpH",
        "jupyter": {
          "outputs_hidden": false,
          "source_hidden": false
        },
        "nteract": {
          "transient": {
            "deleting": false
          }
        }
      },
      "outputs": [],
      "source": [
        "# 파일 불러오기\n",
        "import pandas as pd\n",
        "df = pd.read_csv(\"titanic.csv\")\n",
        "df.head()"
      ]
    },
    {
      "cell_type": "code",
      "execution_count": null,
      "metadata": {
        "gather": {
          "logged": 1716704550924
        },
        "id": "jZGdqQkCFUg8"
      },
      "outputs": [],
      "source": [
        "from langchain_experimental.agents.agent_toolkits.pandas.base import create_pandas_dataframe_agent\n",
        "\n",
        "agent = create_pandas_dataframe_agent(chat_llm,\n",
        "                                      df=df,\n",
        "                                      allow_dangerous_code=True,\n",
        "                                      verbose=True)"
      ]
    },
    {
      "cell_type": "code",
      "execution_count": null,
      "metadata": {
        "gather": {
          "logged": 1716704553768
        },
        "id": "SCQdUDEmgp0o"
      },
      "outputs": [],
      "source": [
        "query = \"전체 승객 중 1등급에 탑승한 20세 미만 여자의 생존율은 몇%야?\"\n",
        "agent.invoke(query)"
      ]
    },
    {
      "cell_type": "code",
      "execution_count": null,
      "metadata": {
        "gather": {
          "logged": 1716280707060
        },
        "jupyter": {
          "outputs_hidden": false,
          "source_hidden": false
        },
        "nteract": {
          "transient": {
            "deleting": false
          }
        }
      },
      "outputs": [],
      "source": [
        "agent.invoke(\"어떤 데이터에 이상치가 존재하는지 확인하기 위해 그래프 그려서 확인해줘\")"
      ]
    },
    {
      "cell_type": "code",
      "execution_count": null,
      "metadata": {
        "gather": {
          "logged": 1716280728123
        },
        "id": "LS1attySGO2q"
      },
      "outputs": [],
      "source": [
        "agent.invoke(\"\"\"\n",
        "1등급, 2등급, 3등급 선실등급에 탑승한 승객의 생존율을 세로 막대 그래프로 그려줘.\n",
        "각 등급별 남여 성별로 데이터를 나누고, 여성은 주황색/남성은 초록색으로 표시해줘\n",
        "\"\"\")"
      ]
    }
  ],
  "metadata": {
    "colab": {
      "provenance": []
    },
    "kernel_info": {
      "name": "python310-sdkv2"
    },
    "kernelspec": {
      "display_name": "Python 3.10 - SDK v2",
      "language": "python",
      "name": "python310-sdkv2"
    },
    "language_info": {
      "codemirror_mode": {
        "name": "ipython",
        "version": 3
      },
      "file_extension": ".py",
      "mimetype": "text/x-python",
      "name": "python",
      "nbconvert_exporter": "python",
      "pygments_lexer": "ipython3",
      "version": "3.10.11"
    },
    "microsoft": {
      "host": {
        "AzureML": {
          "notebookHasBeenCompleted": true
        }
      }
    },
    "nteract": {
      "version": "nteract-front-end@1.0.0"
    }
  },
  "nbformat": 4,
  "nbformat_minor": 0
}
