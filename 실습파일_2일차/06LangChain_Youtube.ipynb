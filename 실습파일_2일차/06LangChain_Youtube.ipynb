{
  "cells": [
    {
      "attachments": {},
      "cell_type": "markdown",
      "metadata": {
        "nteract": {
          "transient": {
            "deleting": false
          }
        }
      },
      "source": [
        "# LangChain + Youtube\n",
        "**2024 삼성전자 무선사업부 생성형 AI 교육**"
      ]
    },
    {
      "attachments": {},
      "cell_type": "markdown",
      "metadata": {
        "nteract": {
          "transient": {
            "deleting": false
          }
        }
      },
      "source": [
        "1. 기본 패키지 설치\n",
        "2. Azure 계정 연결\n",
        "3. Youtube 영상 불러오기\n",
        "4. LLM 생성\n",
        "5. 데이터 Split\n",
        "6. Chain 연결\n",
        "\n",
        "\n",
        "* 유사한 서비스 Lilys.ai [https://lilys.ai](https://lilys.ai)"
      ]
    },
    {
      "cell_type": "code",
      "execution_count": null,
      "metadata": {
        "colab": {
          "base_uri": "https://localhost:8080/"
        },
        "executionInfo": {
          "elapsed": 30391,
          "status": "ok",
          "timestamp": 1700202810498,
          "user": {
            "displayName": "Mi jeong Jeon",
            "userId": "17703911449277896138"
          },
          "user_tz": -540
        },
        "gather": {
          "logged": 1716278625310
        },
        "id": "arX8UDk3-N9z",
        "jupyter": {
          "outputs_hidden": false
        },
        "outputId": "bea93f75-87ca-4314-db35-00fd8db47f89"
      },
      "outputs": [],
      "source": [
        "# 1. 패키지 설치\n",
        "\n",
        "%pip install pytube\n",
        "%pip install youtube-transcript-api"
      ]
    },
    {
      "cell_type": "code",
      "execution_count": null,
      "metadata": {
        "executionInfo": {
          "elapsed": 7,
          "status": "ok",
          "timestamp": 1700202982462,
          "user": {
            "displayName": "Mi jeong Jeon",
            "userId": "17703911449277896138"
          },
          "user_tz": -540
        },
        "gather": {
          "logged": 1716702333714
        },
        "id": "CNIVswcz-m3x"
      },
      "outputs": [],
      "source": [
        "# 2. 기본 패키지 설정 & AzureOpenAI 환경설정\n",
        "\n",
        "# 환경 변수 설정!! \n",
        "import os\n",
        "import langchain\n",
        "\n",
        "from config_azure import (\n",
        "    AZURE_OPENAI_API_VERSION,\n",
        "    AZURE_OPENAI_ENDPOINT,\n",
        "    AZURE_OPENAI_KEY\n",
        ")\n",
        "# lagchain 사용시 반드시 환경변수 값 사용\n",
        "os.environ[\"OPENAI_API_TYPE\"] = \"azure\"\n",
        "os.environ[\"AZURE_OPENAI_API_KEY\"] = AZURE_OPENAI_KEY\n",
        "os.environ[\"AZURE_OPENAI_ENDPOINT\"] = AZURE_OPENAI_ENDPOINT\n",
        "os.environ[\"OPENAI_API_VERSION\"] = AZURE_OPENAI_API_VERSION"
      ]
    },
    {
      "cell_type": "code",
      "execution_count": null,
      "metadata": {
        "colab": {
          "base_uri": "https://localhost:8080/"
        },
        "executionInfo": {
          "elapsed": 1764,
          "status": "ok",
          "timestamp": 1700203303655,
          "user": {
            "displayName": "Mi jeong Jeon",
            "userId": "17703911449277896138"
          },
          "user_tz": -540
        },
        "gather": {
          "logged": 1716702372309
        },
        "id": "UF2O_eG9_qZG",
        "outputId": "496c5eea-fd10-4fa1-dd4d-54554da9222a"
      },
      "outputs": [],
      "source": [
        "# 3. Youtube 영상 데이터 읽어오기\n",
        "\n",
        "from langchain.document_loaders import YoutubeLoader\n",
        "\n",
        "loader = YoutubeLoader.from_youtube_url(\"\")\n",
        "\n",
        "data = loader.load()"
      ]
    },
    {
      "cell_type": "code",
      "execution_count": null,
      "metadata": {
        "executionInfo": {
          "elapsed": 1633,
          "status": "ok",
          "timestamp": 1700203522532,
          "user": {
            "displayName": "Mi jeong Jeon",
            "userId": "17703911449277896138"
          },
          "user_tz": -540
        },
        "gather": {
          "logged": 1716702373056
        },
        "id": "if61mMLmANrJ"
      },
      "outputs": [],
      "source": [
        "# 4. Azure OpenAI LLM(Chat Model 연결)\n",
        "\n",
        "from langchain_openai import AzureChatOpenAI\n",
        "\n",
        "chat_llm = AzureChatOpenAI(\n",
        "    deployment_name=\"gpt-35-turbo\",\n",
        "    max_tokens=512,\n",
        "    temperature=0.2,\n",
        ")"
      ]
    },
    {
      "cell_type": "code",
      "execution_count": null,
      "metadata": {
        "gather": {
          "logged": 1716702373938
        },
        "jupyter": {
          "outputs_hidden": false,
          "source_hidden": false
        },
        "nteract": {
          "transient": {
            "deleting": false
          }
        }
      },
      "outputs": [],
      "source": [
        "# 토큰 수 확인\n",
        "chat_llm.get_num_tokens(data[0].page_content)"
      ]
    },
    {
      "cell_type": "code",
      "execution_count": null,
      "metadata": {
        "colab": {
          "base_uri": "https://localhost:8080/"
        },
        "executionInfo": {
          "elapsed": 6080,
          "status": "ok",
          "timestamp": 1700203721187,
          "user": {
            "displayName": "Mi jeong Jeon",
            "userId": "17703911449277896138"
          },
          "user_tz": -540
        },
        "gather": {
          "logged": 1716703486353
        },
        "id": "S2voBSsUCC0X",
        "jupyter": {
          "outputs_hidden": true
        },
        "outputId": "360f8cd0-3f59-43ee-a037-a7384ca2903e"
      },
      "outputs": [],
      "source": [
        "# 5. Token Split\n",
        "\n",
        "from langchain.text_splitter import TokenTextSplitter\n",
        "\n",
        "splitter = TokenTextSplitter(chunk_size=1000, chunk_overlap=50)\n",
        "docs = splitter.split_documents(data)"
      ]
    },
    {
      "cell_type": "code",
      "execution_count": null,
      "metadata": {
        "colab": {
          "base_uri": "https://localhost:8080/"
        },
        "executionInfo": {
          "elapsed": 48849,
          "status": "ok",
          "timestamp": 1700204022214,
          "user": {
            "displayName": "Mi jeong Jeon",
            "userId": "17703911449277896138"
          },
          "user_tz": -540
        },
        "gather": {
          "logged": 1716702387933
        },
        "id": "tXzD_W_nCdRf",
        "outputId": "46886717-938c-4292-806e-578a12147788"
      },
      "outputs": [],
      "source": [
        "# 6. Summarize Chain without LCEL\n",
        "\n",
        "from langchain.chains.summarize import load_summarize_chain\n",
        "\n",
        "chain = load_summarize_chain(\n",
        "    llm=chat_llm,\n",
        "    chain_type=\"map_reduce\",\n",
        "    return_intermediate_steps=True\n",
        ")\n",
        "\n",
        "chain.invoke({\"input_documents\" : docs}, return_only_outputs=True)"
      ]
    },
    {
      "cell_type": "code",
      "execution_count": null,
      "metadata": {
        "gather": {
          "logged": 1716703872225
        }
      },
      "outputs": [],
      "source": [
        "# 7. Custom Prompt without LCEL\n",
        "\n",
        "from langchain import PromptTemplate\n",
        "from langchain.chains.summarize import load_summarize_chain\n",
        "\n",
        "prompt_template = \"\"\"{text}\n",
        "# 유튜브 부분 영상 자막을 한글로 요약 정리한다\n",
        "# 가독성을 높이기 위해 핵심 문장을 3~5개 리스트로 정리한다\n",
        "# 예시\n",
        "* 이 영상에서는 xx을 설명한다\n",
        "* xx이 yy되었음을 zz를 통해 알 수 있다\n",
        "\"\"\"\n",
        "\n",
        "combine_prompt_template = \"\"\"{text}\n",
        "# 여러 개의 자막 요약본을 종합하여 영상의 전체 내용을 한글로 요약한다\n",
        "\"\"\"\n",
        "\n",
        "# map : 부분 영상 자막 각각 요약\n",
        "MAP_PROMPT = PromptTemplate(template=prompt_template, input_variables=[\"text\"])\n",
        "# reduce : 부분 영상 요약본 총합\n",
        "COMBINE_PROMPT = PromptTemplate(template=combine_prompt_template, input_variables=[\"text\"])\n",
        "\n",
        "chain = load_summarize_chain(\n",
        "    llm=chat_llm,\n",
        "    chain_type=\"map_reduce\",\n",
        "    return_intermediate_steps=True,\n",
        "    map_prompt=MAP_PROMPT, combine_prompt=COMBINE_PROMPT)\n"
      ]
    },
    {
      "cell_type": "code",
      "execution_count": null,
      "metadata": {
        "gather": {
          "logged": 1716703899463
        },
        "jupyter": {
          "outputs_hidden": false,
          "source_hidden": false
        },
        "nteract": {
          "transient": {
            "deleting": false
          }
        }
      },
      "outputs": [],
      "source": [
        "chain.invoke({\"input_documents\": docs}, return_only_outputs=True)"
      ]
    },
    {
      "cell_type": "code",
      "execution_count": null,
      "metadata": {
        "gather": {
          "logged": 1716703937014
        },
        "jupyter": {
          "outputs_hidden": false,
          "source_hidden": false
        },
        "nteract": {
          "transient": {
            "deleting": false
          }
        }
      },
      "outputs": [],
      "source": [
        "# 8. Summarization Chain with LCEL\n",
        "\n",
        "from langchain_core.output_parsers import StrOutputParser\n",
        "\n",
        "# Map Chain\n",
        "map_chain= (\n",
        "    MAP_PROMPT\n",
        "   | chat_llm\n",
        "   | StrOutputParser() )"
      ]
    },
    {
      "cell_type": "code",
      "execution_count": null,
      "metadata": {
        "gather": {
          "logged": 1716703972271
        },
        "jupyter": {
          "outputs_hidden": false,
          "source_hidden": false
        },
        "nteract": {
          "transient": {
            "deleting": false
          }
        }
      },
      "outputs": [],
      "source": [
        "final_summary = \"\"\n",
        "\n",
        "for doc in docs:\n",
        "   new_summary = map_chain.invoke({\"text\": doc.page_content})\n",
        "   final_summary+=new_summary\n",
        "   print(\"========================\")\n",
        "   print(new_summary)"
      ]
    },
    {
      "cell_type": "code",
      "execution_count": null,
      "metadata": {
        "gather": {
          "logged": 1716704000309
        },
        "jupyter": {
          "outputs_hidden": false,
          "source_hidden": false
        },
        "nteract": {
          "transient": {
            "deleting": false
          }
        }
      },
      "outputs": [],
      "source": [
        "# 통합 Reduce Chain\n",
        "reduce_chain= (\n",
        "    COMBINE_PROMPT\n",
        "   | chat_llm\n",
        "   | StrOutputParser() )\n",
        "\n",
        "# 스트림 활용하기\n",
        "for chunk in reduce_chain.stream(final_summary):\n",
        "    print(chunk, end=\"\", flush=True) "
      ]
    }
  ],
  "metadata": {
    "colab": {
      "authorship_tag": "ABX9TyOLpehWKDGtK3bQ24eJ+RT2",
      "provenance": []
    },
    "kernel_info": {
      "name": "python310-sdkv2"
    },
    "kernelspec": {
      "display_name": "Python 3.10 - SDK v2",
      "language": "python",
      "name": "python310-sdkv2"
    },
    "language_info": {
      "codemirror_mode": {
        "name": "ipython",
        "version": 3
      },
      "file_extension": ".py",
      "mimetype": "text/x-python",
      "name": "python",
      "nbconvert_exporter": "python",
      "pygments_lexer": "ipython3",
      "version": "3.10.11"
    },
    "microsoft": {
      "host": {
        "AzureML": {
          "notebookHasBeenCompleted": true
        }
      }
    },
    "nteract": {
      "version": "nteract-front-end@1.0.0"
    }
  },
  "nbformat": 4,
  "nbformat_minor": 4
}
