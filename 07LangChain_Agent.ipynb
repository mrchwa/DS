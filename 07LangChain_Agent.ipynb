{
  "cells": [
    {
      "attachments": {},
      "cell_type": "markdown",
      "source": [
        "# LangChain + Agent\n",
        "**2024 삼성전자 무선사업부 생성형 AI 교육**"
      ],
      "metadata": {
        "id": "w2GM8vtc_FBB",
        "nteract": {
          "transient": {
            "deleting": false
          }
        }
      }
    },
    {
      "attachments": {},
      "cell_type": "markdown",
      "source": [
        "1. 기본 패키지 설정\n",
        "2. Tool 설정\n",
        "3. Agent + LLM 연결"
      ],
      "metadata": {
        "id": "dzXcYq79_FBE",
        "nteract": {
          "transient": {
            "deleting": false
          }
        }
      }
    },
    {
      "cell_type": "code",
      "source": [
        "# 1. 패키지 설치\n",
        "\n",
        "%pip install google-search-results\n",
        "%pip install wikipedia\n",
        "%pip install langchain_experimental"
      ],
      "outputs": [
        {
          "output_type": "stream",
          "name": "stdout",
          "text": "Collecting google-search-results\n  Downloading google_search_results-2.4.2.tar.gz (18 kB)\n  Preparing metadata (setup.py) ... \u001b[?25l-\b \bdone\n\u001b[?25hRequirement already satisfied: requests in /anaconda/envs/azureml_py310_sdkv2/lib/python3.10/site-packages (from google-search-results) (2.32.3)\nRequirement already satisfied: charset-normalizer<4,>=2 in /anaconda/envs/azureml_py310_sdkv2/lib/python3.10/site-packages (from requests->google-search-results) (3.3.2)\nRequirement already satisfied: idna<4,>=2.5 in /anaconda/envs/azureml_py310_sdkv2/lib/python3.10/site-packages (from requests->google-search-results) (3.7)\nRequirement already satisfied: urllib3<3,>=1.21.1 in /anaconda/envs/azureml_py310_sdkv2/lib/python3.10/site-packages (from requests->google-search-results) (2.2.1)\nRequirement already satisfied: certifi>=2017.4.17 in /anaconda/envs/azureml_py310_sdkv2/lib/python3.10/site-packages (from requests->google-search-results) (2024.6.2)\nBuilding wheels for collected packages: google-search-results\n  Building wheel for google-search-results (setup.py) ... \u001b[?25l-\b \b\\\b \bdone\n\u001b[?25h  Created wheel for google-search-results: filename=google_search_results-2.4.2-py3-none-any.whl size=32010 sha256=1193d676defa8172a92f9381e7bab4ba6015ae51cfa6fc7f49d7f0c004bbdc6c\n  Stored in directory: /home/azureuser/.cache/pip/wheels/d3/b2/c3/03302d12bb44a2cdff3c9371f31b72c0c4e84b8d2285eeac53\nSuccessfully built google-search-results\nInstalling collected packages: google-search-results\nSuccessfully installed google-search-results-2.4.2\nNote: you may need to restart the kernel to use updated packages.\nCollecting wikipedia\n  Downloading wikipedia-1.4.0.tar.gz (27 kB)\n  Preparing metadata (setup.py) ... \u001b[?25l-\b \bdone\n\u001b[?25hRequirement already satisfied: beautifulsoup4 in /anaconda/envs/azureml_py310_sdkv2/lib/python3.10/site-packages (from wikipedia) (4.12.3)\nRequirement already satisfied: requests<3.0.0,>=2.0.0 in /anaconda/envs/azureml_py310_sdkv2/lib/python3.10/site-packages (from wikipedia) (2.32.3)\nRequirement already satisfied: charset-normalizer<4,>=2 in /anaconda/envs/azureml_py310_sdkv2/lib/python3.10/site-packages (from requests<3.0.0,>=2.0.0->wikipedia) (3.3.2)\nRequirement already satisfied: idna<4,>=2.5 in /anaconda/envs/azureml_py310_sdkv2/lib/python3.10/site-packages (from requests<3.0.0,>=2.0.0->wikipedia) (3.7)\nRequirement already satisfied: urllib3<3,>=1.21.1 in /anaconda/envs/azureml_py310_sdkv2/lib/python3.10/site-packages (from requests<3.0.0,>=2.0.0->wikipedia) (2.2.1)\nRequirement already satisfied: certifi>=2017.4.17 in /anaconda/envs/azureml_py310_sdkv2/lib/python3.10/site-packages (from requests<3.0.0,>=2.0.0->wikipedia) (2024.6.2)\nRequirement already satisfied: soupsieve>1.2 in /anaconda/envs/azureml_py310_sdkv2/lib/python3.10/site-packages (from beautifulsoup4->wikipedia) (2.5)\nBuilding wheels for collected packages: wikipedia\n  Building wheel for wikipedia (setup.py) ... \u001b[?25l-\b \b\\\b \bdone\n\u001b[?25h  Created wheel for wikipedia: filename=wikipedia-1.4.0-py3-none-any.whl size=11680 sha256=f821ab656404a922035c93f9628a7fe89fbaf4056965fd6f691354d334b647a0\n  Stored in directory: /home/azureuser/.cache/pip/wheels/5e/b6/c5/93f3dec388ae76edc830cb42901bb0232504dfc0df02fc50de\nSuccessfully built wikipedia\nInstalling collected packages: wikipedia\nSuccessfully installed wikipedia-1.4.0\nNote: you may need to restart the kernel to use updated packages.\nCollecting langchain_experimental\n  Downloading langchain_experimental-0.0.61-py3-none-any.whl.metadata (1.5 kB)\nRequirement already satisfied: langchain-community<0.3.0,>=0.2.5 in /anaconda/envs/azureml_py310_sdkv2/lib/python3.10/site-packages (from langchain_experimental) (0.2.5)\nRequirement already satisfied: langchain-core<0.3.0,>=0.2.7 in /anaconda/envs/azureml_py310_sdkv2/lib/python3.10/site-packages (from langchain_experimental) (0.2.9)\nRequirement already satisfied: PyYAML>=5.3 in /anaconda/envs/azureml_py310_sdkv2/lib/python3.10/site-packages (from langchain-community<0.3.0,>=0.2.5->langchain_experimental) (6.0.1)\nRequirement already satisfied: SQLAlchemy<3,>=1.4 in /anaconda/envs/azureml_py310_sdkv2/lib/python3.10/site-packages (from langchain-community<0.3.0,>=0.2.5->langchain_experimental) (2.0.30)\nRequirement already satisfied: aiohttp<4.0.0,>=3.8.3 in /anaconda/envs/azureml_py310_sdkv2/lib/python3.10/site-packages (from langchain-community<0.3.0,>=0.2.5->langchain_experimental) (3.9.5)\nRequirement already satisfied: dataclasses-json<0.7,>=0.5.7 in /anaconda/envs/azureml_py310_sdkv2/lib/python3.10/site-packages (from langchain-community<0.3.0,>=0.2.5->langchain_experimental) (0.6.7)\nRequirement already satisfied: langchain<0.3.0,>=0.2.5 in /anaconda/envs/azureml_py310_sdkv2/lib/python3.10/site-packages (from langchain-community<0.3.0,>=0.2.5->langchain_experimental) (0.2.5)\nRequirement already satisfied: langsmith<0.2.0,>=0.1.0 in /anaconda/envs/azureml_py310_sdkv2/lib/python3.10/site-packages (from langchain-community<0.3.0,>=0.2.5->langchain_experimental) (0.1.82)\nRequirement already satisfied: numpy<2,>=1 in /anaconda/envs/azureml_py310_sdkv2/lib/python3.10/site-packages (from langchain-community<0.3.0,>=0.2.5->langchain_experimental) (1.26.4)\nRequirement already satisfied: requests<3,>=2 in /anaconda/envs/azureml_py310_sdkv2/lib/python3.10/site-packages (from langchain-community<0.3.0,>=0.2.5->langchain_experimental) (2.32.3)\nRequirement already satisfied: tenacity<9.0.0,>=8.1.0 in /anaconda/envs/azureml_py310_sdkv2/lib/python3.10/site-packages (from langchain-community<0.3.0,>=0.2.5->langchain_experimental) (8.4.2)\nRequirement already satisfied: jsonpatch<2.0,>=1.33 in /anaconda/envs/azureml_py310_sdkv2/lib/python3.10/site-packages (from langchain-core<0.3.0,>=0.2.7->langchain_experimental) (1.33)\nRequirement already satisfied: packaging<25,>=23.2 in /anaconda/envs/azureml_py310_sdkv2/lib/python3.10/site-packages (from langchain-core<0.3.0,>=0.2.7->langchain_experimental) (24.0)\nRequirement already satisfied: pydantic<3,>=1 in /anaconda/envs/azureml_py310_sdkv2/lib/python3.10/site-packages (from langchain-core<0.3.0,>=0.2.7->langchain_experimental) (2.7.4)\nRequirement already satisfied: aiosignal>=1.1.2 in /anaconda/envs/azureml_py310_sdkv2/lib/python3.10/site-packages (from aiohttp<4.0.0,>=3.8.3->langchain-community<0.3.0,>=0.2.5->langchain_experimental) (1.3.1)\nRequirement already satisfied: attrs>=17.3.0 in /anaconda/envs/azureml_py310_sdkv2/lib/python3.10/site-packages (from aiohttp<4.0.0,>=3.8.3->langchain-community<0.3.0,>=0.2.5->langchain_experimental) (23.2.0)\nRequirement already satisfied: frozenlist>=1.1.1 in /anaconda/envs/azureml_py310_sdkv2/lib/python3.10/site-packages (from aiohttp<4.0.0,>=3.8.3->langchain-community<0.3.0,>=0.2.5->langchain_experimental) (1.4.1)\nRequirement already satisfied: multidict<7.0,>=4.5 in /anaconda/envs/azureml_py310_sdkv2/lib/python3.10/site-packages (from aiohttp<4.0.0,>=3.8.3->langchain-community<0.3.0,>=0.2.5->langchain_experimental) (6.0.5)\nRequirement already satisfied: yarl<2.0,>=1.0 in /anaconda/envs/azureml_py310_sdkv2/lib/python3.10/site-packages (from aiohttp<4.0.0,>=3.8.3->langchain-community<0.3.0,>=0.2.5->langchain_experimental) (1.9.4)\nRequirement already satisfied: async-timeout<5.0,>=4.0 in /anaconda/envs/azureml_py310_sdkv2/lib/python3.10/site-packages (from aiohttp<4.0.0,>=3.8.3->langchain-community<0.3.0,>=0.2.5->langchain_experimental) (4.0.3)\nRequirement already satisfied: marshmallow<4.0.0,>=3.18.0 in /anaconda/envs/azureml_py310_sdkv2/lib/python3.10/site-packages (from dataclasses-json<0.7,>=0.5.7->langchain-community<0.3.0,>=0.2.5->langchain_experimental) (3.21.3)\nRequirement already satisfied: typing-inspect<1,>=0.4.0 in /anaconda/envs/azureml_py310_sdkv2/lib/python3.10/site-packages (from dataclasses-json<0.7,>=0.5.7->langchain-community<0.3.0,>=0.2.5->langchain_experimental) (0.9.0)\nRequirement already satisfied: jsonpointer>=1.9 in /anaconda/envs/azureml_py310_sdkv2/lib/python3.10/site-packages (from jsonpatch<2.0,>=1.33->langchain-core<0.3.0,>=0.2.7->langchain_experimental) (3.0.0)\nRequirement already satisfied: langchain-text-splitters<0.3.0,>=0.2.0 in /anaconda/envs/azureml_py310_sdkv2/lib/python3.10/site-packages (from langchain<0.3.0,>=0.2.5->langchain-community<0.3.0,>=0.2.5->langchain_experimental) (0.2.1)\nRequirement already satisfied: orjson<4.0.0,>=3.9.14 in /anaconda/envs/azureml_py310_sdkv2/lib/python3.10/site-packages (from langsmith<0.2.0,>=0.1.0->langchain-community<0.3.0,>=0.2.5->langchain_experimental) (3.10.5)\nRequirement already satisfied: annotated-types>=0.4.0 in /anaconda/envs/azureml_py310_sdkv2/lib/python3.10/site-packages (from pydantic<3,>=1->langchain-core<0.3.0,>=0.2.7->langchain_experimental) (0.7.0)\nRequirement already satisfied: pydantic-core==2.18.4 in /anaconda/envs/azureml_py310_sdkv2/lib/python3.10/site-packages (from pydantic<3,>=1->langchain-core<0.3.0,>=0.2.7->langchain_experimental) (2.18.4)\nRequirement already satisfied: typing-extensions>=4.6.1 in /anaconda/envs/azureml_py310_sdkv2/lib/python3.10/site-packages (from pydantic<3,>=1->langchain-core<0.3.0,>=0.2.7->langchain_experimental) (4.12.2)\nRequirement already satisfied: charset-normalizer<4,>=2 in /anaconda/envs/azureml_py310_sdkv2/lib/python3.10/site-packages (from requests<3,>=2->langchain-community<0.3.0,>=0.2.5->langchain_experimental) (3.3.2)\nRequirement already satisfied: idna<4,>=2.5 in /anaconda/envs/azureml_py310_sdkv2/lib/python3.10/site-packages (from requests<3,>=2->langchain-community<0.3.0,>=0.2.5->langchain_experimental) (3.7)\nRequirement already satisfied: urllib3<3,>=1.21.1 in /anaconda/envs/azureml_py310_sdkv2/lib/python3.10/site-packages (from requests<3,>=2->langchain-community<0.3.0,>=0.2.5->langchain_experimental) (2.2.1)\nRequirement already satisfied: certifi>=2017.4.17 in /anaconda/envs/azureml_py310_sdkv2/lib/python3.10/site-packages (from requests<3,>=2->langchain-community<0.3.0,>=0.2.5->langchain_experimental) (2024.6.2)\nRequirement already satisfied: greenlet!=0.4.17 in /anaconda/envs/azureml_py310_sdkv2/lib/python3.10/site-packages (from SQLAlchemy<3,>=1.4->langchain-community<0.3.0,>=0.2.5->langchain_experimental) (3.0.3)\nRequirement already satisfied: mypy-extensions>=0.3.0 in /anaconda/envs/azureml_py310_sdkv2/lib/python3.10/site-packages (from typing-inspect<1,>=0.4.0->dataclasses-json<0.7,>=0.5.7->langchain-community<0.3.0,>=0.2.5->langchain_experimental) (1.0.0)\nDownloading langchain_experimental-0.0.61-py3-none-any.whl (202 kB)\n\u001b[2K   \u001b[90m━━━━━━━━━━━━━━━━━━━━━━━━━━━━━━━━━━━━━━━━\u001b[0m \u001b[32m202.5/202.5 kB\u001b[0m \u001b[31m4.1 MB/s\u001b[0m eta \u001b[36m0:00:00\u001b[0ma \u001b[36m0:00:01\u001b[0m\n\u001b[?25hInstalling collected packages: langchain_experimental\nSuccessfully installed langchain_experimental-0.0.61\nNote: you may need to restart the kernel to use updated packages.\n"
        }
      ],
      "execution_count": 1,
      "metadata": {
        "colab": {
          "base_uri": "https://localhost:8080/"
        },
        "gather": {
          "logged": 1719302355417
        },
        "id": "Ua4tsQUd_FBG",
        "jupyter": {
          "outputs_hidden": true,
          "source_hidden": false
        },
        "nteract": {
          "transient": {
            "deleting": false
          }
        },
        "outputId": "d4a94660-2328-4046-ca54-2a1f43a7185b"
      }
    },
    {
      "cell_type": "code",
      "source": [
        "# 2. 기본 패키지 설정 & AzureOpenAI 환경설정\n",
        "\n",
        "import os\n",
        "\n",
        "from config_azure import (\n",
        "    AZURE_OPENAI_API_VERSION,\n",
        "    AZURE_OPENAI_ENDPOINT,\n",
        "    AZURE_OPENAI_KEY,\n",
        "    SERPAPI_API_KEY # google search\n",
        ")\n",
        "# lagchain 사용시 반드시 환경변수 값 사용!!\n",
        "os.environ[\"OPENAI_API_TYPE\"] = \"azure\"\n",
        "os.environ[\"AZURE_OPENAI_API_KEY\"] = AZURE_OPENAI_KEY\n",
        "os.environ[\"AZURE_OPENAI_ENDPOINT\"] = AZURE_OPENAI_ENDPOINT\n",
        "os.environ[\"OPENAI_API_VERSION\"] = AZURE_OPENAI_API_VERSION\n",
        "\n",
        "os.environ[\"SERPAPI_API_KEY\"] = SERPAPI_API_KEY"
      ],
      "outputs": [],
      "execution_count": 1,
      "metadata": {
        "gather": {
          "logged": 1719302383279
        },
        "id": "769Kd1Ul_FBG",
        "jupyter": {
          "outputs_hidden": false,
          "source_hidden": false
        },
        "nteract": {
          "transient": {
            "deleting": false
          }
        }
      }
    },
    {
      "cell_type": "code",
      "source": [
        "# 2. Azure OpenAI LLM\n",
        "\n",
        "from langchain_openai import AzureOpenAI\n",
        "\n",
        "completion_llm = AzureOpenAI(\n",
        "    deployment_name=\"gpt-35-turbo-instruct\",\n",
        "    max_tokens=512,\n",
        "    temperature=0.1,\n",
        ")\n",
        "\n",
        "\n",
        "from langchain_openai import AzureChatOpenAI\n",
        "\n",
        "chat_llm = AzureChatOpenAI(\n",
        "    deployment_name=\"gpt-35-turbo\",\n",
        "    max_tokens=512,\n",
        "    temperature=0.2,\n",
        ")"
      ],
      "outputs": [],
      "execution_count": 2,
      "metadata": {
        "gather": {
          "logged": 1719302474539
        },
        "id": "12PLolMg_FBH",
        "jupyter": {
          "outputs_hidden": false,
          "source_hidden": false
        },
        "nteract": {
          "transient": {
            "deleting": false
          }
        }
      }
    },
    {
      "cell_type": "code",
      "source": [
        "# 3-1. Agent 생성 without LCEL\n",
        "\n",
        "from langchain.utilities import SerpAPIWrapper\n",
        "from langchain.agents import AgentExecutor\n",
        "from langchain.agents import create_react_agent\n",
        "from langchain.agents import load_tools\n",
        "from langchain_core.prompts import PromptTemplate\n",
        "\n",
        "tools_name = [\"serpapi\", \"wikipedia\"] # google : 최신 사건, 제품, wikipedia : 역사적인 인물, 사건, 회사, 유명한 물품\n",
        "tools = load_tools(tools_name)\n",
        "\n",
        "template = \"\"\"Answer the following questions as best you can. \n",
        "You have access to the following tools: {tools}\n",
        "\n",
        "Use the following format:\n",
        "\n",
        "Question: the input question you must answer\n",
        "Thought: you should always think about what to do\n",
        "Action: the action to take, should be one of [{tool_names}]\n",
        "Action Input: the input to the action\n",
        "Observation: the result of the action\n",
        "... (this Thought/Action/Action Input/Observation can repeat N times)\n",
        "Thought: I now know the final answer\n",
        "Final Answer: the final answer to the original input question\n",
        "\n",
        "Begin!\n",
        "\n",
        "Question: {input}\n",
        "Thought:{agent_scratchpad}\n",
        "\"\"\"\n",
        "\n",
        "prompt = PromptTemplate.from_template(template)\n",
        "\n",
        "search_agent = create_react_agent(completion_llm, tools, prompt)\n",
        "\n",
        "agent_executor = AgentExecutor(\n",
        "    agent=search_agent,\n",
        "    tools=tools,\n",
        "    verbose=True,\n",
        "    handle_parsing_errors=True,\n",
        ")\n"
      ],
      "outputs": [],
      "execution_count": 9,
      "metadata": {
        "gather": {
          "logged": 1719302936128
        },
        "jupyter": {
          "outputs_hidden": false,
          "source_hidden": false
        },
        "nteract": {
          "transient": {
            "deleting": false
          }
        }
      }
    },
    {
      "cell_type": "code",
      "source": [
        "# 3-2. Agent 실행\n",
        "\n",
        "query1 = \"갤럭시 최신 핸드폰 기종 뭐야?\"\n",
        "query2 = \"What is the latest Galaxy phone model?\"\n",
        "query3 = \"구글 최신 생성형 인공지능 모델을 알려줘\"\n",
        "query4 = \"Please tell me about Google’s latest generative artificial intelligence model.\"\n",
        "\n",
        "agent_executor.invoke({\"input\": query1})"
      ],
      "outputs": [
        {
          "output_type": "stream",
          "name": "stdout",
          "text": "\n\n\u001b[1m> Entering new AgentExecutor chain...\u001b[0m\n\u001b[32;1m\u001b[1;3mYou should always think about what to do\nAction: Search\nAction Input: \"Galaxy latest phone model\"\u001b[0m\u001b[36;1m\u001b[1;3m[{'position': 1, 'block_position': 'top', 'title': 'Samsung Galaxy S24 Ultra 512GB in Titanium Black (with 36 monthly installment payments + plan)', 'price': '$0.00 now', 'extracted_price': 0.0, 'link': 'https://www.verizon.com/business/products/devices/smartphones/samsung-galaxy-s24-ultra/', 'source': 'Verizon Business', 'thumbnail': 'https://serpapi.com/searches/667a7b017690dcfea369a627/images/d1ac8d9dc063389df12d85b20fd5b57a98e0db83050117b701d7a5d4049f1a43.webp', 'extensions': ['30-day returns (most)', 'Free by 6/27', 'Quality camera', 'Performs well', 'Long battery life', 'Quality display']}, {'position': 2, 'block_position': 'top', 'title': 'Samsung Galaxy S24 Ultra 512GB in Titanium Yellow (with 36 monthly installment payments + plan)', 'price': '$0.00 now', 'extracted_price': 0.0, 'link': 'https://www.verizon.com/business/products/devices/smartphones/samsung-galaxy-s24-ultra/', 'source': 'Verizon Business', 'thumbnail': 'https://serpapi.com/searches/667a7b017690dcfea369a627/images/d1ac8d9dc063389df12d85b20fd5b57a16a354e1e0889626ce455110c78d2aae.webp', 'extensions': ['30-day returns (most)', 'Free by 6/27', 'Quality camera', 'Performs well', 'Long battery life', 'Quality display']}, {'position': 3, 'block_position': 'top', 'title': 'Samsung Galaxy S24 Plus 512GB in Colbalt Violet (with 36 monthly installment payments + plan)', 'price': '$0.00 now', 'extracted_price': 0.0, 'link': 'https://www.verizon.com/business/products/devices/smartphones/samsung-galaxy-s24-plus/', 'source': 'Verizon Business', 'thumbnail': 'https://serpapi.com/searches/667a7b017690dcfea369a627/images/d1ac8d9dc063389df12d85b20fd5b57a1473d396035db00d2c0d1e35c4aa500c.webp', 'extensions': ['30-day returns (most)', 'Free by 6/27', 'Quality camera', 'Performs well', 'Long battery life', 'Attractive']}]\u001b[0m\u001b[32;1m\u001b[1;3mYou should always think about what to do\nAction: Search\nAction Input: \"Galaxy latest phone model\"\u001b[0m\u001b[36;1m\u001b[1;3m[{'position': 1, 'block_position': 'top', 'title': 'Samsung Galaxy S24 Ultra 512GB in Titanium Black (with 36 monthly installment payments + plan)', 'price': '$0.00 now', 'extracted_price': 0.0, 'link': 'https://www.verizon.com/business/products/devices/smartphones/samsung-galaxy-s24-ultra/', 'source': 'Verizon Business', 'thumbnail': 'https://serpapi.com/searches/667a7b017690dcfea369a627/images/d1ac8d9dc063389df12d85b20fd5b57a98e0db83050117b701d7a5d4049f1a43.webp', 'extensions': ['30-day returns (most)', 'Free by 6/27', 'Quality camera', 'Performs well', 'Long battery life', 'Quality display']}, {'position': 2, 'block_position': 'top', 'title': 'Samsung Galaxy S24 Ultra 512GB in Titanium Yellow (with 36 monthly installment payments + plan)', 'price': '$0.00 now', 'extracted_price': 0.0, 'link': 'https://www.verizon.com/business/products/devices/smartphones/samsung-galaxy-s24-ultra/', 'source': 'Verizon Business', 'thumbnail': 'https://serpapi.com/searches/667a7b017690dcfea369a627/images/d1ac8d9dc063389df12d85b20fd5b57a16a354e1e0889626ce455110c78d2aae.webp', 'extensions': ['30-day returns (most)', 'Free by 6/27', 'Quality camera', 'Performs well', 'Long battery life', 'Quality display']}, {'position': 3, 'block_position': 'top', 'title': 'Samsung Galaxy S24 Plus 512GB in Colbalt Violet (with 36 monthly installment payments + plan)', 'price': '$0.00 now', 'extracted_price': 0.0, 'link': 'https://www.verizon.com/business/products/devices/smartphones/samsung-galaxy-s24-plus/', 'source': 'Verizon Business', 'thumbnail': 'https://serpapi.com/searches/667a7b017690dcfea369a627/images/d1ac8d9dc063389df12d85b20fd5b57a1473d396035db00d2c0d1e35c4aa500c.webp', 'extensions': ['30-day returns (most)', 'Free by 6/27', 'Quality camera', 'Performs well', 'Long battery life', 'Attractive']}]\u001b[0m\u001b[32;1m\u001b[1;3mI now know the final answer\nFinal Answer: The latest Galaxy phone model is the Samsung Galaxy S24 Ultra or the Samsung Galaxy S24 Plus.\u001b[0m\n\n\u001b[1m> Finished chain.\u001b[0m\n"
        },
        {
          "output_type": "execute_result",
          "execution_count": 10,
          "data": {
            "text/plain": "{'input': '갤럭시 최신 핸드폰 기종 뭐야?',\n 'output': 'The latest Galaxy phone model is the Samsung Galaxy S24 Ultra or the Samsung Galaxy S24 Plus.'}"
          },
          "metadata": {}
        }
      ],
      "execution_count": 10,
      "metadata": {
        "colab": {
          "base_uri": "https://localhost:8080/",
          "height": 254
        },
        "gather": {
          "logged": 1719302943348
        },
        "id": "SbZWItYx_FBH",
        "outputId": "193f8787-ea03-48bb-9d79-0d7f0cda6653"
      }
    },
    {
      "cell_type": "code",
      "source": [
        "# 4-1. Agent with LCEL\n",
        "\n",
        "from langchain.tools.render import render_text_description\n",
        "from langchain.agents.format_scratchpad import format_log_to_str\n",
        "from langchain.agents.output_parsers import ReActSingleInputOutputParser\n",
        "\n",
        "prompt = prompt.partial(\n",
        "    tools=render_text_description(tools),\n",
        "    tool_names=\", \".join([t.name for t in tools]),\n",
        ")\n",
        "llm_with_stop = completion_llm.bind(stop=[\"\\nObservation\"])\n",
        "\n",
        "agent = (\n",
        "    {\n",
        "        \"input\": lambda x: x[\"input\"],\n",
        "        \"agent_scratchpad\": lambda x: format_log_to_str(x[\"intermediate_steps\"]),\n",
        "    }\n",
        "    | prompt\n",
        "    | llm_with_stop\n",
        "    | ReActSingleInputOutputParser()\n",
        ")\n",
        "\n",
        "agent_executor = AgentExecutor(agent=agent, tools=tools, verbose=True)\n"
      ],
      "outputs": [],
      "execution_count": 11,
      "metadata": {
        "gather": {
          "logged": 1719302973008
        },
        "jupyter": {
          "outputs_hidden": false,
          "source_hidden": false
        },
        "nteract": {
          "transient": {
            "deleting": false
          }
        }
      }
    },
    {
      "cell_type": "code",
      "source": [
        "# 4-2. 질문\n",
        "\n",
        "query1 = \"갤럭시 최신 핸드폰 기종 뭐야?\"\n",
        "query2 = \"What is the latest Galaxy phone model?\"\n",
        "query3 = \"구글 최신 생성형 인공지능 모델을 알려줘\"\n",
        "query4 = \"Please tell me about Google’s latest generative artificial intelligence model.\"\n",
        "\n",
        "agent_executor.invoke({\"input\": query1})"
      ],
      "outputs": [
        {
          "output_type": "stream",
          "name": "stdout",
          "text": "\n\n\u001b[1m> Entering new AgentExecutor chain...\u001b[0m\n\u001b[32;1m\u001b[1;3mYou should always think about what to do\nAction: Search\nAction Input: \"latest Samsung phone model\"\u001b[0m\u001b[36;1m\u001b[1;3m['Discover Galaxy smartphones · Galaxy S24 Series · Galaxy Z Flip5 · Galaxy Z Fold5 · Galaxy S23 FE · Certified Re-Newed · Galaxy A Series.', 'Discover the best mobiles in Jordan. Explore new Samsung mobiles prices & models. Shop now from our various models for unbeatable prices at Samsung Jordan!', 'Get the latest information on the new Samsung Galaxy S24 Series, and other phone releases like Z Flip5, and Z Fold5.', 'Samsung Galaxy S24 Plus, $999, 6.7 inches ; Samsung Galaxy Z Fold 5, $1,799, 7.6 inches and 6.2 inches ; Samsung Galaxy Z Flip 5, $999, 6.7 inches ...', 'Best Overall: Samsung Galaxy S24 Ultra ; Best Budget Galaxy: Samsung Galaxy A25 5G ; Best Midrange Galaxy: Samsung Galaxy A35 5G ; Best Galaxy ...', 'Discover the full range of Samsung smartphones at Samsung Caribbean. Compare models by product type and features that matter to you.', 'The All New Galaxy · Galaxy S24 Ultra · Galaxy S24 | S24+ · Galaxy Z Flip5 · Galaxy Z Fold5 · Galaxy Tab S9 | S9+ | S9 Ultra · Galaxy Watch6 · Galaxy Book4 Series ...', 'Foldable models come in various selections: The Z Fold 5 and Galaxy Z Flip 5 are the newest Samsung devices in this category. As more ...']\u001b[0m\u001b[32;1m\u001b[1;3mYou should always think about what to do\nAction: Search\nAction Input: \"Samsung latest phone model\"\u001b[0m\u001b[36;1m\u001b[1;3m['Discover our best Galaxy smartphones and explore the full line of Samsung cell phones including Galaxy S24, Galaxy Z Fold5, Galaxy Z Flip5, Galaxy A54 5G, ...', 'Discover the best mobiles in Jordan. Explore new Samsung mobiles prices & models. Shop now from our various models for unbeatable prices at Samsung Jordan!', 'Get the latest information on the new Samsung Galaxy S24 Series, and other phone releases like Z Flip5, and Z Fold5.', 'Samsung Galaxy S24 Plus, $999, 6.7 inches ; Samsung Galaxy Z Fold 5, $1,799, 7.6 inches and 6.2 inches ; Samsung Galaxy Z Flip 5, $999, 6.7 inches ...', 'Best Overall: Samsung Galaxy S24 Ultra ; Best Budget Galaxy: Samsung Galaxy A25 5G ; Best Midrange Galaxy: Samsung Galaxy A35 5G ; Best Galaxy ...', 'The Galaxy S24 series arrived earlier this year. All three models, the Galaxy S24, S24 Plus and S24 Ultra, got new AI features in addition ...', 'Select and compare the latest features and innovations available across the entire family of Samsung Galaxy phones, and find the perfect phone for you!', 'The latest models are the Galaxy S24, S24+, and S24 Ultra, released in January 2024. Samsung Galaxy A (Alpha) series. edit. Main article: Samsung Galaxy A ...']\u001b[0m\u001b[32;1m\u001b[1;3mYou should always think about what to do\nAction: wikipedia\nAction Input: \"Samsung Galaxy S24\"\u001b[0m\u001b[33;1m\u001b[1;3mPage: Samsung Galaxy S24\nSummary: The Samsung Galaxy S24 is a series of high-end Android-based smartphones designed, developed, manufactured, and marketed by Samsung Electronics as part of its flagship Galaxy S series. They collectively serve as the successor to the Samsung Galaxy S23 series. The phones were announced on January 17, 2024, at Galaxy Unpacked, alongside Galaxy AI, in San Jose, California. The phones were subsequently released on January 31, 2024.\n\n\n\nPage: Samsung Galaxy S23\nSummary: The Samsung Galaxy S23 Series, is a series of high-end Android-based smartphones designed, developed, manufactured, and marketed by Samsung Electronics as part of its flagship Galaxy S series. The phones were announced and unveiled on 1 February 2023 at the Galaxy Unpacked in-person event and were released on 17 February 2023. They collectively serve as the successor to the Samsung Galaxy S22 series. It was succeeded by the Samsung Galaxy S24 series.\n\nPage: Samsung Galaxy S series\nSummary: The Samsung Galaxy S series is a line of flagship Android high end smartphones and tablet computers produced by Samsung Electronics. In conjunction with the foldable Galaxy Z series, the lineup serves as Samsung's flagship smartphone lineup, and is the high end line of the wider Samsung Galaxy family of Android mobile computing devices.\nThe series consisted initially of smartphones and the first device, the Samsung Galaxy S, was announced in March 2010 and released for sale in June of that year. Samsung later expanded the Galaxy S line to tablet computers with the announcement of the Galaxy Tab S in June 2014 and released the next month. The Samsung Galaxy Tab series is the related tablet line.\u001b[0m\u001b[32;1m\u001b[1;3mYou should always think about what to do\nAction: wikipedia\nAction Input: \"Samsung Galaxy Z Flip5\"\u001b[0m\u001b[33;1m\u001b[1;3mPage: Samsung Galaxy Z Flip\nSummary: The Samsung Galaxy Z Flip (sold as Samsung Galaxy Flip in certain territories) is an Android-based foldable smartphone developed by Samsung Electronics as part of the Samsung Galaxy Z series. Its existence was first revealed in an advertisement during the 2020 Academy Awards. Unveiled alongside the Galaxy S20 on February 11, 2020, it was released on February 14, 2020. Unlike the Galaxy Z Fold, the device folds horizontally and uses a hybrid glass coating branded as \"Infinity Flex Display\". It is available in three colors for the LTE version (Mirror Purple, Mirror Black, and Mirror Gold) and two colors for the 5G version (Mystic Bronze and Mystic Gray). The 5G version was also made available in a limited-edition \"Mystic White\" color.\n\nPage: Samsung Galaxy Z Flip 5\nSummary: The Samsung Galaxy Z Flip 5 (stylized as Samsung Galaxy Z Flip5) is an Android-based foldable smartphone that was announced by Samsung Electronics on July 26, 2023. Its unveiling marked the first time that the Galaxy Unpacked event was held in the company's home country of South Korea. The phone was released on August 11, 2023.\n\nPage: Samsung Galaxy\nSummary: Samsung Galaxy  (Korean: 삼성 갤럭시; stylized as SΛMSUNG Galaxy since 2015 (except Japan where it omits the Samsung branding), previously stylized as Samsung GALAXY; abbreviated as SG) is a series of computing and Android mobile computing devices that are designed, manufactured and marketed by Samsung Electronics. The product line includes the Samsung Galaxy S series of high-end phones, Galaxy Z series of high-end foldables, Galaxy A series of mid-range phones, the Galaxy Book of laptops, the Samsung Galaxy Tab series, the Samsung Galaxy Watch, the Galaxy Buds series and the Galaxy Fit.\nSamsung Galaxy devices with a user interface called One UI (with previous versions being known as Samsung Experience and TouchWiz). However, the Galaxy TabPro S is the first Galaxy-branded Windows 10 device that was announced in CES 2016.\nThe Galaxy Watch is the first Galaxy-branded smartwatch since the release of later iterations of the Gear smartwatch from 2014 to 2017. In 2020, Samsung added the Galaxy Chromebook 2-in-1 laptop running ChromeOS to the Galaxy branding lineup. The follow-on Galaxy Chromebook 2 was released in 2021.\n\n\u001b[0m\u001b[32;1m\u001b[1;3mI now know the final answer\nFinal Answer: The latest Samsung phone model is the Samsung Galaxy S24 series, which was released in January 2024. The Samsung Galaxy S24 is a high-end Android-based smartphone and part of the flagship Galaxy S series. Other recent models include the Samsung Galaxy Z Flip and the Samsung Galaxy Z Flip5. The Samsung Galaxy series also includes other devices such as tablets, laptops, and smartwatches.\u001b[0m\n\n\u001b[1m> Finished chain.\u001b[0m\n"
        },
        {
          "output_type": "execute_result",
          "execution_count": 12,
          "data": {
            "text/plain": "{'input': '갤럭시 최신 핸드폰 기종 뭐야?',\n 'output': 'The latest Samsung phone model is the Samsung Galaxy S24 series, which was released in January 2024. The Samsung Galaxy S24 is a high-end Android-based smartphone and part of the flagship Galaxy S series. Other recent models include the Samsung Galaxy Z Flip and the Samsung Galaxy Z Flip5. The Samsung Galaxy series also includes other devices such as tablets, laptops, and smartwatches.'}"
          },
          "metadata": {}
        }
      ],
      "execution_count": 12,
      "metadata": {
        "gather": {
          "logged": 1719302990365
        },
        "jupyter": {
          "outputs_hidden": false,
          "source_hidden": false
        },
        "nteract": {
          "transient": {
            "deleting": false
          }
        }
      }
    },
    {
      "attachments": {},
      "cell_type": "markdown",
      "source": [
        "### CSV 데이터 분석 Agent"
      ],
      "metadata": {
        "id": "Zr5osFk_expH",
        "nteract": {
          "transient": {
            "deleting": false
          }
        }
      }
    },
    {
      "cell_type": "code",
      "source": [
        "# 파일 불러오기\n",
        "import pandas as pd\n",
        "df = pd.read_csv(\"titanic.csv\")\n",
        "df.head()"
      ],
      "outputs": [
        {
          "output_type": "execute_result",
          "execution_count": 13,
          "data": {
            "text/plain": "   PassengerId  Survived  Pclass  \\\n0            1         0       3   \n1            2         1       1   \n2            3         1       3   \n3            4         1       1   \n4            5         0       3   \n\n                                                Name  Gender   Age  SibSp  \\\n0                            Braund, Mr. Owen Harris    male  22.0      1   \n1  Cumings, Mrs. John Bradley (Florence Briggs Th...  female  38.0      1   \n2                             Heikkinen, Miss. Laina  female  26.0      0   \n3       Futrelle, Mrs. Jacques Heath (Lily May Peel)  female  35.0      1   \n4                           Allen, Mr. William Henry    male  35.0      0   \n\n   Parch            Ticket     Fare Cabin Embarked  \n0      0         A/5 21171   7.2500   NaN        S  \n1      0          PC 17599  71.2833   C85        C  \n2      0  STON/O2. 3101282   7.9250   NaN        S  \n3      0            113803  53.1000  C123        S  \n4      0            373450   8.0500   NaN        S  ",
            "text/html": "<div>\n<style scoped>\n    .dataframe tbody tr th:only-of-type {\n        vertical-align: middle;\n    }\n\n    .dataframe tbody tr th {\n        vertical-align: top;\n    }\n\n    .dataframe thead th {\n        text-align: right;\n    }\n</style>\n<table border=\"1\" class=\"dataframe\">\n  <thead>\n    <tr style=\"text-align: right;\">\n      <th></th>\n      <th>PassengerId</th>\n      <th>Survived</th>\n      <th>Pclass</th>\n      <th>Name</th>\n      <th>Gender</th>\n      <th>Age</th>\n      <th>SibSp</th>\n      <th>Parch</th>\n      <th>Ticket</th>\n      <th>Fare</th>\n      <th>Cabin</th>\n      <th>Embarked</th>\n    </tr>\n  </thead>\n  <tbody>\n    <tr>\n      <th>0</th>\n      <td>1</td>\n      <td>0</td>\n      <td>3</td>\n      <td>Braund, Mr. Owen Harris</td>\n      <td>male</td>\n      <td>22.0</td>\n      <td>1</td>\n      <td>0</td>\n      <td>A/5 21171</td>\n      <td>7.2500</td>\n      <td>NaN</td>\n      <td>S</td>\n    </tr>\n    <tr>\n      <th>1</th>\n      <td>2</td>\n      <td>1</td>\n      <td>1</td>\n      <td>Cumings, Mrs. John Bradley (Florence Briggs Th...</td>\n      <td>female</td>\n      <td>38.0</td>\n      <td>1</td>\n      <td>0</td>\n      <td>PC 17599</td>\n      <td>71.2833</td>\n      <td>C85</td>\n      <td>C</td>\n    </tr>\n    <tr>\n      <th>2</th>\n      <td>3</td>\n      <td>1</td>\n      <td>3</td>\n      <td>Heikkinen, Miss. Laina</td>\n      <td>female</td>\n      <td>26.0</td>\n      <td>0</td>\n      <td>0</td>\n      <td>STON/O2. 3101282</td>\n      <td>7.9250</td>\n      <td>NaN</td>\n      <td>S</td>\n    </tr>\n    <tr>\n      <th>3</th>\n      <td>4</td>\n      <td>1</td>\n      <td>1</td>\n      <td>Futrelle, Mrs. Jacques Heath (Lily May Peel)</td>\n      <td>female</td>\n      <td>35.0</td>\n      <td>1</td>\n      <td>0</td>\n      <td>113803</td>\n      <td>53.1000</td>\n      <td>C123</td>\n      <td>S</td>\n    </tr>\n    <tr>\n      <th>4</th>\n      <td>5</td>\n      <td>0</td>\n      <td>3</td>\n      <td>Allen, Mr. William Henry</td>\n      <td>male</td>\n      <td>35.0</td>\n      <td>0</td>\n      <td>0</td>\n      <td>373450</td>\n      <td>8.0500</td>\n      <td>NaN</td>\n      <td>S</td>\n    </tr>\n  </tbody>\n</table>\n</div>"
          },
          "metadata": {}
        }
      ],
      "execution_count": 13,
      "metadata": {
        "gather": {
          "logged": 1719303306908
        },
        "id": "u9C-68FnexpH",
        "jupyter": {
          "outputs_hidden": false,
          "source_hidden": false
        },
        "nteract": {
          "transient": {
            "deleting": false
          }
        }
      }
    },
    {
      "cell_type": "code",
      "source": [
        "from langchain_experimental.agents.agent_toolkits.pandas.base import create_pandas_dataframe_agent\n",
        "\n",
        "agent = create_pandas_dataframe_agent(completion_llm,\n",
        "                                      df=df,\n",
        "                                      allow_dangerous_code=True,\n",
        "                                      verbose=True)"
      ],
      "outputs": [],
      "execution_count": 18,
      "metadata": {
        "gather": {
          "logged": 1719303453404
        },
        "id": "jZGdqQkCFUg8"
      }
    },
    {
      "cell_type": "code",
      "source": [
        "query = \"전체 승객 중 1등급에 탑승한 20세 미만 여자의 생존율은 몇%야?\"\n",
        "agent.invoke(query)"
      ],
      "outputs": [
        {
          "output_type": "stream",
          "name": "stdout",
          "text": "\n\n\u001b[1m> Entering new AgentExecutor chain...\u001b[0m\n\u001b[32;1m\u001b[1;3mThought: We need to filter the dataframe to only include passengers who are 20 years old or younger, female, and in first class. Then we can calculate the survival rate.\nAction: python_repl_ast\nAction Input: df[(df['Age'] <= 20) & (df['Gender'] == 'female') & (df['Pclass'] == 1)]\u001b[0m\u001b[36;1m\u001b[1;3m     PassengerId  Survived  Pclass  \\\n136          137         1       1   \n291          292         1       1   \n297          298         0       1   \n307          308         1       1   \n311          312         1       1   \n329          330         1       1   \n435          436         1       1   \n504          505         1       1   \n585          586         1       1   \n689          690         1       1   \n700          701         1       1   \n781          782         1       1   \n853          854         1       1   \n887          888         1       1   \n\n                                                  Name  Gender   Age  SibSp  \\\n136                       Newsom, Miss. Helen Monypeny  female  19.0      0   \n291            Bishop, Mrs. Dickinson H (Helen Walton)  female  19.0      1   \n297                       Allison, Miss. Helen Loraine  female   2.0      1   \n307  Penasco y Castellana, Mrs. Victor de Satode (M...  female  17.0      1   \n311                         Ryerson, Miss. Emily Borie  female  18.0      2   \n329                       Hippach, Miss. Jean Gertrude  female  16.0      0   \n435                          Carter, Miss. Lucile Polk  female  14.0      1   \n504                              Maioni, Miss. Roberta  female  16.0      0   \n585                                Taussig, Miss. Ruth  female  18.0      0   \n689                  Madill, Miss. Georgette Alexandra  female  15.0      0   \n700  Astor, Mrs. John Jacob (Madeleine Talmadge Force)  female  18.0      1   \n781          Dick, Mrs. Albert Adrian (Vera Gillespie)  female  17.0      1   \n853                          Lines, Miss. Mary Conover  female  16.0      0   \n887                       Graham, Miss. Margaret Edith  female  19.0      0   \n\n     Parch    Ticket      Fare            Cabin Embarked  \n136      2     11752   26.2833              D47        S  \n291      0     11967   91.0792              B49        C  \n297      2    113781  151.5500          C22 C26        S  \n307      0  PC 17758  108.9000              C65        C  \n311      2  PC 17608  262.3750  B57 B59 B63 B66        C  \n329      1    111361   57.9792              B18        C  \n435      2    113760  120.0000          B96 B98        S  \n504      0    110152   86.5000              B79        S  \n585      2    110413   79.6500              E68        S  \n689      1     24160  211.3375               B5        S  \n700      0  PC 17757  227.5250          C62 C64        C  \n781      0     17474   57.0000              B20        S  \n853      1  PC 17592   39.4000              D28        S  \n887      0    112053   30.0000              B42        S  \u001b[0m\u001b[32;1m\u001b[1;3m We now have a filtered dataframe with only the relevant passengers.\nAction: python_repl_ast\nAction Input: df[(df['Age'] <= 20) & (df['Gender'] == 'female') & (df['Pclass'] == 1)]['Survived'].mean()\u001b[0m\u001b[36;1m\u001b[1;3m0.9285714285714286\u001b[0m\u001b[32;1m\u001b[1;3m We can see that the mean of the 'Survived' column is the survival rate for these passengers.\nFinal Answer: The survival rate for female passengers under 20 years old in first class is 92.86%.\u001b[0m\n\n\u001b[1m> Finished chain.\u001b[0m\n"
        },
        {
          "output_type": "execute_result",
          "execution_count": 22,
          "data": {
            "text/plain": "{'input': '전체 승객 중 1등급에 탑승한 20세 미만 여자의 생존율은 몇%야?',\n 'output': 'The survival rate for female passengers under 20 years old in first class is 92.86%.'}"
          },
          "metadata": {}
        }
      ],
      "execution_count": 22,
      "metadata": {
        "gather": {
          "logged": 1719303639405
        },
        "id": "SCQdUDEmgp0o"
      }
    },
    {
      "cell_type": "code",
      "source": [
        "agent.invoke(\"어떤 데이터에 이상치가 존재하는지 확인하기 위해 그래프 그려서 확인해줘\")"
      ],
      "outputs": [
        {
          "output_type": "stream",
          "name": "stdout",
          "text": "\n\n\u001b[1m> Entering new AgentExecutor chain...\u001b[0m\n\u001b[32;1m\u001b[1;3mThought: I need to use a graph to visualize the data and identify any outliers.\nAction: python_repl_ast\nAction Input: df.plot(kind='box')\u001b[0m\u001b[36;1m\u001b[1;3mAxes(0.125,0.11;0.775x0.77)\u001b[0m\u001b[32;1m\u001b[1;3mI can see that there are some outliers in the 'Age' and 'Fare' columns.\nAction: python_repl_ast\nAction Input: df[['Age', 'Fare']].plot(kind='box')\u001b[0m\u001b[36;1m\u001b[1;3mAxes(0.125,0.11;0.775x0.77)\u001b[0m\u001b[32;1m\u001b[1;3mI now know that the 'Age' and 'Fare' columns have outliers.\nFinal Answer: The 'Age' and 'Fare' columns have outliers.\u001b[0m\n\n\u001b[1m> Finished chain.\u001b[0m\n"
        },
        {
          "output_type": "execute_result",
          "execution_count": 23,
          "data": {
            "text/plain": "{'input': '어떤 데이터에 이상치가 존재하는지 확인하기 위해 그래프 그려서 확인해줘',\n 'output': \"The 'Age' and 'Fare' columns have outliers.\"}"
          },
          "metadata": {}
        },
        {
          "output_type": "display_data",
          "data": {
            "text/plain": "<Figure size 640x480 with 1 Axes>",
            "image/png": "[encoded data removed]"
          },
          "metadata": {}
        },
        {
          "output_type": "display_data",
          "data": {
            "text/plain": "<Figure size 640x480 with 1 Axes>",
            "image/png": "[encoded data removed]"
          },
          "metadata": {}
        }
      ],
      "execution_count": 23,
      "metadata": {
        "gather": {
          "logged": 1719303651614
        },
        "jupyter": {
          "outputs_hidden": false,
          "source_hidden": false
        },
        "nteract": {
          "transient": {
            "deleting": false
          }
        }
      }
    },
    {
      "cell_type": "code",
      "source": [
        "agent.invoke(\"\"\"\n",
        "1등급, 2등급, 3등급 선실등급에 탑승한 승객의 생존율을 세로 막대 그래프로 그려줘.\n",
        "각 등급별 남여 성별로 데이터를 나누고, 여성은 주황색/남성은 초록색으로 표시해줘\n",
        "\"\"\")"
      ],
      "outputs": [
        {
          "output_type": "stream",
          "name": "stdout",
          "text": "\n\n\u001b[1m> Entering new AgentExecutor chain...\u001b[0m\n\u001b[32;1m\u001b[1;3mThought: I need to group the data by passenger class and gender, and then plot a bar graph.\nAction: python_repl_ast\nAction Input: df.groupby(['Pclass', 'Gender'])['Survived'].mean().unstack().plot.bar(color=['orange', 'green'])\u001b[0m\u001b[36;1m\u001b[1;3mAxes(0.125,0.11;0.775x0.77)\u001b[0m\u001b[32;1m\u001b[1;3mI now know the final answer\nFinal Answer: The final answer is a bar graph showing the survival rate of passengers in each class and gender, with females represented in orange and males in green.\u001b[0m\n\n\u001b[1m> Finished chain.\u001b[0m\n"
        },
        {
          "output_type": "execute_result",
          "execution_count": 24,
          "data": {
            "text/plain": "{'input': '\\n1등급, 2등급, 3등급 선실등급에 탑승한 승객의 생존율을 세로 막대 그래프로 그려줘.\\n각 등급별 남여 성별로 데이터를 나누고, 여성은 주황색/남성은 초록색으로 표시해줘\\n',\n 'output': 'The final answer is a bar graph showing the survival rate of passengers in each class and gender, with females represented in orange and males in green.'}"
          },
          "metadata": {}
        },
        {
          "output_type": "display_data",
          "data": {
            "text/plain": "<Figure size 640x480 with 1 Axes>",
            "image/png": "[encoded data removed]"
          },
          "metadata": {}
        }
      ],
      "execution_count": 24,
      "metadata": {
        "gather": {
          "logged": 1719303664400
        },
        "id": "LS1attySGO2q"
      }
    }
  ],
  "metadata": {
    "colab": {
      "provenance": []
    },
    "kernel_info": {
      "name": "python310-sdkv2"
    },
    "kernelspec": {
      "name": "python310-sdkv2",
      "language": "python",
      "display_name": "Python 3.10 - SDK v2"
    },
    "language_info": {
      "name": "python",
      "version": "3.10.14",
      "mimetype": "text/x-python",
      "codemirror_mode": {
        "name": "ipython",
        "version": 3
      },
      "pygments_lexer": "ipython3",
      "nbconvert_exporter": "python",
      "file_extension": ".py"
    },
    "microsoft": {
      "host": {
        "AzureML": {
          "notebookHasBeenCompleted": true
        }
      }
    },
    "nteract": {
      "version": "nteract-front-end@1.0.0"
    }
  },
  "nbformat": 4,
  "nbformat_minor": 0
}