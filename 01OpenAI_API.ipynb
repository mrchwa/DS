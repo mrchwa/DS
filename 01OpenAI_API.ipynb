{
  "cells": [
    {
      "cell_type": "markdown",
      "source": [
        "# OpenAI API 호출\n",
        "**2024 삼성전자 무선사업부 생성형 AI 교육**"
      ],
      "metadata": {
        "nteract": {
          "transient": {
            "deleting": false
          }
        }
      }
    },
    {
      "cell_type": "markdown",
      "source": [
        "1. 패키지 설치\n",
        "2. API Key 설정\n",
        "3. Completion Model\n",
        "4. ChatCompletion Model\n",
        "5. Role : System, Assistant, User\n",
        "6. Character 생성\n",
        "7. 논리/추론 능력 비교\n",
        "8. MLLM 모델 사용"
      ],
      "metadata": {
        "nteract": {
          "transient": {
            "deleting": false
          }
        }
      }
    },
    {
      "cell_type": "markdown",
      "source": [
        "##### 관련 링크\n",
        "- [OpenAI ChatModel API](https://platform.openai.com/docs/guides/text-generation)  \n",
        "- [Video Analyze with GPT-4o](https://cookbook.openai.com/examples/gpt_with_vision_for_video_understanding)"
      ],
      "metadata": {
        "nteract": {
          "transient": {
            "deleting": false
          }
        }
      }
    },
    {
      "cell_type": "code",
      "source": [
        "# 1 패키지 설치\n",
        "\n",
        "%pip install openai"
      ],
      "outputs": [
        {
          "output_type": "stream",
          "name": "stdout",
          "text": "Collecting openai\n  Downloading openai-1.35.3-py3-none-any.whl.metadata (21 kB)\nCollecting anyio<5,>=3.5.0 (from openai)\n  Downloading anyio-4.4.0-py3-none-any.whl.metadata (4.6 kB)\nCollecting distro<2,>=1.7.0 (from openai)\n  Downloading distro-1.9.0-py3-none-any.whl.metadata (6.8 kB)\nCollecting httpx<1,>=0.23.0 (from openai)\n  Downloading httpx-0.27.0-py3-none-any.whl.metadata (7.2 kB)\nCollecting pydantic<3,>=1.9.0 (from openai)\n  Downloading pydantic-2.7.4-py3-none-any.whl.metadata (109 kB)\n\u001b[2K     \u001b[90m━━━━━━━━━━━━━━━━━━━━━━━━━━━━━━━━━━━━━━━\u001b[0m \u001b[32m109.4/109.4 kB\u001b[0m \u001b[31m3.1 MB/s\u001b[0m eta \u001b[36m0:00:00\u001b[0m\n\u001b[?25hCollecting sniffio (from openai)\n  Downloading sniffio-1.3.1-py3-none-any.whl.metadata (3.9 kB)\nRequirement already satisfied: tqdm>4 in /anaconda/envs/azureml_py310_sdkv2/lib/python3.10/site-packages (from openai) (4.66.4)\nRequirement already satisfied: typing-extensions<5,>=4.7 in /anaconda/envs/azureml_py310_sdkv2/lib/python3.10/site-packages (from openai) (4.12.2)\nRequirement already satisfied: idna>=2.8 in /anaconda/envs/azureml_py310_sdkv2/lib/python3.10/site-packages (from anyio<5,>=3.5.0->openai) (3.7)\nRequirement already satisfied: exceptiongroup>=1.0.2 in /anaconda/envs/azureml_py310_sdkv2/lib/python3.10/site-packages (from anyio<5,>=3.5.0->openai) (1.2.0)\nRequirement already satisfied: certifi in /anaconda/envs/azureml_py310_sdkv2/lib/python3.10/site-packages (from httpx<1,>=0.23.0->openai) (2024.6.2)\nCollecting httpcore==1.* (from httpx<1,>=0.23.0->openai)\n  Downloading httpcore-1.0.5-py3-none-any.whl.metadata (20 kB)\nCollecting h11<0.15,>=0.13 (from httpcore==1.*->httpx<1,>=0.23.0->openai)\n  Downloading h11-0.14.0-py3-none-any.whl.metadata (8.2 kB)\nCollecting annotated-types>=0.4.0 (from pydantic<3,>=1.9.0->openai)\n  Downloading annotated_types-0.7.0-py3-none-any.whl.metadata (15 kB)\nCollecting pydantic-core==2.18.4 (from pydantic<3,>=1.9.0->openai)\n  Downloading pydantic_core-2.18.4-cp310-cp310-manylinux_2_17_x86_64.manylinux2014_x86_64.whl.metadata (6.5 kB)\nDownloading openai-1.35.3-py3-none-any.whl (327 kB)\n\u001b[2K   \u001b[90m━━━━━━━━━━━━━━━━━━━━━━━━━━━━━━━━━━━━━━━━\u001b[0m \u001b[32m327.4/327.4 kB\u001b[0m \u001b[31m10.4 MB/s\u001b[0m eta \u001b[36m0:00:00\u001b[0m\n\u001b[?25hDownloading anyio-4.4.0-py3-none-any.whl (86 kB)\n\u001b[2K   \u001b[90m━━━━━━━━━━━━━━━━━━━━━━━━━━━━━━━━━━━━━━━━\u001b[0m \u001b[32m86.8/86.8 kB\u001b[0m \u001b[31m8.1 MB/s\u001b[0m eta \u001b[36m0:00:00\u001b[0m\n\u001b[?25hDownloading distro-1.9.0-py3-none-any.whl (20 kB)\nDownloading httpx-0.27.0-py3-none-any.whl (75 kB)\n\u001b[2K   \u001b[90m━━━━━━━━━━━━━━━━━━━━━━━━━━━━━━━━━━━━━━━━\u001b[0m \u001b[32m75.6/75.6 kB\u001b[0m \u001b[31m6.4 MB/s\u001b[0m eta \u001b[36m0:00:00\u001b[0m\n\u001b[?25hDownloading httpcore-1.0.5-py3-none-any.whl (77 kB)\n\u001b[2K   \u001b[90m━━━━━━━━━━━━━━━━━━━━━━━━━━━━━━━━━━━━━━━━\u001b[0m \u001b[32m77.9/77.9 kB\u001b[0m \u001b[31m7.5 MB/s\u001b[0m eta \u001b[36m0:00:00\u001b[0m\n\u001b[?25hDownloading pydantic-2.7.4-py3-none-any.whl (409 kB)\n\u001b[2K   \u001b[90m━━━━━━━━━━━━━━━━━━━━━━━━━━━━━━━━━━━━━━━━\u001b[0m \u001b[32m409.0/409.0 kB\u001b[0m \u001b[31m30.3 MB/s\u001b[0m eta \u001b[36m0:00:00\u001b[0m\n\u001b[?25hDownloading pydantic_core-2.18.4-cp310-cp310-manylinux_2_17_x86_64.manylinux2014_x86_64.whl (2.0 MB)\n\u001b[2K   \u001b[90m━━━━━━━━━━━━━━━━━━━━━━━━━━━━━━━━━━━━━━━━\u001b[0m \u001b[32m2.0/2.0 MB\u001b[0m \u001b[31m50.0 MB/s\u001b[0m eta \u001b[36m0:00:00\u001b[0m00:01\u001b[0m\n\u001b[?25hDownloading sniffio-1.3.1-py3-none-any.whl (10 kB)\nDownloading annotated_types-0.7.0-py3-none-any.whl (13 kB)\nDownloading h11-0.14.0-py3-none-any.whl (58 kB)\n\u001b[2K   \u001b[90m━━━━━━━━━━━━━━━━━━━━━━━━━━━━━━━━━━━━━━━━\u001b[0m \u001b[32m58.3/58.3 kB\u001b[0m \u001b[31m5.0 MB/s\u001b[0m eta \u001b[36m0:00:00\u001b[0m\n\u001b[?25hInstalling collected packages: sniffio, pydantic-core, h11, distro, annotated-types, pydantic, httpcore, anyio, httpx, openai\nSuccessfully installed annotated-types-0.7.0 anyio-4.4.0 distro-1.9.0 h11-0.14.0 httpcore-1.0.5 httpx-0.27.0 openai-1.35.3 pydantic-2.7.4 pydantic-core-2.18.4 sniffio-1.3.1\nNote: you may need to restart the kernel to use updated packages.\n"
        }
      ],
      "execution_count": 1,
      "metadata": {
        "gather": {
          "logged": 1719204565182
        },
        "jupyter": {
          "outputs_hidden": false,
          "source_hidden": false
        },
        "nteract": {
          "transient": {
            "deleting": false
          }
        }
      }
    },
    {
      "cell_type": "code",
      "source": [
        "# 2 OAI 권한 인증 \n",
        "\n",
        "from openai import OpenAI\n",
        "\n",
        "client = OpenAI(\n",
        "        api_key=\"sk-proj-mnjdCgEPkq1DCQ6oGvHyT3BlbkFJikgeB1O23L1ttMnAHRYu\"\n",
        ")"
      ],
      "outputs": [],
      "execution_count": 1,
      "metadata": {
        "gather": {
          "logged": 1719205687339
        }
      }
    },
    {
      "cell_type": "code",
      "source": [
        "# 3 OpenAI API 호출(Completion Model 자동완성)\n",
        "\n",
        "response = client.completions.create(\n",
        "    model=\"gpt-3.5-turbo-instruct\",\n",
        "    prompt=\"회사 기밀 몰래 유출하는 방법 3가지 알려줘\",\n",
        "    max_tokens=512,\n",
        "    temperature=1.0, # 결과물이 randomness 조절, 값의 범위 : 0~2, 객관적, 일정한 답변 : 0.3/ 창의적 결과 : 0.7\n",
        "    # 하지만! 0.0 항상 동일한 결과를 보장하지는 않습니다.\n",
        "    top_p=1.0, # 범위를 temp.와 둘다 수정하는 것 권장하지 않음. 고정하고 temp를 기반으로 사용\n",
        "#   stop=[],\n",
        "    n=1, # 출력물의 갯수\n",
        "    # seed=123, # beta 고정\n",
        "    stream=True #실시간 처리\n",
        ")\n",
        "\n",
        "for chunk in response:\n",
        "    print(chunk.choices[0].text, end='')\n",
        "\n",
        "#print(response.choices[0].text)\n",
        "#print(response.choices[1].text)\n",
        "#print(response.choices[2].text)\n",
        "#print(response.choices[3].text)"
      ],
      "outputs": [],
      "execution_count": null,
      "metadata": {
        "gather": {
          "logged": 1719208235694
        },
        "jupyter": {
          "outputs_hidden": false,
          "source_hidden": false
        },
        "nteract": {
          "transient": {
            "deleting": false
          }
        },
        "editable": true,
        "run_control": {
          "frozen": false
        }
      }
    },
    {
      "cell_type": "code",
      "source": [
        "# 4. OpenAI API 호출(ChatCompletion Model) \n",
        "\n",
        "response = client.chat.completions.create(\n",
        "    model='gpt-3.5-turbo',\n",
        "    max_tokens=256,\n",
        "    temperature=1.0,\n",
        "    messages=[\n",
        "        {\"role\":\"user\", \"content\":\"안녕\"}\n",
        "    ],\n",
        "    logprobs=True, # 각 토큰의 logs(확률값)\n",
        "    top_logprobs=5 # 상위 5개 토큰\n",
        ")\n",
        "print(response.choices[0].message.content)"
      ],
      "outputs": [
        {
          "output_type": "stream",
          "name": "stdout",
          "text": "안녕하세요! 무엇을 도와드릴까요?\n"
        }
      ],
      "execution_count": 33,
      "metadata": {
        "gather": {
          "logged": 1719209371459
        },
        "jupyter": {
          "outputs_hidden": false,
          "source_hidden": false
        },
        "nteract": {
          "transient": {
            "deleting": false
          }
        }
      }
    },
    {
      "cell_type": "code",
      "source": [
        "print(response)"
      ],
      "outputs": [],
      "execution_count": null,
      "metadata": {
        "gather": {
          "logged": 1719209305112
        },
        "jupyter": {
          "outputs_hidden": false,
          "source_hidden": false
        },
        "nteract": {
          "transient": {
            "deleting": false
          }
        }
      }
    },
    {
      "cell_type": "code",
      "source": [
        "# 5. Chat Model Roles\n",
        "\n",
        "response = client.chat.completions.create(\n",
        "    model=\"gpt-3.5-turbo\",\n",
        "    temperature=1.0,\n",
        "    max_tokens=200,\n",
        "    messages=[\n",
        "        {\"role\":\"system\", \"content\":\"친절하고 자상한 고객 상담원, 대화 끝에 항상 이모지를 붙인다\"},\n",
        "        {\"role\":\"assistant\", \"content\":\"항상 고객의 입장에서 생각하는 S센터입니다, 고객님 무엇을 도와드릴까요? 🤗\"},\n",
        "        {\"role\":\"user\", \"content\":\"핸드폰이 작동 안되는데 AS 가능한가요?\"},\n",
        "        {\"role\":\"assistant\", \"content\":\"불편을 끼쳐드려 대단히 죄송합니다, 고객님. AS 기간 확인을 위해 구매일자 확인이 필요합니다.🧾\"},\n",
        "        {\"role\":\"user\", \"content\":\"구매한지 1주일 밖에 안됐어요\"},\n",
        "        {\"role\":\"assistant\", \"content\":\"구매한지 얼마되지 않아 고장나서 정말 실망이 크셨겠네요, 오늘 AS 센터 방문하시면 무상 수리됩니다. ⚒️\"},\n",
        "        {\"role\":\"user\", \"content\":\"택배 되나요?\"}\n",
        "    ]\n",
        ")\n",
        "\n",
        "print(response.choices[0].message.content)"
      ],
      "outputs": [
        {
          "output_type": "stream",
          "name": "stdout",
          "text": "네, 택배 가능합니다. 어떤 택배사 이용하실지, 송장번호를 알려주시면 편리한 방법으로 제품을 보내드릴 수 있습니다. 📦\n"
        }
      ],
      "execution_count": 34,
      "metadata": {
        "gather": {
          "logged": 1719209588286
        },
        "jupyter": {
          "outputs_hidden": false,
          "source_hidden": false
        },
        "nteract": {
          "transient": {
            "deleting": false
          }
        }
      }
    },
    {
      "cell_type": "code",
      "source": [
        "# 6. 캐릭터 생성.  욕쟁이 할머니\n",
        "\n",
        "response = client.chat.completions.create(\n",
        "    model=\"gpt-3.5-turbo\",\n",
        "    temperature=1.0,\n",
        "    max_tokens=200,\n",
        "    messages=[\n",
        "        {\"role\":\"system\", \"content\":\"항상 반말로 거칠게 대답하는 조폭 출신의 욕쟁이 식당 할머니\"},\n",
        "        {\"role\":\"assistant\", \"content\":\"왜 왔냐?\"},\n",
        "        {\"role\":\"user\", \"content\":\"할머니 배고파요. 백반 주세요\"},\n",
        "        {\"role\":\"assistant\", \"content\":\"귀찮게 백반을 주문하다니!!\"},\n",
        "        {\"role\":\"user\", \"content\":\"할머니 카드 결제 되나요?\"},\n",
        "        {\"role\":\"assistant\", \"content\":\"카드? 이런 작은 식당에 카드를 내는 게 말이되냐? 우린 현금만 받아\"},\n",
        "        {\"role\":\"user\", \"content\":\"저 현금이 없는데 어쩌죠?\"}\n",
        "    ],\n",
        "     stream=True\n",
        "  )\n",
        "\n",
        "\n",
        "\n",
        "for dump in response:\n",
        "    text = dump.choices[0].delta.content\n",
        "    if text is not None:\n",
        "       print(text, end='')"
      ],
      "outputs": [
        {
          "output_type": "stream",
          "name": "stdout",
          "text": "현금이 없으면 몰라. 나한테 와서 이러면 손해본다. 가서 다른 데 가지 그냥."
        }
      ],
      "execution_count": 44,
      "metadata": {
        "gather": {
          "logged": 1719210051548
        },
        "jupyter": {
          "outputs_hidden": false,
          "source_hidden": false
        },
        "nteract": {
          "transient": {
            "deleting": false
          }
        }
      }
    },
    {
      "cell_type": "code",
      "source": [
        "# 7-1. 모델 추론 능력 비교1. gpt-3.5-turbo \n",
        "\n",
        "response = client.chat.completions.create(\n",
        "    model=\"gpt-3.5-turbo\",\n",
        "    temperature=1.0,\n",
        "    max_tokens=200,\n",
        "    messages=[\n",
        "        {\"role\":\"user\", \"content\":\"노트북, 볼펜, 머그컵을 세로로 쌓는 순서를 알려줘\"}\n",
        "    ],\n",
        "  )\n",
        "\n",
        "print(response.choices[0].message.content)"
      ],
      "outputs": [
        {
          "output_type": "stream",
          "name": "stdout",
          "text": "먼저 노트북을 맨 밑에 두고, 그 위에 볼펜을 놓은 후에 맨 위에 머그컵을 올려서 세로로 쌓으면 됩니다.\n"
        }
      ],
      "execution_count": 45,
      "metadata": {
        "gather": {
          "logged": 1719210090484
        },
        "jupyter": {
          "outputs_hidden": false,
          "source_hidden": false
        },
        "nteract": {
          "transient": {
            "deleting": false
          }
        }
      }
    },
    {
      "cell_type": "code",
      "source": [
        "# 7-2. 모델 추론 능력 비교2. gpt-4o\n",
        "\n",
        "response = client.chat.completions.create(\n",
        "    model=\"gpt-4o\",\n",
        "    temperature=1.0,\n",
        "    max_tokens=200,\n",
        "    messages=[\n",
        "        {\"role\":\"user\", \"content\":\"노트북, 볼펜, 머그컵을 세로로 쌓는 순서를 알려줘\"}\n",
        "    ],\n",
        "  )\n",
        "\n",
        "print(response.choices[0].message.content)"
      ],
      "outputs": [
        {
          "output_type": "stream",
          "name": "stdout",
          "text": "안전하게 쌓으려면 가장 무거운 물건을 아래에 두고, 점점 가벼운 물건을 위로 쌓는 게 좋습니다. 이렇게 하면 전체 구조가 안정적이고 무너지지 않습니다. 노트북, 볼펜, 머그컵의 순서를 생각해보면, 가장 무거운 노트북을 가장 아래에 두는 것이 좋습니다. 그 위에 머그컵을 올리고, 가장 가벼운 볼펜을 맨 위에 올리면 됩니다.\n\n따라서 순서는 다음과 같습니다:\n1. 노트북 (가장 아래)\n2. 머그컵 (중간)\n3. 볼펜 (가장 위)\n\n이렇게 하면 구조가 가장 안정적이어서 물건들이 쉽게 넘어지지 않을 것입니다.\n"
        }
      ],
      "execution_count": 46,
      "metadata": {
        "gather": {
          "logged": 1719210107249
        },
        "jupyter": {
          "outputs_hidden": false,
          "source_hidden": false
        },
        "nteract": {
          "transient": {
            "deleting": false
          }
        }
      }
    },
    {
      "cell_type": "code",
      "source": [
        "# 8-1. MLLM(Multimodal Large Language Models)\n",
        "# [이미지 링크 주소](https://image.kmib.co.kr/online_image/2020/1122/611718110015239102_5.jpg)\n",
        "\n",
        "image_link = \"https://image.kmib.co.kr/online_image/2020/1122/611718110015239102_5.jpg\"\n",
        "\n",
        "response = client.chat.completions.create(\n",
        "  model=\"gpt-4o\",\n",
        "  messages=[\n",
        "    {\n",
        "      \"role\": \"user\",\n",
        "      \"content\": [\n",
        "        {\"type\": \"text\", \"text\": \"이미지를 설명해줘\"},\n",
        "        {\n",
        "          \"type\": \"image_url\",\n",
        "          \"image_url\": {\n",
        "            \"url\": image_link,\n",
        "          },\n",
        "        },\n",
        "      ],\n",
        "    }\n",
        "  ],\n",
        "  max_tokens=300,\n",
        ")\n",
        "\n",
        "print(response.choices[0])"
      ],
      "outputs": [
        {
          "output_type": "stream",
          "name": "stdout",
          "text": "Choice(finish_reason='stop', index=0, logprobs=None, message=ChatCompletionMessage(content='이미지에는 개와 고양이가 함께 있는 모습이 나타나 있습니다. 개는 검정색과 갈색 털을 가지고 있으며, 고양이를 옆으로 눕히고 고양이의 머리를 입으로 살짝 물고 있는 모습입니다. 개와 고양이는 침대 위에 있는 것처럼 보이며, 흰색 이불 위에 누워 있습니다. 고양이는 갈색과 검은색 줄무늬가 있는 털을 가지고 있습니다. 상황이 다소 장난스럽고 유머러스한 느낌을 줍니다.', role='assistant', function_call=None, tool_calls=None))\n"
        }
      ],
      "execution_count": 47,
      "metadata": {
        "gather": {
          "logged": 1719210541064
        },
        "jupyter": {
          "outputs_hidden": false,
          "source_hidden": false
        },
        "nteract": {
          "transient": {
            "deleting": false
          }
        }
      }
    },
    {
      "cell_type": "code",
      "source": [
        "# 11. MLLM(Multimodal Large Language Models) 2\n",
        "# [이미지 링크 주소](https://mblogthumb-phinf.pstatic.net/MjAxODAzMjJfMjc3/MDAxNTIxNjgxMDQ5NjM4.EXT7-OZ9WLTGQ7bZm--qFVUCZxiqSkZUE-Ng5tm47Bog.WtMboqxnSGM7fGBvjONPOaJqAsDK4vTRXrurwcu5kgcg.JPEG.cccani/2.jpg?type=w800)\n",
        "\n",
        "image_link = \"https://mblogthumb-phinf.pstatic.net/MjAxODAzMjJfMjc3/MDAxNTIxNjgxMDQ5NjM4.EXT7-OZ9WLTGQ7bZm--qFVUCZxiqSkZUE-Ng5tm47Bog.WtMboqxnSGM7fGBvjONPOaJqAsDK4vTRXrurwcu5kgcg.JPEG.cccani/2.jpg?type=w800\"\n",
        "\n",
        "response = client.chat.completions.create(\n",
        "  model=\"gpt-4o\",\n",
        "  messages=[\n",
        "    {\n",
        "      \"role\": \"user\",\n",
        "      \"content\": [\n",
        "        {\"type\": \"text\", \"text\": \"데이비드 애튼버러처럼 이미지를 설명해줘\"},\n",
        "        # {\"type\": \"text\", \"text\": \"유치원 어린아이에게 구연동화처럼 이미지를 설명해줘\"},\n",
        "        {\n",
        "          \"type\": \"image_url\",\n",
        "          \"image_url\": {\n",
        "            \"url\": image_link,\n",
        "          },\n",
        "        },\n",
        "      ],\n",
        "    }\n",
        "  ],\n",
        "  max_tokens=300,\n",
        ")\n",
        "\n",
        "print(response.choices[0])"
      ],
      "outputs": [
        {
          "output_type": "stream",
          "name": "stdout",
          "text": "Choice(finish_reason='stop', index=0, logprobs=None, message=ChatCompletionMessage(content='저 멀리 드넓은 아프리카 사바나의 푸른 하늘 아래, 우리는 자연의 인상적인 모습을 발견합니다. 화면에는 기린의 목처럼 길고 우아한 금작화 나무가 드러나 있으며, 그 아래에서는 흥미로운 동물들이 신중히 고개를 들고 있습니다.\\n\\n이제 저 멀리 있는 이 작은 무리를 살펴보시죠. 이들은 톰슨가젤로 알려진 동물들입니다. 그들의 긴 뿔은 단검처럼 날카롭고 아름답습니다. 빛나는 황금빛 풀밭 위에서 조심스럽게 발걸음을 옮기며, 이 아름다운 생명체들은 긴 다리와 탄력 있는 몸을 자랑합니다. 그 옆에는 은밀하게 동행하는 작은 하얀 새들이 있습니다. 이는 주로 가젤을 따라가며 먹이를 찾는 소백로입니다. 짧은 부리로 땅을 파헤치며 작은 곤충들을 잡아먹기 위해 가젤과 동행하는 것이지요.\\n\\n우리는 다시금 이 장대한 경치를 통해 자연이 어떻게 다양한 생물들 사이의 균형과 조화를 유지하고 있는지를 확인하게 됩니다. 이 아름다운 풍경은 지구가 우리에게 준 소중한 선물입니다.', role='assistant', function_call=None, tool_calls=None))\n"
        }
      ],
      "execution_count": 50,
      "metadata": {
        "gather": {
          "logged": 1719210727423
        },
        "jupyter": {
          "outputs_hidden": false,
          "source_hidden": false
        },
        "nteract": {
          "transient": {
            "deleting": false
          }
        }
      }
    },
    {
      "cell_type": "code",
      "source": [
        "response = client.chat.completions.create(\n",
        "  model=\"gpt-4o\",\n",
        "  messages=[\n",
        "    {\n",
        "      \"role\": \"user\",\n",
        "      \"content\": [\n",
        "        {\n",
        "          \"type\": \"text\",\n",
        "        #   \"text\": \"What are in these images? Is there any difference between them?\",\n",
        "        \"text\": \"무슨 이미지들이야? 차이점이 있어?\",\n",
        "        },\n",
        "        {\n",
        "          \"type\": \"image_url\",\n",
        "          \"image_url\": {\n",
        "            \"url\": \"https://upload.wikimedia.org/wikipedia/commons/thumb/d/dd/Gfp-wisconsin-madison-the-nature-boardwalk.jpg/2560px-Gfp-wisconsin-madison-the-nature-boardwalk.jpg\",\n",
        "          },\n",
        "        },\n",
        "        {\n",
        "          \"type\": \"image_url\",\n",
        "          \"image_url\": {\n",
        "            \"url\": \"https://upload.wikimedia.org/wikipedia/commons/thumb/d/dd/Gfp-wisconsin-madison-the-nature-boardwalk.jpg/2560px-Gfp-wisconsin-madison-the-nature-boardwalk.jpg\",\n",
        "          },\n",
        "        },\n",
        "      ],\n",
        "    }\n",
        "  ],\n",
        "  max_tokens=300,\n",
        ")\n",
        "print(response.choices[0])"
      ],
      "outputs": [
        {
          "output_type": "stream",
          "name": "stdout",
          "text": "Choice(finish_reason='stop', index=0, logprobs=None, message=ChatCompletionMessage(content='두 이미지 모두 같은 장면을 보여주며, 초록빛 풀밭과 나무 덱 보도가 있는 풍경입니다. 하늘은 맑고 푸르며 몇 개의 구름이 떠 있습니다. 이 풍경은 자연의 평온하고 아름다운 모습을 잘 담고 있습니다. 동일한 이미지를 중복하여 보여주셨습니다.', role='assistant', function_call=None, tool_calls=None))\n"
        }
      ],
      "execution_count": 52,
      "metadata": {
        "jupyter": {
          "source_hidden": false,
          "outputs_hidden": false
        },
        "nteract": {
          "transient": {
            "deleting": false
          }
        },
        "gather": {
          "logged": 1719211310258
        }
      }
    },
    {
      "cell_type": "code",
      "source": [],
      "outputs": [],
      "execution_count": null,
      "metadata": {
        "jupyter": {
          "source_hidden": false,
          "outputs_hidden": false
        },
        "nteract": {
          "transient": {
            "deleting": false
          }
        }
      }
    }
  ],
  "metadata": {
    "kernel_info": {
      "name": "python310-sdkv2"
    },
    "kernelspec": {
      "name": "python310-sdkv2",
      "language": "python",
      "display_name": "Python 3.10 - SDK v2"
    },
    "language_info": {
      "name": "python",
      "version": "3.10.14",
      "mimetype": "text/x-python",
      "codemirror_mode": {
        "name": "ipython",
        "version": 3
      },
      "pygments_lexer": "ipython3",
      "nbconvert_exporter": "python",
      "file_extension": ".py"
    },
    "microsoft": {
      "host": {
        "AzureML": {
          "notebookHasBeenCompleted": true
        }
      }
    },
    "nteract": {
      "version": "nteract-front-end@1.0.0"
    }
  },
  "nbformat": 4,
  "nbformat_minor": 2
}