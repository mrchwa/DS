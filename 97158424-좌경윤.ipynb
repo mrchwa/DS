{
  "cells": [
    {
      "attachments": {},
      "cell_type": "markdown",
      "source": [
        "# 2024 삼성 무선사업부 생성형 AI 실습 과제\n",
        "#### PDF 문서 기반 질의응답 - 97158424 좌경윤"
      ],
      "metadata": {
        "id": "w2GM8vtc_FBB",
        "nteract": {
          "transient": {
            "deleting": false
          }
        }
      }
    },
    {
      "attachments": {},
      "cell_type": "markdown",
      "source": [
        "PDF 문서를 기반으로 질의응답 기능을 구현한다."
      ],
      "metadata": {
        "id": "dzXcYq79_FBE",
        "nteract": {
          "transient": {
            "deleting": false
          }
        }
      }
    },
    {
      "cell_type": "code",
      "source": [
        "# 1. 패키지 설치\n",
        "\n",
        "%pip install chromadb\n",
        "%pip install pypdf"
      ],
      "outputs": [
        {
          "output_type": "stream",
          "name": "stdout",
          "text": "Requirement already satisfied: chromadb in /anaconda/envs/azureml_py310_sdkv2/lib/python3.10/site-packages (0.5.3)\nRequirement already satisfied: build>=1.0.3 in /anaconda/envs/azureml_py310_sdkv2/lib/python3.10/site-packages (from chromadb) (1.2.1)\nRequirement already satisfied: requests>=2.28 in /anaconda/envs/azureml_py310_sdkv2/lib/python3.10/site-packages (from chromadb) (2.32.3)\nRequirement already satisfied: pydantic>=1.9 in /anaconda/envs/azureml_py310_sdkv2/lib/python3.10/site-packages (from chromadb) (2.7.4)\nRequirement already satisfied: chroma-hnswlib==0.7.3 in /anaconda/envs/azureml_py310_sdkv2/lib/python3.10/site-packages (from chromadb) (0.7.3)\nRequirement already satisfied: fastapi>=0.95.2 in /anaconda/envs/azureml_py310_sdkv2/lib/python3.10/site-packages (from chromadb) (0.111.0)\nRequirement already satisfied: uvicorn>=0.18.3 in /anaconda/envs/azureml_py310_sdkv2/lib/python3.10/site-packages (from uvicorn[standard]>=0.18.3->chromadb) (0.30.1)\nRequirement already satisfied: numpy<2.0.0,>=1.22.5 in /anaconda/envs/azureml_py310_sdkv2/lib/python3.10/site-packages (from chromadb) (1.26.4)\nRequirement already satisfied: posthog>=2.4.0 in /anaconda/envs/azureml_py310_sdkv2/lib/python3.10/site-packages (from chromadb) (3.5.0)\nRequirement already satisfied: typing-extensions>=4.5.0 in /anaconda/envs/azureml_py310_sdkv2/lib/python3.10/site-packages (from chromadb) (4.12.2)\nRequirement already satisfied: onnxruntime>=1.14.1 in /anaconda/envs/azureml_py310_sdkv2/lib/python3.10/site-packages (from chromadb) (1.18.0)\nRequirement already satisfied: opentelemetry-api>=1.2.0 in /anaconda/envs/azureml_py310_sdkv2/lib/python3.10/site-packages (from chromadb) (1.25.0)\nRequirement already satisfied: opentelemetry-exporter-otlp-proto-grpc>=1.2.0 in /anaconda/envs/azureml_py310_sdkv2/lib/python3.10/site-packages (from chromadb) (1.25.0)\nRequirement already satisfied: opentelemetry-instrumentation-fastapi>=0.41b0 in /anaconda/envs/azureml_py310_sdkv2/lib/python3.10/site-packages (from chromadb) (0.46b0)\nRequirement already satisfied: opentelemetry-sdk>=1.2.0 in /anaconda/envs/azureml_py310_sdkv2/lib/python3.10/site-packages (from chromadb) (1.25.0)\nRequirement already satisfied: tokenizers>=0.13.2 in /anaconda/envs/azureml_py310_sdkv2/lib/python3.10/site-packages (from chromadb) (0.19.1)\nRequirement already satisfied: pypika>=0.48.9 in /anaconda/envs/azureml_py310_sdkv2/lib/python3.10/site-packages (from chromadb) (0.48.9)\nRequirement already satisfied: tqdm>=4.65.0 in /anaconda/envs/azureml_py310_sdkv2/lib/python3.10/site-packages (from chromadb) (4.66.4)\nRequirement already satisfied: overrides>=7.3.1 in /anaconda/envs/azureml_py310_sdkv2/lib/python3.10/site-packages (from chromadb) (7.7.0)\nRequirement already satisfied: importlib-resources in /anaconda/envs/azureml_py310_sdkv2/lib/python3.10/site-packages (from chromadb) (6.4.0)\nRequirement already satisfied: grpcio>=1.58.0 in /anaconda/envs/azureml_py310_sdkv2/lib/python3.10/site-packages (from chromadb) (1.64.1)\nRequirement already satisfied: bcrypt>=4.0.1 in /anaconda/envs/azureml_py310_sdkv2/lib/python3.10/site-packages (from chromadb) (4.1.3)\nRequirement already satisfied: typer>=0.9.0 in /anaconda/envs/azureml_py310_sdkv2/lib/python3.10/site-packages (from chromadb) (0.12.3)\nRequirement already satisfied: kubernetes>=28.1.0 in /anaconda/envs/azureml_py310_sdkv2/lib/python3.10/site-packages (from chromadb) (30.1.0)\nRequirement already satisfied: tenacity>=8.2.3 in /anaconda/envs/azureml_py310_sdkv2/lib/python3.10/site-packages (from chromadb) (8.4.2)\nRequirement already satisfied: PyYAML>=6.0.0 in /anaconda/envs/azureml_py310_sdkv2/lib/python3.10/site-packages (from chromadb) (6.0.1)\nRequirement already satisfied: mmh3>=4.0.1 in /anaconda/envs/azureml_py310_sdkv2/lib/python3.10/site-packages (from chromadb) (4.1.0)\nRequirement already satisfied: orjson>=3.9.12 in /anaconda/envs/azureml_py310_sdkv2/lib/python3.10/site-packages (from chromadb) (3.10.5)\nRequirement already satisfied: httpx>=0.27.0 in /anaconda/envs/azureml_py310_sdkv2/lib/python3.10/site-packages (from chromadb) (0.27.0)\nRequirement already satisfied: packaging>=19.1 in /anaconda/envs/azureml_py310_sdkv2/lib/python3.10/site-packages (from build>=1.0.3->chromadb) (24.0)\nRequirement already satisfied: pyproject_hooks in /anaconda/envs/azureml_py310_sdkv2/lib/python3.10/site-packages (from build>=1.0.3->chromadb) (1.1.0)\nRequirement already satisfied: tomli>=1.1.0 in /anaconda/envs/azureml_py310_sdkv2/lib/python3.10/site-packages (from build>=1.0.3->chromadb) (2.0.1)\nRequirement already satisfied: starlette<0.38.0,>=0.37.2 in /anaconda/envs/azureml_py310_sdkv2/lib/python3.10/site-packages (from fastapi>=0.95.2->chromadb) (0.37.2)\nRequirement already satisfied: fastapi-cli>=0.0.2 in /anaconda/envs/azureml_py310_sdkv2/lib/python3.10/site-packages (from fastapi>=0.95.2->chromadb) (0.0.4)\nRequirement already satisfied: jinja2>=2.11.2 in /anaconda/envs/azureml_py310_sdkv2/lib/python3.10/site-packages (from fastapi>=0.95.2->chromadb) (3.1.4)\nRequirement already satisfied: python-multipart>=0.0.7 in /anaconda/envs/azureml_py310_sdkv2/lib/python3.10/site-packages (from fastapi>=0.95.2->chromadb) (0.0.9)\nRequirement already satisfied: ujson!=4.0.2,!=4.1.0,!=4.2.0,!=4.3.0,!=5.0.0,!=5.1.0,>=4.0.1 in /anaconda/envs/azureml_py310_sdkv2/lib/python3.10/site-packages (from fastapi>=0.95.2->chromadb) (5.10.0)\nRequirement already satisfied: email_validator>=2.0.0 in /anaconda/envs/azureml_py310_sdkv2/lib/python3.10/site-packages (from fastapi>=0.95.2->chromadb) (2.2.0)\nRequirement already satisfied: anyio in /anaconda/envs/azureml_py310_sdkv2/lib/python3.10/site-packages (from httpx>=0.27.0->chromadb) (4.4.0)\nRequirement already satisfied: certifi in /anaconda/envs/azureml_py310_sdkv2/lib/python3.10/site-packages (from httpx>=0.27.0->chromadb) (2024.6.2)\nRequirement already satisfied: httpcore==1.* in /anaconda/envs/azureml_py310_sdkv2/lib/python3.10/site-packages (from httpx>=0.27.0->chromadb) (1.0.5)\nRequirement already satisfied: idna in /anaconda/envs/azureml_py310_sdkv2/lib/python3.10/site-packages (from httpx>=0.27.0->chromadb) (3.7)\nRequirement already satisfied: sniffio in /anaconda/envs/azureml_py310_sdkv2/lib/python3.10/site-packages (from httpx>=0.27.0->chromadb) (1.3.1)\nRequirement already satisfied: h11<0.15,>=0.13 in /anaconda/envs/azureml_py310_sdkv2/lib/python3.10/site-packages (from httpcore==1.*->httpx>=0.27.0->chromadb) (0.14.0)\nRequirement already satisfied: six>=1.9.0 in /anaconda/envs/azureml_py310_sdkv2/lib/python3.10/site-packages (from kubernetes>=28.1.0->chromadb) (1.16.0)\nRequirement already satisfied: python-dateutil>=2.5.3 in /anaconda/envs/azureml_py310_sdkv2/lib/python3.10/site-packages (from kubernetes>=28.1.0->chromadb) (2.9.0)\nRequirement already satisfied: google-auth>=1.0.1 in /anaconda/envs/azureml_py310_sdkv2/lib/python3.10/site-packages (from kubernetes>=28.1.0->chromadb) (2.30.0)\nRequirement already satisfied: websocket-client!=0.40.0,!=0.41.*,!=0.42.*,>=0.32.0 in /anaconda/envs/azureml_py310_sdkv2/lib/python3.10/site-packages (from kubernetes>=28.1.0->chromadb) (1.8.0)\nRequirement already satisfied: requests-oauthlib in /anaconda/envs/azureml_py310_sdkv2/lib/python3.10/site-packages (from kubernetes>=28.1.0->chromadb) (2.0.0)\nRequirement already satisfied: oauthlib>=3.2.2 in /anaconda/envs/azureml_py310_sdkv2/lib/python3.10/site-packages (from kubernetes>=28.1.0->chromadb) (3.2.2)\nRequirement already satisfied: urllib3>=1.24.2 in /anaconda/envs/azureml_py310_sdkv2/lib/python3.10/site-packages (from kubernetes>=28.1.0->chromadb) (2.2.1)\nRequirement already satisfied: coloredlogs in /anaconda/envs/azureml_py310_sdkv2/lib/python3.10/site-packages (from onnxruntime>=1.14.1->chromadb) (15.0.1)\nRequirement already satisfied: flatbuffers in /anaconda/envs/azureml_py310_sdkv2/lib/python3.10/site-packages (from onnxruntime>=1.14.1->chromadb) (24.3.25)\nRequirement already satisfied: protobuf in /anaconda/envs/azureml_py310_sdkv2/lib/python3.10/site-packages (from onnxruntime>=1.14.1->chromadb) (4.25.3)\nRequirement already satisfied: sympy in /anaconda/envs/azureml_py310_sdkv2/lib/python3.10/site-packages (from onnxruntime>=1.14.1->chromadb) (1.12.1)\nRequirement already satisfied: deprecated>=1.2.6 in /anaconda/envs/azureml_py310_sdkv2/lib/python3.10/site-packages (from opentelemetry-api>=1.2.0->chromadb) (1.2.14)\nRequirement already satisfied: importlib-metadata<=7.1,>=6.0 in /anaconda/envs/azureml_py310_sdkv2/lib/python3.10/site-packages (from opentelemetry-api>=1.2.0->chromadb) (7.1.0)\nRequirement already satisfied: googleapis-common-protos~=1.52 in /anaconda/envs/azureml_py310_sdkv2/lib/python3.10/site-packages (from opentelemetry-exporter-otlp-proto-grpc>=1.2.0->chromadb) (1.63.1)\nRequirement already satisfied: opentelemetry-exporter-otlp-proto-common==1.25.0 in /anaconda/envs/azureml_py310_sdkv2/lib/python3.10/site-packages (from opentelemetry-exporter-otlp-proto-grpc>=1.2.0->chromadb) (1.25.0)\nRequirement already satisfied: opentelemetry-proto==1.25.0 in /anaconda/envs/azureml_py310_sdkv2/lib/python3.10/site-packages (from opentelemetry-exporter-otlp-proto-grpc>=1.2.0->chromadb) (1.25.0)\nRequirement already satisfied: opentelemetry-instrumentation-asgi==0.46b0 in /anaconda/envs/azureml_py310_sdkv2/lib/python3.10/site-packages (from opentelemetry-instrumentation-fastapi>=0.41b0->chromadb) (0.46b0)\nRequirement already satisfied: opentelemetry-instrumentation==0.46b0 in /anaconda/envs/azureml_py310_sdkv2/lib/python3.10/site-packages (from opentelemetry-instrumentation-fastapi>=0.41b0->chromadb) (0.46b0)\nRequirement already satisfied: opentelemetry-semantic-conventions==0.46b0 in /anaconda/envs/azureml_py310_sdkv2/lib/python3.10/site-packages (from opentelemetry-instrumentation-fastapi>=0.41b0->chromadb) (0.46b0)\nRequirement already satisfied: opentelemetry-util-http==0.46b0 in /anaconda/envs/azureml_py310_sdkv2/lib/python3.10/site-packages (from opentelemetry-instrumentation-fastapi>=0.41b0->chromadb) (0.46b0)\nRequirement already satisfied: setuptools>=16.0 in /anaconda/envs/azureml_py310_sdkv2/lib/python3.10/site-packages (from opentelemetry-instrumentation==0.46b0->opentelemetry-instrumentation-fastapi>=0.41b0->chromadb) (69.5.1)\nRequirement already satisfied: wrapt<2.0.0,>=1.0.0 in /anaconda/envs/azureml_py310_sdkv2/lib/python3.10/site-packages (from opentelemetry-instrumentation==0.46b0->opentelemetry-instrumentation-fastapi>=0.41b0->chromadb) (1.16.0)\nRequirement already satisfied: asgiref~=3.0 in /anaconda/envs/azureml_py310_sdkv2/lib/python3.10/site-packages (from opentelemetry-instrumentation-asgi==0.46b0->opentelemetry-instrumentation-fastapi>=0.41b0->chromadb) (3.8.1)\nRequirement already satisfied: monotonic>=1.5 in /anaconda/envs/azureml_py310_sdkv2/lib/python3.10/site-packages (from posthog>=2.4.0->chromadb) (1.6)\nRequirement already satisfied: backoff>=1.10.0 in /anaconda/envs/azureml_py310_sdkv2/lib/python3.10/site-packages (from posthog>=2.4.0->chromadb) (2.2.1)\nRequirement already satisfied: annotated-types>=0.4.0 in /anaconda/envs/azureml_py310_sdkv2/lib/python3.10/site-packages (from pydantic>=1.9->chromadb) (0.7.0)\nRequirement already satisfied: pydantic-core==2.18.4 in /anaconda/envs/azureml_py310_sdkv2/lib/python3.10/site-packages (from pydantic>=1.9->chromadb) (2.18.4)\nRequirement already satisfied: charset-normalizer<4,>=2 in /anaconda/envs/azureml_py310_sdkv2/lib/python3.10/site-packages (from requests>=2.28->chromadb) (3.3.2)\nRequirement already satisfied: huggingface-hub<1.0,>=0.16.4 in /anaconda/envs/azureml_py310_sdkv2/lib/python3.10/site-packages (from tokenizers>=0.13.2->chromadb) (0.23.4)\nRequirement already satisfied: click>=8.0.0 in /anaconda/envs/azureml_py310_sdkv2/lib/python3.10/site-packages (from typer>=0.9.0->chromadb) (8.1.7)\nRequirement already satisfied: shellingham>=1.3.0 in /anaconda/envs/azureml_py310_sdkv2/lib/python3.10/site-packages (from typer>=0.9.0->chromadb) (1.5.4)\nRequirement already satisfied: rich>=10.11.0 in /anaconda/envs/azureml_py310_sdkv2/lib/python3.10/site-packages (from typer>=0.9.0->chromadb) (13.7.1)\nRequirement already satisfied: httptools>=0.5.0 in /anaconda/envs/azureml_py310_sdkv2/lib/python3.10/site-packages (from uvicorn[standard]>=0.18.3->chromadb) (0.6.1)\nRequirement already satisfied: python-dotenv>=0.13 in /anaconda/envs/azureml_py310_sdkv2/lib/python3.10/site-packages (from uvicorn[standard]>=0.18.3->chromadb) (1.0.1)\nRequirement already satisfied: uvloop!=0.15.0,!=0.15.1,>=0.14.0 in /anaconda/envs/azureml_py310_sdkv2/lib/python3.10/site-packages (from uvicorn[standard]>=0.18.3->chromadb) (0.19.0)\nRequirement already satisfied: watchfiles>=0.13 in /anaconda/envs/azureml_py310_sdkv2/lib/python3.10/site-packages (from uvicorn[standard]>=0.18.3->chromadb) (0.22.0)\nRequirement already satisfied: websockets>=10.4 in /anaconda/envs/azureml_py310_sdkv2/lib/python3.10/site-packages (from uvicorn[standard]>=0.18.3->chromadb) (12.0)\nRequirement already satisfied: dnspython>=2.0.0 in /anaconda/envs/azureml_py310_sdkv2/lib/python3.10/site-packages (from email_validator>=2.0.0->fastapi>=0.95.2->chromadb) (2.6.1)\nRequirement already satisfied: cachetools<6.0,>=2.0.0 in /anaconda/envs/azureml_py310_sdkv2/lib/python3.10/site-packages (from google-auth>=1.0.1->kubernetes>=28.1.0->chromadb) (5.3.3)\nRequirement already satisfied: pyasn1-modules>=0.2.1 in /anaconda/envs/azureml_py310_sdkv2/lib/python3.10/site-packages (from google-auth>=1.0.1->kubernetes>=28.1.0->chromadb) (0.4.0)\nRequirement already satisfied: rsa<5,>=3.1.4 in /anaconda/envs/azureml_py310_sdkv2/lib/python3.10/site-packages (from google-auth>=1.0.1->kubernetes>=28.1.0->chromadb) (4.9)\nRequirement already satisfied: filelock in /anaconda/envs/azureml_py310_sdkv2/lib/python3.10/site-packages (from huggingface-hub<1.0,>=0.16.4->tokenizers>=0.13.2->chromadb) (3.14.0)\nRequirement already satisfied: fsspec>=2023.5.0 in /anaconda/envs/azureml_py310_sdkv2/lib/python3.10/site-packages (from huggingface-hub<1.0,>=0.16.4->tokenizers>=0.13.2->chromadb) (2023.10.0)\nRequirement already satisfied: zipp>=0.5 in /anaconda/envs/azureml_py310_sdkv2/lib/python3.10/site-packages (from importlib-metadata<=7.1,>=6.0->opentelemetry-api>=1.2.0->chromadb) (3.19.2)\nRequirement already satisfied: MarkupSafe>=2.0 in /anaconda/envs/azureml_py310_sdkv2/lib/python3.10/site-packages (from jinja2>=2.11.2->fastapi>=0.95.2->chromadb) (2.1.5)\nRequirement already satisfied: markdown-it-py>=2.2.0 in /anaconda/envs/azureml_py310_sdkv2/lib/python3.10/site-packages (from rich>=10.11.0->typer>=0.9.0->chromadb) (3.0.0)\nRequirement already satisfied: pygments<3.0.0,>=2.13.0 in /anaconda/envs/azureml_py310_sdkv2/lib/python3.10/site-packages (from rich>=10.11.0->typer>=0.9.0->chromadb) (2.18.0)\nRequirement already satisfied: exceptiongroup>=1.0.2 in /anaconda/envs/azureml_py310_sdkv2/lib/python3.10/site-packages (from anyio->httpx>=0.27.0->chromadb) (1.2.0)\nRequirement already satisfied: humanfriendly>=9.1 in /anaconda/envs/azureml_py310_sdkv2/lib/python3.10/site-packages (from coloredlogs->onnxruntime>=1.14.1->chromadb) (10.0)\nRequirement already satisfied: mpmath<1.4.0,>=1.1.0 in /anaconda/envs/azureml_py310_sdkv2/lib/python3.10/site-packages (from sympy->onnxruntime>=1.14.1->chromadb) (1.3.0)\nRequirement already satisfied: mdurl~=0.1 in /anaconda/envs/azureml_py310_sdkv2/lib/python3.10/site-packages (from markdown-it-py>=2.2.0->rich>=10.11.0->typer>=0.9.0->chromadb) (0.1.2)\nRequirement already satisfied: pyasn1<0.7.0,>=0.4.6 in /anaconda/envs/azureml_py310_sdkv2/lib/python3.10/site-packages (from pyasn1-modules>=0.2.1->google-auth>=1.0.1->kubernetes>=28.1.0->chromadb) (0.6.0)\nNote: you may need to restart the kernel to use updated packages.\nRequirement already satisfied: pypdf in /anaconda/envs/azureml_py310_sdkv2/lib/python3.10/site-packages (4.2.0)\nRequirement already satisfied: typing_extensions>=4.0 in /anaconda/envs/azureml_py310_sdkv2/lib/python3.10/site-packages (from pypdf) (4.12.2)\nNote: you may need to restart the kernel to use updated packages.\n"
        }
      ],
      "execution_count": 22,
      "metadata": {
        "gather": {
          "logged": 1719382748189
        },
        "id": "QxUxWYS4xd91",
        "jupyter": {
          "outputs_hidden": true
        }
      }
    },
    {
      "cell_type": "code",
      "source": [
        "# 2. 기본 패키지 설정 & AzureOpenAI 환경설정\n",
        "\n",
        "# 환경 변수 설정!! \n",
        "import os\n",
        "import langchain\n",
        "\n",
        "from config_azure import (\n",
        "    AZURE_OPENAI_API_VERSION,\n",
        "    AZURE_OPENAI_ENDPOINT,\n",
        "    AZURE_OPENAI_KEY\n",
        ")\n",
        "# lagchain 사용시 반드시 환경변수 값 사용!!\n",
        "os.environ[\"OPENAI_API_TYPE\"] = \"azure\"\n",
        "os.environ[\"AZURE_OPENAI_API_KEY\"] = AZURE_OPENAI_KEY\n",
        "os.environ[\"AZURE_OPENAI_ENDPOINT\"] = AZURE_OPENAI_ENDPOINT\n",
        "os.environ[\"OPENAI_API_VERSION\"] = AZURE_OPENAI_API_VERSION"
      ],
      "outputs": [],
      "execution_count": 23,
      "metadata": {
        "collapsed": false,
        "gather": {
          "logged": 1719382748760
        },
        "id": "Ua4tsQUd_FBG",
        "jupyter": {
          "outputs_hidden": false,
          "source_hidden": false
        },
        "nteract": {
          "transient": {
            "deleting": false
          }
        }
      }
    },
    {
      "cell_type": "code",
      "source": [
        "#3 pdf 문서 읽어 오기\n",
        "# [제공 문서]\n",
        "# 2024GenAI_Mineral.pdf\n",
        "\n",
        "from langchain_community.document_loaders import PyPDFLoader\n",
        "\n",
        "loader = PyPDFLoader(\"2024GenAI_Mineral.pdf\")\n",
        "pages = loader.load_and_split()\n",
        "pages"
      ],
      "outputs": [
        {
          "output_type": "execute_result",
          "execution_count": 24,
          "data": {
            "text/plain": "[Document(page_content='- 1 -\\n광부 보도자료\\n보도시점 2024. 2. 20.(화) 12:00 배포2024. 2. 20.(화) 08:00\\n10대 ‧ 20대 절반 이상이 혈중 엽산 부족\\n- 10대와 20대에서 , 여자보다 남자에서 , 혈중 엽산 결핍 비율이 높아\\n  *(혈중 엽산 부족 비율) 10대 남자 63.5%( 여자 51.2%), 20대 남자 71.3%( 여자 46.0%)\\n- 엽산 섭취량은 권장섭취량의 약 77%(‘22년 기준), 20대에서 가장 낮아 \\n-심혈관질환 등 만성질환의 예방‧관리를 위해 적정 혈중 엽산 농도 유지 필요\\n  질병관리청 (청장 지영미 )은 “우리나라 청소년과 젊은 성인의 절반 이상에서 \\n혈중 엽산이 적정 수준에 미치지 못해 부족 상태”라는 연구 결과를 전문 학술지에 \\n발표하였다 .\\n  엽산(또는 비타민 B9)은 세포성장과 분열에 중요한 역할을 하는 수용성 \\n비타민 으로, 태아의 성장 발달을 위해 임신 전 및 임신·수유기 여성이 충분히 \\n섭취해야 하는 영양소 로 잘 알려져 있다.\\n  또한 성인에서의 혈중 엽산 결핍은 심혈관질환 등 만성질환 발생과 연관성 이 \\n있는 것으로 보고되고 있다.\\n  국립보건연구원은 「국민건강영양조사 제6기(2013-2015) 」 자료를 활용하여 \\n우리나라 10세 이상 남녀 8,016 명의 혈중 엽산, 비타민 B12* 및 호모시스테인** \\n농도를 비교 분석하였다 .\\n*비타민B12:세포분열과신경계기능에역할을하는비타민으로,동물성식품섭취\\n부족및노화로인한흡수불량으로결핍될수있음.\\n**호모시스테인:엽산을포함한비타민B군섭취부족시증가하는황-함유아미노산으로\\n높은호모시스테인농도는동맥의손상과혈관의혈전을유발할수있음.\\n<혈중엽산및비타민B12상태분석기준치>\\n-(혈중엽산)세계보건기구(WHO)기준*에따라6.8nmol/L미만일경우결핍,\\n6.8-13.4nmol/L미만일경우경계결핍으로분류하여분석\\n*큰적혈구빈혈발생기준으로제안한기준치\\n-(비타민B12)미국국립의학원(USNationalAcademyofMedicine)등제안에따라\\n148pmol/L미만은결핍,148-221pmol/L미만은경계결핍으로분류하여분석', metadata={'source': '2024GenAI_Mineral.pdf', 'page': 0}),\n Document(page_content='- 2 -  연구 결과에 따르면 , 혈중 엽산의 경우 10세 이상 남녀의 5.1%가 결핍, 31%가 \\n경계 결핍으로 나타났다 . \\n  특히 10대와 20대에서 혈중 엽산의 결핍 비율이 더 높았다 . 10대와 20대는 \\n약 13%가 결핍, 45% 이상이 경계 결핍으로 나타나 , 10대 청소년과 20대 젊은 \\n성인의 절반 이상(약 59%)이 엽산 부족 상태인 것으로 나타났다 . \\n  또한 여자보다는 남자*에서 혈중 엽산의 결핍 비율이 더 높았으며 , 특히 10대 \\n남자의 60% 이상, 20대 남자의 70% 이상에서 혈중 엽산 농도가 적정 수준 \\n미달**인 것으로 확인되었다 . \\n*(남자)결핍8.6%,경계결핍41%/(여자)결핍1.7%,경계결핍21%   \\n**(10대남자)결핍16.8.%,경계결핍46.6%/(20대남자)결핍19.3%,경계결핍52.1%\\n<성별및연령대별혈중엽산상태>\\n  한편, 비타민 B12의 결핍 또는 경계 결핍 비율은 남자 2.9%, 여자 1.1%로 \\n남자에서 더 높았으며 , 고호모시스테인혈증 (혈중호모시스테인농도15μmol/L초과) \\n비율도 남자 11.8%, 여자 1.6%로 남자가 여자보다 7배 이상 높았다 . 혈중 \\n엽산 농도나 비타민 B12 농도가 낮은 사람일수록 혈중 호모시스테인 농도가 \\n높은 것으로 나타났다 .\\n  이번 연구 성과는 공중보건 분야 국제학술지 ‘역학과 건강(Epidemiology \\nand Health)’ 46권에 게재되었다 (붙임 1 참고).\\n  아울러 , 국민건강영양조사에서는 제7기(2016-2018) 부터 식품의 엽산 함량 \\n데이터베이스 (DB)를 자체적으로 구축하여 엽산 섭취량을 산출하고 있다.', metadata={'source': '2024GenAI_Mineral.pdf', 'page': 1}),\n Document(page_content='- 3 -  엽산 섭취량은 2016년 이후 다소 감소하는 경향이며, 2022년 기준 엽산 \\n1일 평균 섭취량 (1세이상 , 표준화 )은 280 ㎍ DFE(Dietary Folate Equivalents, \\n식이엽산당량 )으로 권장섭취량 대비 76.6% 수준이었다 . 연령별로는 20대(권장섭취량 \\n대비 61.2% )의 엽산 섭취가 다른 연령에 비해 낮았다 (붙임 2 참고).\\n  지영미 질병관리청장 은 “심혈관질환 등 만성질환의 예방 ‧ 관리를 위해 혈중 \\n엽산 상태를 적정수준으로 유지하는 것이 중요하다 .”라며, 특히 “젊은 \\n연령층에서 엽산 결핍이 건강에 미치는 장기적인 영향을 조사하고 결핍 수준을 \\n개선하기 위한 연구가 필요하다 ”라고 강조하였다 . \\n  또한 “질병청은 국민건강영양조사 를 통해 우리 국민의 건강 및 영양 수준을 \\n파악하고, 조사 자료 기반의 건강증진 및 만성질환 관련 연구를 지속 수행하여 \\n건강정책 마련의 근거를 생산해 나가겠다 .”라고 밝혔다 .\\n<붙임>1.연구성과주요내용설명\\n2.국민건강영양조사 엽산섭취량결과\\n3.국민건강영양조사 개요\\n담당 부서미래의료연구부책임자 과  장 이경호(043-719-6710)\\n<총괄>유전체역학과담당자 연구관 임중연(043-719-6720)\\n담당 부서만성질환관리국책임자 과  장 오경원(043-719-7460)\\n<협조>건강영양조사분석과담당자 연구관 최선혜(043-719-7461)', metadata={'source': '2024GenAI_Mineral.pdf', 'page': 2}),\n Document(page_content='- 4 -붙임 1 붙임 1 연구성과 주요내용 \\n   \\n□ 논문 정보 \\n논문명Folate, vitamin B12, and homocysteine status in the Korean \\npopulation: data from the 2013–2015 Korea National Health and \\nNutrition Examination Survey\\n저널명 Epidemiology and Health\\n저자 송시한 , 송보미 , 박현영\\n□ 연구의 배경 및 필요성\\n ㅇ 엽산과 비타민 B12는 전 생애에 걸쳐 건강에 영향을 미치는 필수 비타민이나 , \\n해당 비타민 상태에 대한 국가 수준 자료는 부족한 실정임\\n ㅇ 이에 따라, 국가연구조사자료를 활용하여 엽산과 비타민 B12, 그리고 이들의 \\n기능적 지표인 호모시스테인 상태를 평가함\\n□ 연구내용\\n ㅇ 본 연구는 국민건강영양조사 (2013-2015) 10세 이상 참여자 8,016명(남자 \\n3,931명, 여자 4,085명)으로부터 수집된 혈청에서 엽산, 비타민 B12, 호모시\\n스테인 농도를 측정하여 분포 및 적정 상태를 평가함\\n  - 엽산과 비타민 B12가 적정 수준 미만인 비율과 호모시스테인이 적정 수준을 \\n초과하는 비율은 남자가 여자보다 높았음\\n<성별혈중지표상태>', metadata={'source': '2024GenAI_Mineral.pdf', 'page': 3}),\n Document(page_content='- 5 -   \\n  - 호모시스테인은 엽산과 비타민 B12의 기능적 지표이며 , 알려진 바와 같이 \\n낮은 엽산과 비타민 B12 농도에서 높은 호모시스테인 농도가 관찰되었고 , \\n특히 남자에서 엽산 수준에 따른 호모시스테인 변화가 컸음\\n <혈중엽산,비타민B12수준에따른호모시스테인보정평균>\\n  \\n□ 기대효과\\n ㅇ 본 연구 결과는 국가 수준 자료로부터 혈중 엽산과 비타민 B12, 그리고 \\n이들의 기능적 지표인 호모시스테인 상태를 연령과 성별에 따라 평가함\\n ㅇ 추후 한국인의 적정 엽산 ‧ 비타민 B12 수준 충족을 위한 기반 근거로 \\n활용될 것으로 기대함', metadata={'source': '2024GenAI_Mineral.pdf', 'page': 4}),\n Document(page_content='- 6 -붙임 2 붙임 2 국민건강영양조사 엽산 섭취량 결과\\n□ 엽산 1일 평균 섭취량 (㎍ DFE)1), 2016-2022\\n구분’16 ’17 ’18 ’19 ’20 ’21 ’22\\n평균표준\\n오차평균표준\\n오차평균표준\\n오차평균표준\\n오차평균표준\\n오차평균표준\\n오차평균표준\\n오차\\n전체1세이상 \\n(표준화 )2)307.2 (3.1) 301.1 (3.5) 292.5 (2.8) 291.3 (2.9) 278.6 (2.7) 285.8 (3.6) 280.4 (2.8)\\n1-9 210.8 (4.7) 222.8 (7.4) 194.1 (5.4) 203.0 (4.4) 198.1 (7.1) 210.6 (6.2) 215.6 (6.4)\\n10-18 262.4 (6.0) 263.8 (7.7) 264.2 (9.6) 256.1 (7.0) 234.6 (7.5) 255.3 (9.0) 243.4 (7.1)\\n19-29 274.5 (6.8) 266.4 (7.3) 266.0 (5.6) 264.6 (7.1) 251.3 (6.5) 259.3 (8.7) 245.3 (5.9)\\n30-39 326.4 (6.6) 312.6 (7.4) 296.3 (6.2) 297.2 (6.6) 287.7 (7.0) 282.0 (6.2) 264.6 (5.8)\\n40-49 354.5 (7.3) 347.2 (6.5) 333.9 (6.4) 326.4 (6.9) 304.3 (5.6) 316.3 (7.3) 310.0 (6.2)\\n50-59 377.1 (8.3) 362.1 (7.5) 355.4 (6.4) 358.1 (7.3) 342.4 (7.0) 344.7 (6.7) 342.1 (7.6)\\n60-69 364.5 (7.9) 356.4 (8.2) 357.2 (8.1) 353.7 (7.5) 343.5 (7.6) 350.7 (7.2) 362.2 (7.0)\\n70+ 279.4 (6.2) 275.2 (8.6) 283.7 (7.1) 286.3 (6.4) 301.0 (8.6) 302.8 (6.2) 330.3 (7.2)\\n남자1세이상 \\n(표준화 )337.9 (4.1) 332.5 (4.9) 323.8 (3.9) 318.9 (4.0) 306.2 (3.4) 314.9 (4.9) 303.8 (3.4)\\n1-9 221.8 (6.3) 244.9 (13.2) 201.8 (6.5) 210.4 (6.2) 205.1 (8.2) 210.9 (7.4) 228.7 (8.1)\\n10-18 289.3 (9.4) 301.5 (11.8) 293.6 (14.9) 276.4 (10.7) 259.2 (11.1) 286.8 (14.1) 259.5 (10.5)\\n19-29 298.5 (10.9) 288.7 (10.7) 291.6 (8.0) 290.7 (10.8) 283.9 (9.8) 289.1 (14.3) 274.7 (7.9)\\n30-39 360.0 (9.2) 344.9 (12.0) 327.8 (9.1) 330.8 (8.7) 317.8 (10.9) 315.2 (9.5) 288.6 (8.6)\\n40-49 389.9 (11.7) 380.7 (9.2) 371.4 (9.5) 354.9 (8.4) 339.5 (9.3) 352.7 (11.6) 322.7 (8.7)\\n50-59 412.1 (12.6) 393.6 (9.6) 392.9 (9.9) 388.7 (9.9) 362.1 (10.0) 375.4 (9.4) 375.4 (10.7)\\n60-69 400.7 (12.0) 390.9 (11.6) 398.2 (11.6) 389.1 (11.2) 371.7 (11.8) 378.6 (10.4) 396.4 (9.8)\\n70+ 337.5 (10.1) 325.4 (11.5) 340.1 (9.4) 336.4 (10.5) 344.3 (12.2) 343.8 (9.5) 368.8 (8.4)\\n여자1세이상 \\n(표준화 )276.2 (3.3) 269.1 (3.3) 260.6 (3.2) 263.1 (3.2) 250.0 (3.5) 255.6 (3.5) 256.5 (3.3)\\n1-9 199.1 (5.4) 199.5 (7.3) 186.0 (6.7) 195.2 (5.2) 190.8 (8.8) 210.2 (9.6) 201.8 (8.1)\\n10-18 232.3 (7.3) 221.9 (7.4) 233.0 (11.3) 233.8 (6.9) 205.5 (8.7) 220.9 (8.6) 225.5 (8.7)\\n19-29 247.8 (8.4) 241.5 (8.9) 236.7 (7.6) 235.3 (8.7) 216.5 (8.0) 226.1 (7.6) 213.4 (7.4)\\n30-39 290.1 (7.2) 277.7 (6.2) 262.1 (6.9) 260.6 (8.0) 254.5 (7.2) 245.1 (7.2) 238.2 (6.8)\\n40-49 317.8 (8.1) 312.6 (8.8) 294.9 (7.4) 296.8 (9.2) 267.7 (5.8) 278.2 (7.1) 296.8 (7.6)\\n50-59 341.7 (8.5) 330.3 (9.6) 317.7 (6.5) 327.4 (8.5) 322.5 (8.6) 313.6 (7.9) 308.5 (9.3)\\n60-69 330.6 (9.1) 324.0 (8.0) 318.1 (9.1) 320.2 (9.0) 316.6 (6.9) 324.2 (7.5) 333.8 (7.9)\\n70+ 241.6 (5.9) 242.0 (8.0) 245.6 (8.4) 252.2 (6.0) 271.0 (8.6) 274.4 (7.1) 298.2 (9.1)\\n1) 식품으로부터 섭취한 엽산 1일 섭취량의 평균\\n2) 2005년 추계인구로 연령표준화', metadata={'source': '2024GenAI_Mineral.pdf', 'page': 5}),\n Document(page_content='- 7 -□ 엽산 1일 권장섭취량1) 대비 엽산 섭취 비율(%), 2016-2022\\n구분’16 ’17 ’18 ’19 ’20 ’21 ’22\\n비율표준\\n오차비율표준\\n오차비율표준\\n오차비율표준\\n오차비율표준\\n오차비율표준\\n오차비율표준\\n오차\\n전체1세이상 \\n(표준화 )2)83.2 (0.8) 82.0 (1.0) 79.3 (0.7) 79.0 (0.8) 75.7 (0.8) 78.0 (0.9) 76.6 (0.8)\\n1-9 106.9 (2.4) 111.8 (3.9) 99.0 (2.8) 101.0 (2.1) 98.2 (3.1) 105.9 (3.4) 104.9 (2.6)\\n10-18 71.9 (1.7) 72.2 (2.1) 72.3 (2.5) 70.4 (1.9) 64.9 (2.0) 70.5 (2.4) 68.2 (2.0)\\n19-29 68.1 (1.7) 66.3 (1.8) 66.3 (1.4) 66.0 (1.8) 62.7 (1.6) 64.6 (2.2) 61.2 (1.5)\\n30-39 80.0 (1.7) 76.8 (1.8) 73.3 (1.5) 73.4 (1.6) 71.4 (1.8) 69.8 (1.5) 65.7 (1.5)\\n40-49 88.5 (1.8) 86.8 (1.6) 83.4 (1.6) 81.5 (1.7) 76.0 (1.4) 79.0 (1.8) 77.5 (1.6)\\n50-59 94.3 (2.1) 90.5 (1.9) 88.8 (1.6) 89.5 (1.8) 85.6 (1.8) 86.2 (1.7) 85.5 (1.9)\\n60-69 91.1 (2.0) 89.1 (2.1) 89.3 (2.0) 88.4 (1.9) 85.9 (1.9) 87.7 (1.8) 90.5 (1.8)\\n70+ 69.8 (1.5) 68.8 (2.2) 70.9 (1.8) 71.6 (1.6) 75.2 (2.2) 75.7 (1.6) 82.6 (1.8)\\n남자1세이상 \\n(표준화 )91.6 (1.1) 91.0 (1.4) 87.6 (1.0) 86.2 (1.0) 82.9 (0.9) 85.7 (1.3) 82.7 (0.9)\\n1-9 112.8 (3.3) 125.1 (7.0) 102.8 (3.1) 104.1 (2.7) 101.9 (3.6) 107.3 (4.2) 109.6 (3.4)\\n10-18 78.8 (2.7) 82.0 (3.2) 79.9 (3.8) 75.5 (2.7) 71.0 (2.8) 78.6 (3.7) 72.7 (3.0)\\n19-29 74.6 (2.7) 72.2 (2.7) 72.9 (2.0) 72.7 (2.7) 71.0 (2.5) 72.3 (3.6) 68.7 (2.0)\\n30-39 90.0 (2.3) 86.2 (3.0) 82.0 (2.3) 82.7 (2.2) 79.5 (2.7) 78.8 (2.4) 72.2 (2.1)\\n40-49 97.5 (2.9) 95.2 (2.3) 92.9 (2.4) 88.7 (2.1) 84.9 (2.3) 88.2 (2.9) 80.7 (2.2)\\n50-59 103.0 (3.1) 98.4 (2.4) 98.2 (2.5) 97.2 (2.5) 90.5 (2.5) 93.9 (2.4) 93.8 (2.7)\\n60-69 100.2 (3.0) 97.7 (2.9) 99.5 (2.9) 97.3 (2.8) 92.9 (2.9) 94.6 (2.6) 99.1 (2.5)\\n70+ 84.4 (2.5) 81.3 (2.9) 85.0 (2.3) 84.1 (2.6) 86.1 (3.0) 86.0 (2.4) 92.2 (2.1)\\n여자1세이상 \\n(표준화 )74.6 (0.9) 72.7 (0.9) 70.9 (0.8) 71.6 (0.8) 68.2 (1.0) 70.1 (1.0) 70.3 (0.9)\\n1-9 100.6 (2.6) 97.8 (3.4) 95.1 (3.8) 97.7 (2.8) 94.3 (4.0) 104.3 (5.1) 100.0 (3.8)\\n10-18 64.1 (2.1) 61.3 (2.2) 64.1 (3.1) 64.9 (1.9) 57.6 (2.5) 61.7 (2.5) 63.3 (2.4)\\n19-29 60.8 (2.0) 59.8 (2.2) 58.8 (1.9) 58.5 (2.2) 53.8 (2.0) 56.1 (1.9) 53.2 (1.8)\\n30-39 69.2 (1.7) 66.6 (1.5) 64.0 (1.6) 63.3 (1.9) 62.6 (1.8) 59.8 (1.8) 58.6 (1.7)\\n40-49 79.2 (2.0) 78.1 (2.2) 73.6 (1.8) 74.0 (2.3) 66.7 (1.5) 69.4 (1.8) 74.1 (1.9)\\n50-59 85.4 (2.1) 82.6 (2.4) 79.4 (1.6) 81.8 (2.1) 80.6 (2.2) 78.4 (2.0) 77.1 (2.3)\\n60-69 82.7 (2.3) 81.0 (2.0) 79.5 (2.3) 80.1 (2.2) 79.2 (1.7) 81.0 (1.9) 83.4 (2.0)\\n70+ 60.4 (1.5) 60.5 (2.0) 61.4 (2.1) 63.1 (1.5) 67.8 (2.2) 68.6 (1.8) 74.5 (2.3)\\n1) 권장섭취량\\n   - 제7, 8기(2016-2021): 2015 한국인 영양소 섭취기준 (보건복지부 , 2015)\\n   - 제9기 1차년도 (2022): 2020 한국인 영양소 섭취기준 (보건복지부 , 2020)\\n2) 2005년 추계인구로 연령표준화', metadata={'source': '2024GenAI_Mineral.pdf', 'page': 6}),\n Document(page_content='- 8 -붙임 3 붙임 3 국민건강영양조사 개요 \\n□ 사업목적\\n ○『국민건강증진법 』(제16조)에 근거하여 국민의 건강·영양 수준 파악\\n  - 흡연, 음주, 신체활동 , 정신건강 등 건강행태와 영양소 섭취 수준 \\n  - 비만, 고혈압 , 당뇨병 , 이상지질혈증 , 구강질환 등에 대한 유병 현황\\n ○ 건강증진 및 만성질환 예방관리 정책 효과 모니터링 지표 산출\\n  - \\uf000국민건강증진종합계획 \\uf000 만성질환 및 건강생활실천 목표지표 산출\\n  - WHO, OECD 등에서 요구하는 국가 간 비교를 위한 보건지표 제공\\n□ 추진경과\\n ○ ’98년 국민건강영양조사 도입, ’05년까지 3년마다 국민건강통계 생산\\n ○ ’07년부터 연중조사체계로 개편, 매년 국가건강통계 생산\\n ○ ’08년 이동검진차량 도입, 전문학회와 협력하여 구강질환 , 호흡기질환 , \\n안질환 , 이비인후질환 등 공동조사 실시\\n ○ ’20년 9월 질병관리청 개청으로 조사수행업무 권역 질병대응센터로 이관\\n□ 조사내용\\n ○ (대상) 매년 192개 조사구 , 4,800 가구, 1세 이상 가구원 약 1만 명\\n ○ (방법) 전문조사수행팀에 의한 면접 및 검진, 연중조사\\n ○ (항목) 건강행태 (흡연, 음주, 신체활동 등), 영양섭취 , 만성질환 등 약 400개\\n구분 조사영역 비고\\n검진비만,고혈압,당뇨병,이상지질혈증,간질환,신장질환,빈혈,구강질환,\\n근력,체성분검사,폐기능검사,골밀도검사등\\n이동검\\n진차량\\n내(內)\\n조사건강\\n설문흡연,음주,신체활동,정신건강,안전의식,질병이환,의료이용,활동제한\\n및삶의질,손상,예방접종및건강검진,여성건강,교육및경제활동,\\n가구조사\\n영양결식,외식,동반식사,영양지식,식이보충제,수유․이유현황등식생활,\\n식품안정성,음식및식품섭취\\n※제9기3차년도(2024)기준', metadata={'source': '2024GenAI_Mineral.pdf', 'page': 7})]"
          },
          "metadata": {}
        }
      ],
      "execution_count": 24,
      "metadata": {
        "jupyter": {
          "source_hidden": false,
          "outputs_hidden": true
        },
        "nteract": {
          "transient": {
            "deleting": false
          }
        },
        "gather": {
          "logged": 1719382753817
        }
      }
    },
    {
      "cell_type": "code",
      "source": [
        "# 4. Vetor Store에 텍스트 벡터값 저장(검색가능함)\n",
        "\n",
        "# Vector store는 ChromaDB 또는 FAISS 를 사용한다.\n",
        "from langchain_openai import AzureOpenAIEmbeddings\n",
        "from langchain.vectorstores import Chroma\n",
        "\n",
        "# Embedding 모델은 text-embedding-ada-002 를 사용한다.\n",
        "embedding_model = AzureOpenAIEmbeddings(\n",
        "    azure_deployment=\"text-embedding-ada-002\",\n",
        ")\n",
        "\n",
        "# 문서 -> 벡터 변환\n",
        "vectorstore = Chroma.from_documents(pages, embedding_model) # 숫자, 벡터 형태\n",
        "#리트리버가 유사한 문서를 찾아서 벡터가 아닌 문자 형태로 변황!\n",
        "retriever = vectorstore.as_retriever(search_type=\"similarity\", search_kwargs={\"k\":3})\n"
      ],
      "outputs": [],
      "execution_count": 25,
      "metadata": {
        "gather": {
          "logged": 1719382757240
        },
        "id": "SbZWItYx_FBH"
      }
    },
    {
      "cell_type": "code",
      "source": [
        "# 5. OpenAI LLM(Chat Model 연결)\n",
        "# 언어 모델은 gpt-35-turbo , gpt-35-turbo-instruct 둘 중 하나를 사용하거나 두\n",
        "# 개 모두 사용할 수 있다.\n",
        "# 최대 출력 토큰 수는 512 이하로 설정한다.\n",
        "\n",
        "from langchain_openai import AzureChatOpenAI\n",
        "\n",
        "chat_llm = AzureChatOpenAI(\n",
        "    deployment_name=\"gpt-35-turbo\",\n",
        "    max_tokens=512, \n",
        "    temperature=0.2,\n",
        ")"
      ],
      "outputs": [],
      "execution_count": 27,
      "metadata": {
        "collapsed": false,
        "gather": {
          "logged": 1719382777925
        },
        "id": "cUQyT2wV_FBI",
        "jupyter": {
          "outputs_hidden": false,
          "source_hidden": false
        },
        "nteract": {
          "transient": {
            "deleting": false
          }
        }
      }
    },
    {
      "cell_type": "code",
      "source": [
        "# 6. Chain 연결 without LCEL\n",
        "\n",
        "from langchain.chains import RetrievalQA\n",
        "\n",
        "qa_chain = RetrievalQA.from_chain_type(\n",
        "    llm=chat_llm,\n",
        "    chain_type=\"stuff\",\n",
        "    retriever=retriever,\n",
        "    return_source_documents=False)"
      ],
      "outputs": [],
      "execution_count": 28,
      "metadata": {
        "collapsed": false,
        "gather": {
          "logged": 1719382780837
        },
        "id": "1w23KOS0_FBI",
        "jupyter": {
          "outputs_hidden": false,
          "source_hidden": false
        },
        "nteract": {
          "transient": {
            "deleting": false
          }
        }
      }
    },
    {
      "cell_type": "code",
      "source": [
        "# 7. [구현 사항] 아래 3개 질문에 대한 LLM 모델의 답 3개를 JSON 형태로 출력한다.\n",
        "\n",
        "# * query1 = \"파일의 주요 내용을 1줄로 요약해줘\"\n",
        "# * query2 = \"2021년 기준 20대의 1일 평균 엽산 섭취량을 알려줘\"\n",
        "# * query3 = \"질병관리청에서 추천하는 비타민12가 많이 들어있는 음식 3가지를 알려줘\"\n",
        "\n",
        "query1 = {\"query\" : \"파일의 주요 내용을 1줄로 요약해줘\"}\n",
        "query2 = {\"query\" : \"2021년 기준 20대의 1일 평균 엽산 섭취량을 알려줘\"}\n",
        "query3 = {\"query\" : \"질병관리청에서 추천하는 비타민12가 많이 들어있는 음식 3가지를 알려줘\"}\n",
        "\n",
        "queries = [query1, query2, query3]"
      ],
      "outputs": [],
      "execution_count": 29,
      "metadata": {
        "collapsed": false,
        "gather": {
          "logged": 1719382783127
        },
        "id": "zhVP7Ukj_FBI",
        "jupyter": {
          "outputs_hidden": false,
          "source_hidden": false
        },
        "nteract": {
          "transient": {
            "deleting": false
          }
        }
      }
    },
    {
      "cell_type": "code",
      "source": [
        "# 8. Custom Prompt\n",
        "\n",
        "from langchain.prompts import PromptTemplate\n",
        "\n",
        "# [기능 요구사항]\n",
        "# 사용자 질문에 대해 짧고 간략한 답변을 제시한다.\n",
        "# 문서에 나와있지 않은 내용에 대해서는 명시되어있지 않다고 답변해야한다.\n",
        "# 모든 답변은 “질병관리청에서 알려드립니다.”로 시작한다.\n",
        "\n",
        "custom_template = '''사용자 질문에 대해 짧고 간략한 답변을 제시한다.\n",
        "문서에 나와있지 않은 내용에 대해서는 명시되어있지 않다고 답변해야한다.\n",
        "모든 답변은 “질병관리청에서 알려드립니다.”로 시작한다.\n",
        "\n",
        "* 자료 : {context}\n",
        "* 사용자 질문 : {question}\n",
        "'''\n",
        "custom_prompt = PromptTemplate(\n",
        "    template=custom_template,\n",
        "    input_variables=[\n",
        "        'context',\n",
        "        'question',\n",
        "    ]\n",
        ")\n",
        "\n",
        "new_chain = RetrievalQA.from_chain_type(llm=chat_llm,\n",
        "                                        chain_type=\"stuff\",\n",
        "                                        retriever=retriever,\n",
        "                                        return_source_documents=False,\n",
        "                                        chain_type_kwargs={\"prompt\": custom_prompt})\n",
        "\n",
        "# 주어지는 사용자 질문(query)에 대한 결과를 ai_response 로 반환한다.\n",
        "ai_response = new_chain.batch(queries)\n"
      ],
      "outputs": [],
      "execution_count": null,
      "metadata": {
        "gather": {
          "logged": 1719383615016
        }
      }
    },
    {
      "cell_type": "code",
      "source": [
        "# 아래 형식에 맞춰 결과를 출력해주세요\n",
        "# key 값이 다음과 완전히 일치해야 채점이 진행됩니다 : name, team , ID_number,\n",
        "# ai_response1, ai_response2, ai_response3\n",
        "\n",
        "final_result = {\n",
        "\"name\": \"좌경윤\",\n",
        "\"team\" : \"System개발팀\",\n",
        "\"ID_number\": \"97158424\",\n",
        "\"ai_response1\": ai_response[0][\"result\"],\n",
        "\"ai_response2\": ai_response[1][\"result\"],\n",
        "\"ai_response3\": ai_response[2][\"result\"]\n",
        "}\n",
        "\n",
        "# JSON으로 출력\n",
        "import json\n",
        "print(json.dumps(final_result, ensure_ascii=False))"
      ],
      "outputs": [
        {
          "output_type": "stream",
          "name": "stdout",
          "text": "{\"name\": \"좌경윤\", \"team\": \"System개발팀\", \"ID_number\": \"97158424\", \"ai_response1\": \"질병관리청에서 실시하는 국민건강영양조사에서는 국민의 건강·영양 수준을 파악하고 건강증진 및 만성질환 예방관리 정책 효과 모니터링 지표를 산출하며, 이에 대한 연구 결과 중 하나는 2013-2015 국민건강영양조사에서 수집된 혈청에서 엽산, 비타민 B12, 호모시스테인 농도를 측정하여 분포 및 적정 상태를 평가한 것이다.\", \"ai_response2\": \"질병관리청에서 알려드립니다. 2021년 기준 20대의 1일 평균 엽산 섭취량은 259.3 (㎍ DFE)입니다.\", \"ai_response3\": \"질병관리청에서 알려드립니다. 높은 비타민 B12 함량을 가진 음식으로는 소고기, 연어, 훈제연어 등이 있습니다. 하지만, 비타민 B12 섭취량이 부족한 경우에는 보충제를 복용하는 것이 좋습니다.\"}\n"
        }
      ],
      "execution_count": 34,
      "metadata": {
        "jupyter": {
          "source_hidden": false,
          "outputs_hidden": false
        },
        "nteract": {
          "transient": {
            "deleting": false
          }
        },
        "gather": {
          "logged": 1719383794500
        }
      }
    }
  ],
  "metadata": {
    "colab": {
      "provenance": []
    },
    "kernel_info": {
      "name": "python310-sdkv2"
    },
    "kernelspec": {
      "name": "python310-sdkv2",
      "language": "python",
      "display_name": "Python 3.10 - SDK v2"
    },
    "language_info": {
      "name": "python",
      "version": "3.10.14",
      "mimetype": "text/x-python",
      "codemirror_mode": {
        "name": "ipython",
        "version": 3
      },
      "pygments_lexer": "ipython3",
      "nbconvert_exporter": "python",
      "file_extension": ".py"
    },
    "microsoft": {
      "host": {
        "AzureML": {
          "notebookHasBeenCompleted": true
        }
      }
    },
    "nteract": {
      "version": "nteract-front-end@1.0.0"
    }
  },
  "nbformat": 4,
  "nbformat_minor": 4
}